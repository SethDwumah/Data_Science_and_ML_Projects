{
 "cells": [
  {
   "cell_type": "code",
   "execution_count": 35,
   "id": "901d3725",
   "metadata": {},
   "outputs": [],
   "source": [
    "import csv\n",
    "import requests\n",
    "from bs4 import BeautifulSoup\n",
    "import pandas as pd"
   ]
  },
  {
   "cell_type": "code",
   "execution_count": 36,
   "id": "ad34ba1b",
   "metadata": {},
   "outputs": [],
   "source": [
    "url = 'https://www.bbc.com/sport/football/premier-league/results'"
   ]
  },
  {
   "cell_type": "code",
   "execution_count": 37,
   "id": "1fdb5060",
   "metadata": {},
   "outputs": [],
   "source": [
    "response = requests.get(url)"
   ]
  },
  {
   "cell_type": "code",
   "execution_count": 39,
   "id": "426712fd",
   "metadata": {},
   "outputs": [
    {
     "name": "stdout",
     "output_type": "stream",
     "text": [
      "Request failed with status code 404\n"
     ]
    }
   ],
   "source": [
    "if response.status_code ==200:\n",
    "    \n",
    "    soup = BeautifulSoup(respinse.content, 'html.parser')\n",
    "    results_table = soup.find('table', class_='gel-long-primer')\n",
    "    \n",
    "    \n",
    "    for row in results_table.find_all('tr'):\n",
    "        columns = row.find_all('td')\n",
    "        \n",
    "        if columns:\n",
    "            home_team = columns[0].text.strip()\n",
    "            away_team = columns[1].text.strip()\n",
    "            \n",
    "            score = columns[2].text.strip()\n",
    "            print(home_team,away_team,score)\n",
    "            \n",
    "else:\n",
    "    print('Request failed with status code', response.status_code)\n"
   ]
  },
  {
   "cell_type": "code",
   "execution_count": null,
   "id": "82695335",
   "metadata": {},
   "outputs": [],
   "source": []
  }
 ],
 "metadata": {
  "kernelspec": {
   "display_name": "Python 3 (ipykernel)",
   "language": "python",
   "name": "python3"
  },
  "language_info": {
   "codemirror_mode": {
    "name": "ipython",
    "version": 3
   },
   "file_extension": ".py",
   "mimetype": "text/x-python",
   "name": "python",
   "nbconvert_exporter": "python",
   "pygments_lexer": "ipython3",
   "version": "3.9.12"
  }
 },
 "nbformat": 4,
 "nbformat_minor": 5
}
