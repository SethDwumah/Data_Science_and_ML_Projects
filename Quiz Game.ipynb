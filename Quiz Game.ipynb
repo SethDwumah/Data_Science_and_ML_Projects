{
 "cells": [
  {
   "cell_type": "markdown",
   "id": "f0e1fa4c",
   "metadata": {},
   "source": [
    "### Lets Create the quiz game with Python"
   ]
  },
  {
   "cell_type": "markdown",
   "id": "26dca9db",
   "metadata": {},
   "source": [
    "First, I'll create the questions and answer verification mechanism.\n",
    "Next, I'll add the code that gives the player three atempts to answer each question:"
   ]
  },
  {
   "cell_type": "code",
   "execution_count": 1,
   "id": "adf9286d",
   "metadata": {},
   "outputs": [
    {
     "name": "stdout",
     "output_type": "stream",
     "text": [
      "Guess the Animal\n",
      "Which bear lives at the North Pole? plor bear\n",
      "Sorry Wrong Answer, try againpolar bear\n",
      "Correct Answer!\n",
      "Which is the fastest land animal? cheetah\n",
      "Correct Answer!\n",
      "Which is the largest animal? elephant\n",
      "Sorry Wrong Answer, try againsnake\n",
      "Sorry Wrong Answer, try againBlue Whale\n",
      "Correct Answer!\n",
      "Your Score is 30\n"
     ]
    }
   ],
   "source": [
    "# let's create the game function\n",
    "\n",
    "def check_guess(guess,answer):\n",
    "    global score\n",
    "    \n",
    "    still_guessing = True\n",
    "    attempt = 0\n",
    "    \n",
    "    while still_guessing and attempt<3:\n",
    "        \n",
    "        if guess.lower() == answer.lower():\n",
    "            \n",
    "            print(\"Correct Answer!\")\n",
    "            score = score + 10\n",
    "            still_guessing = False\n",
    "        else:\n",
    "            if attempt < 2:\n",
    "                guess = input(\"Sorry Wrong Answer, try again\")\n",
    "            attempt = attempt+1\n",
    "            \n",
    "    if attempt ==3:\n",
    "        print(\"The Correct answer is \", answer)\n",
    "        \n",
    "        \n",
    "score = 0\n",
    "\n",
    "print(\"Guess the Animal\")\n",
    "\n",
    "guess1 = input(\"Which bear lives at the North Pole? \")\n",
    "\n",
    "check_guess(guess1, \"polar bear\")\n",
    "\n",
    "guess2 = input(\"Which is the fastest land animal? \")\n",
    "\n",
    "check_guess(guess2, \"Cheetah\")\n",
    "\n",
    "guess3 = input(\"Which is the largest animal? \")\n",
    "\n",
    "check_guess(guess3, \"Blue Whale\")\n",
    "\n",
    "print('Your Score is '+ str(score))"
   ]
  },
  {
   "cell_type": "code",
   "execution_count": null,
   "id": "84e71dc6",
   "metadata": {},
   "outputs": [],
   "source": []
  }
 ],
 "metadata": {
  "kernelspec": {
   "display_name": "Python 3 (ipykernel)",
   "language": "python",
   "name": "python3"
  },
  "language_info": {
   "codemirror_mode": {
    "name": "ipython",
    "version": 3
   },
   "file_extension": ".py",
   "mimetype": "text/x-python",
   "name": "python",
   "nbconvert_exporter": "python",
   "pygments_lexer": "ipython3",
   "version": "3.9.12"
  }
 },
 "nbformat": 4,
 "nbformat_minor": 5
}
