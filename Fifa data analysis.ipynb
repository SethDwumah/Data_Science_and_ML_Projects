{
 "cells": [
  {
   "cell_type": "code",
   "execution_count": 1,
   "id": "861d92d6",
   "metadata": {},
   "outputs": [],
   "source": [
    "#import libraries\n",
    "import numpy as np\n",
    "import pandas as pd\n",
    "import matplotlib.pyplot as plt\n",
    "%matplotlib inline\n",
    "import seaborn as sns\n",
    "#from pandas_profiling import ProfileReport\n",
    "#from autoviz.AutoViz_Class import AutoViz_Class\n"
   ]
  },
  {
   "cell_type": "code",
   "execution_count": null,
   "id": "90bd6270",
   "metadata": {},
   "outputs": [],
   "source": [
    "# load dataset\n",
    "fifa = pd.read_csv(\"C:\\\\Users\\\\Administrator\\\\Downloads\\\\fifa data.csv\")"
   ]
  },
  {
   "cell_type": "code",
   "execution_count": null,
   "id": "9eb3155d",
   "metadata": {},
   "outputs": [],
   "source": [
    "fifa.head()"
   ]
  },
  {
   "cell_type": "code",
   "execution_count": null,
   "id": "5a527a19",
   "metadata": {},
   "outputs": [],
   "source": [
    "fifa.info()"
   ]
  },
  {
   "cell_type": "code",
   "execution_count": null,
   "id": "a7c14d5a",
   "metadata": {},
   "outputs": [],
   "source": [
    "fifa.isna().sum()"
   ]
  },
  {
   "cell_type": "code",
   "execution_count": null,
   "id": "c0cbe6fa",
   "metadata": {},
   "outputs": [],
   "source": [
    "# Generate Automatic report\n",
    "\n",
    "fifa_report = ProfileReport(fifa, \"Report of FiFa Soccer\")\n",
    "fifa_report"
   ]
  },
  {
   "cell_type": "code",
   "execution_count": null,
   "id": "72340d47",
   "metadata": {},
   "outputs": [],
   "source": [
    "fifa_report.to_file(\"C:\\\\Users\\\\Administrator\\\\Desktop\\\\data\\\\Fifa_report.html\")"
   ]
  },
  {
   "cell_type": "code",
   "execution_count": null,
   "id": "a989b1f1",
   "metadata": {},
   "outputs": [],
   "source": [
    "Av = AutoViz_Class()\n",
    "fifa_autoviz = Av.AutoViz(\"C:\\\\Users\\\\Administrator\\\\Downloads\\\\fifa data.csv\")"
   ]
  },
  {
   "cell_type": "code",
   "execution_count": null,
   "id": "82f7967e",
   "metadata": {},
   "outputs": [],
   "source": [
    "fifa.columns"
   ]
  },
  {
   "cell_type": "code",
   "execution_count": null,
   "id": "ba2b9535",
   "metadata": {},
   "outputs": [],
   "source": [
    "fifa_data = fifa[['short_name','age','club','nationality','player_positions','wage_eur','value_eur','height_cm','overall']]"
   ]
  },
  {
   "cell_type": "code",
   "execution_count": null,
   "id": "ea7e57fc",
   "metadata": {},
   "outputs": [],
   "source": [
    "fifa_data.head()"
   ]
  },
  {
   "cell_type": "code",
   "execution_count": null,
   "id": "8b5144bc",
   "metadata": {},
   "outputs": [],
   "source": [
    "fifa_data.shape"
   ]
  },
  {
   "cell_type": "code",
   "execution_count": null,
   "id": "ad01f876",
   "metadata": {},
   "outputs": [],
   "source": [
    "fifa_data.sort_values(by='age', ascending=False)[:10]"
   ]
  },
  {
   "cell_type": "code",
   "execution_count": null,
   "id": "fa7d98e5",
   "metadata": {},
   "outputs": [],
   "source": [
    "# descriptive analysis of the dataset\n",
    "fifa_data.describe()"
   ]
  },
  {
   "cell_type": "code",
   "execution_count": null,
   "id": "b043504f",
   "metadata": {},
   "outputs": [],
   "source": [
    "# Number of players in each country\n",
    "\n",
    "nationality = fifa_data[['short_name']].groupby(fifa_data['nationality']).count().sort_values(by='short_name', ascending=False)"
   ]
  },
  {
   "cell_type": "code",
   "execution_count": null,
   "id": "430827e9",
   "metadata": {},
   "outputs": [],
   "source": [
    "top_nation = nationality[:10]\n",
    "top_nation\n"
   ]
  },
  {
   "cell_type": "code",
   "execution_count": null,
   "id": "edbfe3b2",
   "metadata": {
    "scrolled": true
   },
   "outputs": [],
   "source": [
    "import plotly.express as px\n"
   ]
  },
  {
   "cell_type": "code",
   "execution_count": null,
   "id": "a0aff682",
   "metadata": {},
   "outputs": [],
   "source": [
    "#!pip install plotly==4.1.0"
   ]
  },
  {
   "cell_type": "code",
   "execution_count": null,
   "id": "05aa373a",
   "metadata": {},
   "outputs": [],
   "source": [
    "fig = px.colors.qualitative.swatches()\n",
    "fig.show()\n",
    "#px.colors.qualitative.colour_sequence_name[index]\n",
    "\n",
    "#px.colors.qualitative.Alphabet[11]"
   ]
  },
  {
   "cell_type": "code",
   "execution_count": null,
   "id": "362a0777",
   "metadata": {
    "scrolled": true
   },
   "outputs": [],
   "source": [
    "fig = px.bar(top_nation,\n",
    "            template ='simple_white',\n",
    "            labels={'nationality':\"Nationality\", 'value':\"Number of Players\"},\n",
    "            color_discrete_sequence=[\n",
    "                  px.colors.qualitative.D3[9]],\n",
    "            title='<b>Number of Players in Each Country----Top 10</b>')\n",
    "\n",
    "\n",
    "fig.update(layout_showlegend=False)\n",
    "\n",
    "fig.show()"
   ]
  },
  {
   "cell_type": "code",
   "execution_count": null,
   "id": "30a690a6",
   "metadata": {},
   "outputs": [],
   "source": [
    "age_distribution = fifa_data[['short_name']].groupby(fifa_data.age).count()\n",
    "age_distribution[:10]"
   ]
  },
  {
   "cell_type": "code",
   "execution_count": null,
   "id": "7fecfd46",
   "metadata": {
    "scrolled": true
   },
   "outputs": [],
   "source": [
    "\n",
    "fig = px.histogram(age_distribution, age_distribution.index,age_distribution['short_name'],\n",
    "                  template='simple_white', \n",
    "                   labels={'age':'Age','sum of short_name':'Number of Players'},\n",
    "                  title='<b>Distribution of Players Age</b>',\n",
    "                  color_discrete_sequence=[px.colors.qualitative.T10[7]])\n",
    "fig.show()"
   ]
  },
  {
   "cell_type": "code",
   "execution_count": null,
   "id": "f3170440",
   "metadata": {
    "scrolled": true
   },
   "outputs": [],
   "source": [
    "fifa_data.head()"
   ]
  },
  {
   "cell_type": "code",
   "execution_count": null,
   "id": "7696bcec",
   "metadata": {},
   "outputs": [],
   "source": [
    "overall_dist = fifa_data[['overall']].groupby(fifa_data['overall']).count()\n",
    "overall_dist[:10]"
   ]
  },
  {
   "cell_type": "code",
   "execution_count": null,
   "id": "defa5680",
   "metadata": {
    "scrolled": true
   },
   "outputs": [],
   "source": [
    "fig = px.histogram(overall_dist,overall_dist.index,overall_dist['overall'],\n",
    "                  template='simple_white',\n",
    "                  title='<b>Distribution of Players Overall</b>',\n",
    "                  labels={'index':'Overall','sum of overall':'Number of Players'},\n",
    "                  color_discrete_sequence=[px.colors.qualitative.Vivid[5]])\n",
    "fig.show()"
   ]
  },
  {
   "cell_type": "code",
   "execution_count": null,
   "id": "9da55f1c",
   "metadata": {},
   "outputs": [],
   "source": [
    "fig = px.(fifa_data,fifa_data.age,fifa_data.overall)\n",
    "fig.show()"
   ]
  },
  {
   "cell_type": "code",
   "execution_count": null,
   "id": "50a46989",
   "metadata": {},
   "outputs": [],
   "source": [
    "fifa_data[['short_name']].groupby(fifa_data['club']).count().sort_values(by='short_name',ascending=False)[:10]"
   ]
  },
  {
   "cell_type": "code",
   "execution_count": null,
   "id": "3e97faf6",
   "metadata": {},
   "outputs": [],
   "source": []
  },
  {
   "cell_type": "code",
   "execution_count": null,
   "id": "3edfa4ca",
   "metadata": {},
   "outputs": [],
   "source": []
  },
  {
   "cell_type": "code",
   "execution_count": null,
   "id": "d7191361",
   "metadata": {},
   "outputs": [],
   "source": []
  }
 ],
 "metadata": {
  "kernelspec": {
   "display_name": "Python 3 (ipykernel)",
   "language": "python",
   "name": "python3"
  },
  "language_info": {
   "codemirror_mode": {
    "name": "ipython",
    "version": 3
   },
   "file_extension": ".py",
   "mimetype": "text/x-python",
   "name": "python",
   "nbconvert_exporter": "python",
   "pygments_lexer": "ipython3",
   "version": "3.9.12"
  }
 },
 "nbformat": 4,
 "nbformat_minor": 5
}
