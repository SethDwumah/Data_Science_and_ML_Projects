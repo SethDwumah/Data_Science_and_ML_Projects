{
 "cells": [
  {
   "cell_type": "code",
   "execution_count": 1,
   "id": "523e0d62",
   "metadata": {},
   "outputs": [],
   "source": [
    "\n",
    "\n",
    "#import libraries\n",
    "import pandas as pd\n",
    "from sklearn.ensemble import RandomForestClassifier\n",
    "from sklearn.metrics import classification_report\n",
    "from sklearn.model_selection import train_test_split"
   ]
  },
  {
   "cell_type": "code",
   "execution_count": 2,
   "id": "f87272ae",
   "metadata": {},
   "outputs": [
    {
     "data": {
      "text/html": [
       "<div>\n",
       "<style scoped>\n",
       "    .dataframe tbody tr th:only-of-type {\n",
       "        vertical-align: middle;\n",
       "    }\n",
       "\n",
       "    .dataframe tbody tr th {\n",
       "        vertical-align: top;\n",
       "    }\n",
       "\n",
       "    .dataframe thead th {\n",
       "        text-align: right;\n",
       "    }\n",
       "</style>\n",
       "<table border=\"1\" class=\"dataframe\">\n",
       "  <thead>\n",
       "    <tr style=\"text-align: right;\">\n",
       "      <th></th>\n",
       "      <th>Column</th>\n",
       "      <th>Column.1</th>\n",
       "      <th>Column.2</th>\n",
       "      <th>Column.3</th>\n",
       "      <th>Column.4</th>\n",
       "      <th>Column.5</th>\n",
       "      <th>Column.6</th>\n",
       "      <th>Column.7</th>\n",
       "      <th>Column.8</th>\n",
       "      <th>Column.9</th>\n",
       "      <th>...</th>\n",
       "      <th>Column.31</th>\n",
       "      <th>Column.32</th>\n",
       "      <th>Column.33</th>\n",
       "      <th>Column.34</th>\n",
       "      <th>Column.35</th>\n",
       "      <th>Column.36</th>\n",
       "      <th>Column.37</th>\n",
       "      <th>Column.38</th>\n",
       "      <th>Column.39</th>\n",
       "      <th>Column.40</th>\n",
       "    </tr>\n",
       "  </thead>\n",
       "  <tbody>\n",
       "    <tr>\n",
       "      <th>0</th>\n",
       "      <td>-0.23</td>\n",
       "      <td>-1.21</td>\n",
       "      <td>1.20</td>\n",
       "      <td>1.23</td>\n",
       "      <td>-0.10</td>\n",
       "      <td>0.12</td>\n",
       "      <td>2.49</td>\n",
       "      <td>1.19</td>\n",
       "      <td>1.34</td>\n",
       "      <td>0.58</td>\n",
       "      <td>...</td>\n",
       "      <td>-0.86</td>\n",
       "      <td>-0.70</td>\n",
       "      <td>0.51</td>\n",
       "      <td>0.34</td>\n",
       "      <td>-0.13</td>\n",
       "      <td>-0.87</td>\n",
       "      <td>0.56</td>\n",
       "      <td>-0.53</td>\n",
       "      <td>0.29</td>\n",
       "      <td>2</td>\n",
       "    </tr>\n",
       "    <tr>\n",
       "      <th>1</th>\n",
       "      <td>0.38</td>\n",
       "      <td>0.38</td>\n",
       "      <td>-0.31</td>\n",
       "      <td>-0.09</td>\n",
       "      <td>1.52</td>\n",
       "      <td>1.35</td>\n",
       "      <td>1.49</td>\n",
       "      <td>3.81</td>\n",
       "      <td>2.33</td>\n",
       "      <td>1.34</td>\n",
       "      <td>...</td>\n",
       "      <td>1.28</td>\n",
       "      <td>1.40</td>\n",
       "      <td>0.00</td>\n",
       "      <td>-0.18</td>\n",
       "      <td>0.71</td>\n",
       "      <td>0.04</td>\n",
       "      <td>0.91</td>\n",
       "      <td>-0.79</td>\n",
       "      <td>0.22</td>\n",
       "      <td>0</td>\n",
       "    </tr>\n",
       "    <tr>\n",
       "      <th>2</th>\n",
       "      <td>-0.69</td>\n",
       "      <td>1.00</td>\n",
       "      <td>1.08</td>\n",
       "      <td>1.48</td>\n",
       "      <td>2.44</td>\n",
       "      <td>3.39</td>\n",
       "      <td>3.09</td>\n",
       "      <td>4.08</td>\n",
       "      <td>5.48</td>\n",
       "      <td>3.61</td>\n",
       "      <td>...</td>\n",
       "      <td>0.29</td>\n",
       "      <td>1.12</td>\n",
       "      <td>0.60</td>\n",
       "      <td>0.28</td>\n",
       "      <td>2.17</td>\n",
       "      <td>0.18</td>\n",
       "      <td>-0.09</td>\n",
       "      <td>-1.33</td>\n",
       "      <td>1.00</td>\n",
       "      <td>1</td>\n",
       "    </tr>\n",
       "    <tr>\n",
       "      <th>3</th>\n",
       "      <td>0.40</td>\n",
       "      <td>0.68</td>\n",
       "      <td>0.27</td>\n",
       "      <td>1.39</td>\n",
       "      <td>1.03</td>\n",
       "      <td>-0.32</td>\n",
       "      <td>-1.23</td>\n",
       "      <td>-0.50</td>\n",
       "      <td>0.11</td>\n",
       "      <td>0.87</td>\n",
       "      <td>...</td>\n",
       "      <td>0.43</td>\n",
       "      <td>-0.30</td>\n",
       "      <td>-0.07</td>\n",
       "      <td>-0.99</td>\n",
       "      <td>-0.75</td>\n",
       "      <td>1.11</td>\n",
       "      <td>1.35</td>\n",
       "      <td>-1.63</td>\n",
       "      <td>0.10</td>\n",
       "      <td>0</td>\n",
       "    </tr>\n",
       "    <tr>\n",
       "      <th>4</th>\n",
       "      <td>-0.81</td>\n",
       "      <td>1.59</td>\n",
       "      <td>-0.69</td>\n",
       "      <td>1.16</td>\n",
       "      <td>4.22</td>\n",
       "      <td>4.98</td>\n",
       "      <td>4.52</td>\n",
       "      <td>2.54</td>\n",
       "      <td>5.60</td>\n",
       "      <td>4.66</td>\n",
       "      <td>...</td>\n",
       "      <td>0.62</td>\n",
       "      <td>0.14</td>\n",
       "      <td>1.33</td>\n",
       "      <td>-1.87</td>\n",
       "      <td>1.48</td>\n",
       "      <td>-0.02</td>\n",
       "      <td>-0.58</td>\n",
       "      <td>0.93</td>\n",
       "      <td>0.40</td>\n",
       "      <td>1</td>\n",
       "    </tr>\n",
       "  </tbody>\n",
       "</table>\n",
       "<p>5 rows × 41 columns</p>\n",
       "</div>"
      ],
      "text/plain": [
       "   Column  Column.1  Column.2  Column.3  Column.4  Column.5  Column.6  \\\n",
       "0   -0.23     -1.21      1.20      1.23     -0.10      0.12      2.49   \n",
       "1    0.38      0.38     -0.31     -0.09      1.52      1.35      1.49   \n",
       "2   -0.69      1.00      1.08      1.48      2.44      3.39      3.09   \n",
       "3    0.40      0.68      0.27      1.39      1.03     -0.32     -1.23   \n",
       "4   -0.81      1.59     -0.69      1.16      4.22      4.98      4.52   \n",
       "\n",
       "   Column.7  Column.8  Column.9  ...  Column.31  Column.32  Column.33  \\\n",
       "0      1.19      1.34      0.58  ...      -0.86      -0.70       0.51   \n",
       "1      3.81      2.33      1.34  ...       1.28       1.40       0.00   \n",
       "2      4.08      5.48      3.61  ...       0.29       1.12       0.60   \n",
       "3     -0.50      0.11      0.87  ...       0.43      -0.30      -0.07   \n",
       "4      2.54      5.60      4.66  ...       0.62       0.14       1.33   \n",
       "\n",
       "   Column.34  Column.35  Column.36  Column.37  Column.38  Column.39  Column.40  \n",
       "0       0.34      -0.13      -0.87       0.56      -0.53       0.29          2  \n",
       "1      -0.18       0.71       0.04       0.91      -0.79       0.22          0  \n",
       "2       0.28       2.17       0.18      -0.09      -1.33       1.00          1  \n",
       "3      -0.99      -0.75       1.11       1.35      -1.63       0.10          0  \n",
       "4      -1.87       1.48      -0.02      -0.58       0.93       0.40          1  \n",
       "\n",
       "[5 rows x 41 columns]"
      ]
     },
     "execution_count": 2,
     "metadata": {},
     "output_type": "execute_result"
    }
   ],
   "source": [
    "#load dataset\n",
    "data = pd.read_csv(\"Waveform_dataset.csv\")\n",
    "data .head()"
   ]
  },
  {
   "cell_type": "code",
   "execution_count": 4,
   "id": "9d6d6839",
   "metadata": {},
   "outputs": [],
   "source": [
    "#data.isna().sum()"
   ]
  },
  {
   "cell_type": "code",
   "execution_count": 5,
   "id": "a59a6243",
   "metadata": {},
   "outputs": [
    {
     "data": {
      "text/plain": [
       "(5000, 41)"
      ]
     },
     "execution_count": 5,
     "metadata": {},
     "output_type": "execute_result"
    }
   ],
   "source": [
    "data.shape"
   ]
  },
  {
   "cell_type": "markdown",
   "id": "c329ee4a",
   "metadata": {},
   "source": [
    "### Set Feature and target"
   ]
  },
  {
   "cell_type": "code",
   "execution_count": 10,
   "id": "5afd5297",
   "metadata": {},
   "outputs": [],
   "source": [
    "# X =feature\n",
    "#Y= target\n",
    "X = data.iloc[:,:-1]\n",
    "Y= data.iloc[:,-1]"
   ]
  },
  {
   "cell_type": "code",
   "execution_count": 7,
   "id": "8a63c0b4",
   "metadata": {},
   "outputs": [
    {
     "data": {
      "text/plain": [
       "(5000, 40)"
      ]
     },
     "execution_count": 7,
     "metadata": {},
     "output_type": "execute_result"
    }
   ],
   "source": [
    "X.shape"
   ]
  },
  {
   "cell_type": "code",
   "execution_count": 8,
   "id": "218f4e51",
   "metadata": {},
   "outputs": [
    {
     "data": {
      "text/html": [
       "<div>\n",
       "<style scoped>\n",
       "    .dataframe tbody tr th:only-of-type {\n",
       "        vertical-align: middle;\n",
       "    }\n",
       "\n",
       "    .dataframe tbody tr th {\n",
       "        vertical-align: top;\n",
       "    }\n",
       "\n",
       "    .dataframe thead th {\n",
       "        text-align: right;\n",
       "    }\n",
       "</style>\n",
       "<table border=\"1\" class=\"dataframe\">\n",
       "  <thead>\n",
       "    <tr style=\"text-align: right;\">\n",
       "      <th></th>\n",
       "      <th>Column</th>\n",
       "      <th>Column.1</th>\n",
       "      <th>Column.2</th>\n",
       "      <th>Column.3</th>\n",
       "      <th>Column.4</th>\n",
       "      <th>Column.5</th>\n",
       "      <th>Column.6</th>\n",
       "      <th>Column.7</th>\n",
       "      <th>Column.8</th>\n",
       "      <th>Column.9</th>\n",
       "      <th>...</th>\n",
       "      <th>Column.30</th>\n",
       "      <th>Column.31</th>\n",
       "      <th>Column.32</th>\n",
       "      <th>Column.33</th>\n",
       "      <th>Column.34</th>\n",
       "      <th>Column.35</th>\n",
       "      <th>Column.36</th>\n",
       "      <th>Column.37</th>\n",
       "      <th>Column.38</th>\n",
       "      <th>Column.39</th>\n",
       "    </tr>\n",
       "  </thead>\n",
       "  <tbody>\n",
       "    <tr>\n",
       "      <th>0</th>\n",
       "      <td>-0.23</td>\n",
       "      <td>-1.21</td>\n",
       "      <td>1.20</td>\n",
       "      <td>1.23</td>\n",
       "      <td>-0.10</td>\n",
       "      <td>0.12</td>\n",
       "      <td>2.49</td>\n",
       "      <td>1.19</td>\n",
       "      <td>1.34</td>\n",
       "      <td>0.58</td>\n",
       "      <td>...</td>\n",
       "      <td>-0.63</td>\n",
       "      <td>-0.86</td>\n",
       "      <td>-0.70</td>\n",
       "      <td>0.51</td>\n",
       "      <td>0.34</td>\n",
       "      <td>-0.13</td>\n",
       "      <td>-0.87</td>\n",
       "      <td>0.56</td>\n",
       "      <td>-0.53</td>\n",
       "      <td>0.29</td>\n",
       "    </tr>\n",
       "    <tr>\n",
       "      <th>1</th>\n",
       "      <td>0.38</td>\n",
       "      <td>0.38</td>\n",
       "      <td>-0.31</td>\n",
       "      <td>-0.09</td>\n",
       "      <td>1.52</td>\n",
       "      <td>1.35</td>\n",
       "      <td>1.49</td>\n",
       "      <td>3.81</td>\n",
       "      <td>2.33</td>\n",
       "      <td>1.34</td>\n",
       "      <td>...</td>\n",
       "      <td>0.31</td>\n",
       "      <td>1.28</td>\n",
       "      <td>1.40</td>\n",
       "      <td>0.00</td>\n",
       "      <td>-0.18</td>\n",
       "      <td>0.71</td>\n",
       "      <td>0.04</td>\n",
       "      <td>0.91</td>\n",
       "      <td>-0.79</td>\n",
       "      <td>0.22</td>\n",
       "    </tr>\n",
       "    <tr>\n",
       "      <th>2</th>\n",
       "      <td>-0.69</td>\n",
       "      <td>1.00</td>\n",
       "      <td>1.08</td>\n",
       "      <td>1.48</td>\n",
       "      <td>2.44</td>\n",
       "      <td>3.39</td>\n",
       "      <td>3.09</td>\n",
       "      <td>4.08</td>\n",
       "      <td>5.48</td>\n",
       "      <td>3.61</td>\n",
       "      <td>...</td>\n",
       "      <td>0.93</td>\n",
       "      <td>0.29</td>\n",
       "      <td>1.12</td>\n",
       "      <td>0.60</td>\n",
       "      <td>0.28</td>\n",
       "      <td>2.17</td>\n",
       "      <td>0.18</td>\n",
       "      <td>-0.09</td>\n",
       "      <td>-1.33</td>\n",
       "      <td>1.00</td>\n",
       "    </tr>\n",
       "    <tr>\n",
       "      <th>3</th>\n",
       "      <td>0.40</td>\n",
       "      <td>0.68</td>\n",
       "      <td>0.27</td>\n",
       "      <td>1.39</td>\n",
       "      <td>1.03</td>\n",
       "      <td>-0.32</td>\n",
       "      <td>-1.23</td>\n",
       "      <td>-0.50</td>\n",
       "      <td>0.11</td>\n",
       "      <td>0.87</td>\n",
       "      <td>...</td>\n",
       "      <td>1.18</td>\n",
       "      <td>0.43</td>\n",
       "      <td>-0.30</td>\n",
       "      <td>-0.07</td>\n",
       "      <td>-0.99</td>\n",
       "      <td>-0.75</td>\n",
       "      <td>1.11</td>\n",
       "      <td>1.35</td>\n",
       "      <td>-1.63</td>\n",
       "      <td>0.10</td>\n",
       "    </tr>\n",
       "    <tr>\n",
       "      <th>4</th>\n",
       "      <td>-0.81</td>\n",
       "      <td>1.59</td>\n",
       "      <td>-0.69</td>\n",
       "      <td>1.16</td>\n",
       "      <td>4.22</td>\n",
       "      <td>4.98</td>\n",
       "      <td>4.52</td>\n",
       "      <td>2.54</td>\n",
       "      <td>5.60</td>\n",
       "      <td>4.66</td>\n",
       "      <td>...</td>\n",
       "      <td>-0.07</td>\n",
       "      <td>0.62</td>\n",
       "      <td>0.14</td>\n",
       "      <td>1.33</td>\n",
       "      <td>-1.87</td>\n",
       "      <td>1.48</td>\n",
       "      <td>-0.02</td>\n",
       "      <td>-0.58</td>\n",
       "      <td>0.93</td>\n",
       "      <td>0.40</td>\n",
       "    </tr>\n",
       "  </tbody>\n",
       "</table>\n",
       "<p>5 rows × 40 columns</p>\n",
       "</div>"
      ],
      "text/plain": [
       "   Column  Column.1  Column.2  Column.3  Column.4  Column.5  Column.6  \\\n",
       "0   -0.23     -1.21      1.20      1.23     -0.10      0.12      2.49   \n",
       "1    0.38      0.38     -0.31     -0.09      1.52      1.35      1.49   \n",
       "2   -0.69      1.00      1.08      1.48      2.44      3.39      3.09   \n",
       "3    0.40      0.68      0.27      1.39      1.03     -0.32     -1.23   \n",
       "4   -0.81      1.59     -0.69      1.16      4.22      4.98      4.52   \n",
       "\n",
       "   Column.7  Column.8  Column.9  ...  Column.30  Column.31  Column.32  \\\n",
       "0      1.19      1.34      0.58  ...      -0.63      -0.86      -0.70   \n",
       "1      3.81      2.33      1.34  ...       0.31       1.28       1.40   \n",
       "2      4.08      5.48      3.61  ...       0.93       0.29       1.12   \n",
       "3     -0.50      0.11      0.87  ...       1.18       0.43      -0.30   \n",
       "4      2.54      5.60      4.66  ...      -0.07       0.62       0.14   \n",
       "\n",
       "   Column.33  Column.34  Column.35  Column.36  Column.37  Column.38  Column.39  \n",
       "0       0.51       0.34      -0.13      -0.87       0.56      -0.53       0.29  \n",
       "1       0.00      -0.18       0.71       0.04       0.91      -0.79       0.22  \n",
       "2       0.60       0.28       2.17       0.18      -0.09      -1.33       1.00  \n",
       "3      -0.07      -0.99      -0.75       1.11       1.35      -1.63       0.10  \n",
       "4       1.33      -1.87       1.48      -0.02      -0.58       0.93       0.40  \n",
       "\n",
       "[5 rows x 40 columns]"
      ]
     },
     "execution_count": 8,
     "metadata": {},
     "output_type": "execute_result"
    }
   ],
   "source": [
    "X.head()"
   ]
  },
  {
   "cell_type": "code",
   "execution_count": 11,
   "id": "b8cf6c0c",
   "metadata": {},
   "outputs": [
    {
     "data": {
      "text/plain": [
       "0    2\n",
       "1    0\n",
       "2    1\n",
       "3    0\n",
       "4    1\n",
       "Name: Column.40, dtype: int64"
      ]
     },
     "execution_count": 11,
     "metadata": {},
     "output_type": "execute_result"
    }
   ],
   "source": [
    "Y.head()"
   ]
  },
  {
   "cell_type": "markdown",
   "id": "b43d5993",
   "metadata": {},
   "source": [
    "### Split the dataset into train and test"
   ]
  },
  {
   "cell_type": "code",
   "execution_count": 12,
   "id": "b5bb6796",
   "metadata": {},
   "outputs": [],
   "source": [
    "x_train, x_test, y_train, y_test = train_test_split(X,Y, test_size=0.2,random_state=42)"
   ]
  },
  {
   "cell_type": "code",
   "execution_count": 13,
   "id": "12ea23d4",
   "metadata": {},
   "outputs": [
    {
     "name": "stdout",
     "output_type": "stream",
     "text": [
      "x_train : (4000, 40)\n",
      "x_test : (1000, 40)\n",
      "y_train: (4000,)\n",
      "y_test: (1000,)\n"
     ]
    }
   ],
   "source": [
    "print(\"x_train :\",x_train.shape)\n",
    "print(\"x_test :\",x_test.shape)\n",
    "print('y_train:',y_train.shape)\n",
    "print(\"y_test:\",y_test.shape)"
   ]
  },
  {
   "cell_type": "markdown",
   "id": "7b0c36e5",
   "metadata": {},
   "source": [
    "### Build RandomForest() model"
   ]
  },
  {
   "cell_type": "code",
   "execution_count": 40,
   "id": "3ec00368",
   "metadata": {},
   "outputs": [],
   "source": [
    "clf = RandomForestClassifier(random_state=365, ccp_alpha=0.002)"
   ]
  },
  {
   "cell_type": "code",
   "execution_count": 41,
   "id": "d217ee02",
   "metadata": {},
   "outputs": [
    {
     "data": {
      "text/plain": [
       "RandomForestClassifier(ccp_alpha=0.002, random_state=365)"
      ]
     },
     "execution_count": 41,
     "metadata": {},
     "output_type": "execute_result"
    }
   ],
   "source": [
    "clf.fit(x_train,y_train)"
   ]
  },
  {
   "cell_type": "code",
   "execution_count": 42,
   "id": "5f7462a0",
   "metadata": {},
   "outputs": [],
   "source": [
    "y_pred = clf.predict(x_test)"
   ]
  },
  {
   "cell_type": "code",
   "execution_count": 43,
   "id": "94d4efd8",
   "metadata": {},
   "outputs": [
    {
     "data": {
      "text/plain": [
       "array([1, 0, 1, 2, 2, 2, 0, 0, 2, 1], dtype=int64)"
      ]
     },
     "execution_count": 43,
     "metadata": {},
     "output_type": "execute_result"
    }
   ],
   "source": [
    "y_pred[:10]"
   ]
  },
  {
   "cell_type": "markdown",
   "id": "e63d8fed",
   "metadata": {},
   "source": [
    "##### Check model accuracy"
   ]
  },
  {
   "cell_type": "code",
   "execution_count": 44,
   "id": "d91696b9",
   "metadata": {
    "scrolled": false
   },
   "outputs": [
    {
     "name": "stdout",
     "output_type": "stream",
     "text": [
      "              precision    recall  f1-score   support\n",
      "\n",
      "           0       0.91      0.81      0.86       339\n",
      "           1       0.84      0.90      0.87       315\n",
      "           2       0.86      0.90      0.88       346\n",
      "\n",
      "    accuracy                           0.87      1000\n",
      "   macro avg       0.87      0.87      0.87      1000\n",
      "weighted avg       0.87      0.87      0.87      1000\n",
      "\n"
     ]
    }
   ],
   "source": [
    "print(classification_report(y_test,y_pred))"
   ]
  },
  {
   "cell_type": "code",
   "execution_count": 45,
   "id": "7e6b0d00",
   "metadata": {},
   "outputs": [
    {
     "data": {
      "text/plain": [
       "1501    0\n",
       "2586    0\n",
       "2653    1\n",
       "1055    2\n",
       "705     2\n",
       "106     2\n",
       "589     0\n",
       "2468    1\n",
       "2413    2\n",
       "1600    1\n",
       "Name: Column.40, dtype: int64"
      ]
     },
     "execution_count": 45,
     "metadata": {},
     "output_type": "execute_result"
    }
   ],
   "source": [
    "y_test[:10]"
   ]
  },
  {
   "cell_type": "code",
   "execution_count": 49,
   "id": "49fa0c06",
   "metadata": {},
   "outputs": [
    {
     "data": {
      "text/html": [
       "<div>\n",
       "<style scoped>\n",
       "    .dataframe tbody tr th:only-of-type {\n",
       "        vertical-align: middle;\n",
       "    }\n",
       "\n",
       "    .dataframe tbody tr th {\n",
       "        vertical-align: top;\n",
       "    }\n",
       "\n",
       "    .dataframe thead th {\n",
       "        text-align: right;\n",
       "    }\n",
       "</style>\n",
       "<table border=\"1\" class=\"dataframe\">\n",
       "  <thead>\n",
       "    <tr style=\"text-align: right;\">\n",
       "      <th>col_0</th>\n",
       "      <th>0</th>\n",
       "      <th>1</th>\n",
       "      <th>2</th>\n",
       "    </tr>\n",
       "    <tr>\n",
       "      <th>Column.40</th>\n",
       "      <th></th>\n",
       "      <th></th>\n",
       "      <th></th>\n",
       "    </tr>\n",
       "  </thead>\n",
       "  <tbody>\n",
       "    <tr>\n",
       "      <th>0</th>\n",
       "      <td>276</td>\n",
       "      <td>28</td>\n",
       "      <td>35</td>\n",
       "    </tr>\n",
       "    <tr>\n",
       "      <th>1</th>\n",
       "      <td>17</td>\n",
       "      <td>283</td>\n",
       "      <td>15</td>\n",
       "    </tr>\n",
       "    <tr>\n",
       "      <th>2</th>\n",
       "      <td>11</td>\n",
       "      <td>25</td>\n",
       "      <td>310</td>\n",
       "    </tr>\n",
       "  </tbody>\n",
       "</table>\n",
       "</div>"
      ],
      "text/plain": [
       "col_0        0    1    2\n",
       "Column.40               \n",
       "0          276   28   35\n",
       "1           17  283   15\n",
       "2           11   25  310"
      ]
     },
     "execution_count": 49,
     "metadata": {},
     "output_type": "execute_result"
    }
   ],
   "source": [
    "\n",
    "pd.crosstab(y_test,y_pred)\n"
   ]
  },
  {
   "cell_type": "code",
   "execution_count": null,
   "id": "1b792725",
   "metadata": {},
   "outputs": [],
   "source": []
  },
  {
   "cell_type": "code",
   "execution_count": null,
   "id": "f2d063cd",
   "metadata": {},
   "outputs": [],
   "source": []
  }
 ],
 "metadata": {
  "kernelspec": {
   "display_name": "Python 3 (ipykernel)",
   "language": "python",
   "name": "python3"
  },
  "language_info": {
   "codemirror_mode": {
    "name": "ipython",
    "version": 3
   },
   "file_extension": ".py",
   "mimetype": "text/x-python",
   "name": "python",
   "nbconvert_exporter": "python",
   "pygments_lexer": "ipython3",
   "version": "3.9.12"
  }
 },
 "nbformat": 4,
 "nbformat_minor": 5
}
