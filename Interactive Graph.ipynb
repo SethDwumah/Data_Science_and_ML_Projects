{
 "cells": [
  {
   "cell_type": "markdown",
   "id": "916ace78",
   "metadata": {},
   "source": [
    "# Interactive Graph\n"
   ]
  },
  {
   "cell_type": "markdown",
   "id": "8406ef15",
   "metadata": {},
   "source": [
    "### Import libraries"
   ]
  },
  {
   "cell_type": "code",
   "execution_count": 1,
   "id": "2a8bf26c",
   "metadata": {},
   "outputs": [],
   "source": [
    "import pandas as pd \n",
    "import numpy as np \n",
    "import matplotlib.pyplot as plt\n",
    "%matplotlib inline\n",
    "from ipywidgets import interact, interactive\n",
    "from IPython import display"
   ]
  },
  {
   "cell_type": "markdown",
   "id": "20bb1070",
   "metadata": {},
   "source": [
    "### Define graph function\n"
   ]
  },
  {
   "cell_type": "code",
   "execution_count": 19,
   "id": "53ced60a",
   "metadata": {},
   "outputs": [],
   "source": [
    "def f_graph(a,b,c,d,e,zoom):\n",
    "    xmin = -zoom\n",
    "    xmax = zoom\n",
    "    ymin = -zoom\n",
    "    ymax = zoom\n",
    "    \n",
    "    points = 10*xmax-xmin\n",
    "    \n",
    "    x = np.linspace(xmin, xmax, points)\n",
    "    \n",
    "    plt.axis([xmin,xmax,ymin,ymax]) ## window size\n",
    "    plt.plot([xmin,xmax],[0,0],'black') ## black x axis\n",
    "    plt.plot([0,0], [ymin,ymax],'black') ## black y axis\n",
    "    \n",
    "    # line1\n",
    "    \n",
    "    y1 = a*b**(c*x-d) + e\n",
    "    \n",
    "    plt.plot(x,y1)\n",
    "    plt.grid()\n",
    "    plt.show()"
   ]
  },
  {
   "cell_type": "code",
   "execution_count": 21,
   "id": "64b53a0f",
   "metadata": {},
   "outputs": [],
   "source": [
    "i_plot = interactive(f_graph, a=(-9,9),b=(-9,9), c=(-9,9),d=(-9,9),e=(-9,9),zoom=(1,10))"
   ]
  },
  {
   "cell_type": "code",
   "execution_count": 22,
   "id": "7d31ebfa",
   "metadata": {},
   "outputs": [
    {
     "data": {
      "application/vnd.jupyter.widget-view+json": {
       "model_id": "10f37fcb4c8346a3850af0f67012c76e",
       "version_major": 2,
       "version_minor": 0
      },
      "text/plain": [
       "interactive(children=(IntSlider(value=0, description='a', max=9, min=-9), IntSlider(value=0, description='b', …"
      ]
     },
     "metadata": {},
     "output_type": "display_data"
    }
   ],
   "source": [
    "i_plot"
   ]
  },
  {
   "cell_type": "code",
   "execution_count": null,
   "id": "b0abd6f9",
   "metadata": {},
   "outputs": [],
   "source": []
  }
 ],
 "metadata": {
  "kernelspec": {
   "display_name": "Python 3 (ipykernel)",
   "language": "python",
   "name": "python3"
  },
  "language_info": {
   "codemirror_mode": {
    "name": "ipython",
    "version": 3
   },
   "file_extension": ".py",
   "mimetype": "text/x-python",
   "name": "python",
   "nbconvert_exporter": "python",
   "pygments_lexer": "ipython3",
   "version": "3.9.12"
  }
 },
 "nbformat": 4,
 "nbformat_minor": 5
}
