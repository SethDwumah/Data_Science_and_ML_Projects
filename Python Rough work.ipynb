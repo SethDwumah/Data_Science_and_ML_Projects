{
 "cells": [
  {
   "cell_type": "markdown",
   "id": "08f03d08",
   "metadata": {},
   "source": [
    "#### How to troubleshoot the errors"
   ]
  },
  {
   "cell_type": "code",
   "execution_count": 4,
   "id": "8d9e9a0f",
   "metadata": {},
   "outputs": [
    {
     "name": "stdout",
     "output_type": "stream",
     "text": [
      "That key does not exist!\n"
     ]
    }
   ],
   "source": [
    "my_dict = {'a':1, 'b':2,'c':3}\n",
    "try:\n",
    "    value = my_dict['d']\n",
    "except KeyError:\n",
    "    print('That key does not exist!')"
   ]
  },
  {
   "cell_type": "code",
   "execution_count": 8,
   "id": "48ca8c0e",
   "metadata": {},
   "outputs": [
    {
     "name": "stdout",
     "output_type": "stream",
     "text": [
      "This key is not in the dictionary!\n"
     ]
    }
   ],
   "source": [
    "my_dict={'a':1,'b':3,'c':4}\n",
    "\n",
    "try:\n",
    "    value=my_dict['d']\n",
    "except IndexError:\n",
    "    print('This index does not exist!')\n",
    "except KeyError:\n",
    "    print('This key is not in the dictionary!')\n",
    "except:\n",
    "    print('Some other problem happened!')"
   ]
  },
  {
   "cell_type": "code",
   "execution_count": 9,
   "id": "66f0ead9",
   "metadata": {},
   "outputs": [
    {
     "name": "stdout",
     "output_type": "stream",
     "text": [
      "No error occurred!\n"
     ]
    }
   ],
   "source": [
    "my_dict = {'a':2,'b':4,'c':5}\n",
    "\n",
    "try:\n",
    "    value = my_dict['a']\n",
    "except KeyError:\n",
    "    print('A KeyError occurred!')\n",
    "else:\n",
    "    print('No error occurred!')"
   ]
  },
  {
   "cell_type": "markdown",
   "id": "6da4ff4b",
   "metadata": {},
   "source": [
    "### Classes"
   ]
  },
  {
   "cell_type": "code",
   "execution_count": 14,
   "id": "5ecc5bba",
   "metadata": {},
   "outputs": [
    {
     "name": "stdout",
     "output_type": "stream",
     "text": [
      "Bird is ready\n",
      "Swim faster\n",
      "Run fast\n"
     ]
    }
   ],
   "source": [
    "## Inheritance\n",
    "class Bird:\n",
    "    def __init__(self):\n",
    "        print('Bird is ready')\n",
    "    def swim(self):\n",
    "        print('Swim faster')\n",
    "class Pengwin(Bird):\n",
    "    def __init(self):\n",
    "        super()._init_()\n",
    "    def run(self):\n",
    "        print('Run fast')\n",
    "\n",
    "\n",
    "P = Pengwin()\n",
    "P.swim()\n",
    "P.run()"
   ]
  },
  {
   "cell_type": "code",
   "execution_count": 16,
   "id": "d883153a",
   "metadata": {},
   "outputs": [],
   "source": [
    "class Computer:\n",
    "    def __init__(self):\n",
    "        self__maxprice=900\n",
    "    def setmaxprice(self,price):\n",
    "        self.__maxprice=price\n",
    "C = Computer()\n",
    "C.__maxprice=1000\n",
    "C.setmaxprice(100)"
   ]
  },
  {
   "cell_type": "code",
   "execution_count": null,
   "id": "dd67929a",
   "metadata": {},
   "outputs": [],
   "source": []
  },
  {
   "cell_type": "code",
   "execution_count": 20,
   "id": "8cbadcc3",
   "metadata": {},
   "outputs": [
    {
     "name": "stdout",
     "output_type": "stream",
     "text": [
      "Parrot can fly\n",
      "Pengwin can not fly\n"
     ]
    }
   ],
   "source": [
    "class Parrot:\n",
    "    def fly(self):\n",
    "        print('Parrot can fly')\n",
    "    def swim(self):\n",
    "        print('Parrot can not swim')\n",
    "        \n",
    "class Pengwin:\n",
    "    def fly(self):\n",
    "        print('Pengwin can not fly')\n",
    "    def swim(self):\n",
    "        print('Pengwin can swim')\n",
    "def flying_test(bird):\n",
    "    bird.fly()\n",
    "blue = Parrot()\n",
    "peg = Pengwin()\n",
    "\n",
    "\n",
    "flying_test(blue)\n",
    "flying_test(peg)\n"
   ]
  },
  {
   "cell_type": "code",
   "execution_count": 21,
   "id": "9c116076",
   "metadata": {},
   "outputs": [
    {
     "name": "stdout",
     "output_type": "stream",
     "text": [
      "Parrot can not swim\n",
      "Pengwin can swim\n"
     ]
    }
   ],
   "source": [
    "def swim_test(b):\n",
    "    b.swim()\n",
    "\n",
    "swim_test(blue)\n",
    "swim_test(peg)    "
   ]
  },
  {
   "cell_type": "code",
   "execution_count": null,
   "id": "e47ea403",
   "metadata": {},
   "outputs": [],
   "source": []
  }
 ],
 "metadata": {
  "kernelspec": {
   "display_name": "Python 3 (ipykernel)",
   "language": "python",
   "name": "python3"
  },
  "language_info": {
   "codemirror_mode": {
    "name": "ipython",
    "version": 3
   },
   "file_extension": ".py",
   "mimetype": "text/x-python",
   "name": "python",
   "nbconvert_exporter": "python",
   "pygments_lexer": "ipython3",
   "version": "3.9.12"
  }
 },
 "nbformat": 4,
 "nbformat_minor": 5
}
