{
 "cells": [
  {
   "cell_type": "markdown",
   "id": "7cc2de22",
   "metadata": {},
   "source": [
    "### Import Libraries"
   ]
  },
  {
   "cell_type": "code",
   "execution_count": 1,
   "id": "4493c446",
   "metadata": {},
   "outputs": [],
   "source": [
    "import numpy as np\n",
    "import pandas as pd\n",
    "import matplotlib.pyplot as plt\n",
    "import seaborn as sns"
   ]
  },
  {
   "cell_type": "markdown",
   "id": "41ad83a9",
   "metadata": {},
   "source": [
    "### Get the data"
   ]
  },
  {
   "cell_type": "code",
   "execution_count": 3,
   "id": "f0d1eede",
   "metadata": {},
   "outputs": [
    {
     "data": {
      "text/html": [
       "<div>\n",
       "<style scoped>\n",
       "    .dataframe tbody tr th:only-of-type {\n",
       "        vertical-align: middle;\n",
       "    }\n",
       "\n",
       "    .dataframe tbody tr th {\n",
       "        vertical-align: top;\n",
       "    }\n",
       "\n",
       "    .dataframe thead th {\n",
       "        text-align: right;\n",
       "    }\n",
       "</style>\n",
       "<table border=\"1\" class=\"dataframe\">\n",
       "  <thead>\n",
       "    <tr style=\"text-align: right;\">\n",
       "      <th></th>\n",
       "      <th>HomeTeam</th>\n",
       "      <th>Result</th>\n",
       "      <th>AwayTeam</th>\n",
       "    </tr>\n",
       "    <tr>\n",
       "      <th>Date</th>\n",
       "      <th></th>\n",
       "      <th></th>\n",
       "      <th></th>\n",
       "    </tr>\n",
       "  </thead>\n",
       "  <tbody>\n",
       "    <tr>\n",
       "      <th>13-Aug-2021</th>\n",
       "      <td>Brentford</td>\n",
       "      <td>2:0</td>\n",
       "      <td>Arsenal</td>\n",
       "    </tr>\n",
       "    <tr>\n",
       "      <th>14-Aug-2021</th>\n",
       "      <td>Burnley</td>\n",
       "      <td>1:2</td>\n",
       "      <td>Brighton and Hove Albion</td>\n",
       "    </tr>\n",
       "    <tr>\n",
       "      <th>14-Aug-2021</th>\n",
       "      <td>Chelsea</td>\n",
       "      <td>3:0</td>\n",
       "      <td>Crystal Palace</td>\n",
       "    </tr>\n",
       "    <tr>\n",
       "      <th>14-Aug-2021</th>\n",
       "      <td>Everton</td>\n",
       "      <td>3:1</td>\n",
       "      <td>Southampton</td>\n",
       "    </tr>\n",
       "    <tr>\n",
       "      <th>14-Aug-2021</th>\n",
       "      <td>Leicester City</td>\n",
       "      <td>1:0</td>\n",
       "      <td>Wolverhampton Wanderers</td>\n",
       "    </tr>\n",
       "  </tbody>\n",
       "</table>\n",
       "</div>"
      ],
      "text/plain": [
       "                   HomeTeam Result                  AwayTeam\n",
       "Date                                                        \n",
       "13-Aug-2021       Brentford    2:0                   Arsenal\n",
       "14-Aug-2021         Burnley    1:2  Brighton and Hove Albion\n",
       "14-Aug-2021         Chelsea    3:0            Crystal Palace\n",
       "14-Aug-2021         Everton    3:1               Southampton\n",
       "14-Aug-2021  Leicester City    1:0   Wolverhampton Wanderers"
      ]
     },
     "execution_count": 3,
     "metadata": {},
     "output_type": "execute_result"
    }
   ],
   "source": [
    "df = pd.read_csv('all_match_results.csv', index_col=0)\n",
    "df.head()"
   ]
  },
  {
   "cell_type": "code",
   "execution_count": 9,
   "id": "07f22d4e",
   "metadata": {},
   "outputs": [
    {
     "name": "stdout",
     "output_type": "stream",
     "text": [
      "<class 'pandas.core.frame.DataFrame'>\n",
      "Index: 380 entries, 13-Aug-2021 to 22-May-2022\n",
      "Data columns (total 3 columns):\n",
      " #   Column    Non-Null Count  Dtype \n",
      "---  ------    --------------  ----- \n",
      " 0   HomeTeam  380 non-null    object\n",
      " 1   Result    380 non-null    object\n",
      " 2   AwayTeam  380 non-null    object\n",
      "dtypes: object(3)\n",
      "memory usage: 11.9+ KB\n"
     ]
    }
   ],
   "source": [
    "df.info()"
   ]
  },
  {
   "cell_type": "code",
   "execution_count": 10,
   "id": "0abd1805",
   "metadata": {},
   "outputs": [
    {
     "data": {
      "text/plain": [
       "HomeTeam    0\n",
       "Result      0\n",
       "AwayTeam    0\n",
       "dtype: int64"
      ]
     },
     "execution_count": 10,
     "metadata": {},
     "output_type": "execute_result"
    }
   ],
   "source": [
    "df.isna().sum()"
   ]
  },
  {
   "cell_type": "code",
   "execution_count": 11,
   "id": "7a5e79a5",
   "metadata": {},
   "outputs": [
    {
     "data": {
      "text/plain": [
       "(380, 3)"
      ]
     },
     "execution_count": 11,
     "metadata": {},
     "output_type": "execute_result"
    }
   ],
   "source": [
    "df.shape"
   ]
  },
  {
   "cell_type": "markdown",
   "id": "2b1257bc",
   "metadata": {},
   "source": [
    "### Lets work on the results"
   ]
  },
  {
   "cell_type": "code",
   "execution_count": 22,
   "id": "9281c6bf",
   "metadata": {},
   "outputs": [],
   "source": [
    "df['Result'] = df['Result'].astype('category')"
   ]
  },
  {
   "cell_type": "code",
   "execution_count": 24,
   "id": "5f6f1969",
   "metadata": {},
   "outputs": [
    {
     "data": {
      "text/plain": [
       "CategoricalDtype(categories=['0:0', '0:1', '0:2', '0:3', '0:4', '0:5', '0:6', '1:0',\n",
       "                  '1:1', '1:2', '1:3', '1:4', '1:5', '2:0', '2:1', '2:2',\n",
       "                  '2:3', '2:4', '2:5', '3:0', '3:1', '3:2', '3:3', '4:0',\n",
       "                  '4:1', '4:2', '5:0', '5:1', '6:0', '6:3', '7:0'],\n",
       ", ordered=False)"
      ]
     },
     "execution_count": 24,
     "metadata": {},
     "output_type": "execute_result"
    }
   ],
   "source": [
    "\n",
    "df['Result'].dtypes"
   ]
  },
  {
   "cell_type": "markdown",
   "id": "16aa9d69",
   "metadata": {},
   "source": [
    "### Create goals column from results column"
   ]
  },
  {
   "cell_type": "code",
   "execution_count": 56,
   "id": "c23eda99",
   "metadata": {},
   "outputs": [
    {
     "data": {
      "text/html": [
       "<div>\n",
       "<style scoped>\n",
       "    .dataframe tbody tr th:only-of-type {\n",
       "        vertical-align: middle;\n",
       "    }\n",
       "\n",
       "    .dataframe tbody tr th {\n",
       "        vertical-align: top;\n",
       "    }\n",
       "\n",
       "    .dataframe thead th {\n",
       "        text-align: right;\n",
       "    }\n",
       "</style>\n",
       "<table border=\"1\" class=\"dataframe\">\n",
       "  <thead>\n",
       "    <tr style=\"text-align: right;\">\n",
       "      <th></th>\n",
       "      <th>HomeTeam</th>\n",
       "      <th>Result</th>\n",
       "      <th>AwayTeam</th>\n",
       "      <th>goals</th>\n",
       "    </tr>\n",
       "    <tr>\n",
       "      <th>Date</th>\n",
       "      <th></th>\n",
       "      <th></th>\n",
       "      <th></th>\n",
       "      <th></th>\n",
       "    </tr>\n",
       "  </thead>\n",
       "  <tbody>\n",
       "    <tr>\n",
       "      <th>13-Aug-2021</th>\n",
       "      <td>Brentford</td>\n",
       "      <td>2:0</td>\n",
       "      <td>Arsenal</td>\n",
       "      <td>[2, 0]</td>\n",
       "    </tr>\n",
       "    <tr>\n",
       "      <th>14-Aug-2021</th>\n",
       "      <td>Burnley</td>\n",
       "      <td>1:2</td>\n",
       "      <td>Brighton and Hove Albion</td>\n",
       "      <td>[1, 2]</td>\n",
       "    </tr>\n",
       "    <tr>\n",
       "      <th>14-Aug-2021</th>\n",
       "      <td>Chelsea</td>\n",
       "      <td>3:0</td>\n",
       "      <td>Crystal Palace</td>\n",
       "      <td>[3, 0]</td>\n",
       "    </tr>\n",
       "    <tr>\n",
       "      <th>14-Aug-2021</th>\n",
       "      <td>Everton</td>\n",
       "      <td>3:1</td>\n",
       "      <td>Southampton</td>\n",
       "      <td>[3, 1]</td>\n",
       "    </tr>\n",
       "    <tr>\n",
       "      <th>14-Aug-2021</th>\n",
       "      <td>Leicester City</td>\n",
       "      <td>1:0</td>\n",
       "      <td>Wolverhampton Wanderers</td>\n",
       "      <td>[1, 0]</td>\n",
       "    </tr>\n",
       "  </tbody>\n",
       "</table>\n",
       "</div>"
      ],
      "text/plain": [
       "                   HomeTeam Result                  AwayTeam   goals\n",
       "Date                                                                \n",
       "13-Aug-2021       Brentford    2:0                   Arsenal  [2, 0]\n",
       "14-Aug-2021         Burnley    1:2  Brighton and Hove Albion  [1, 2]\n",
       "14-Aug-2021         Chelsea    3:0            Crystal Palace  [3, 0]\n",
       "14-Aug-2021         Everton    3:1               Southampton  [3, 1]\n",
       "14-Aug-2021  Leicester City    1:0   Wolverhampton Wanderers  [1, 0]"
      ]
     },
     "execution_count": 56,
     "metadata": {},
     "output_type": "execute_result"
    }
   ],
   "source": [
    "df['goals'] = df['Result'].str.split(':',n=-1, expand=False)\n",
    "df.head()"
   ]
  },
  {
   "cell_type": "markdown",
   "id": "b7592acb",
   "metadata": {},
   "source": [
    "### Create home_goals and away_goals columns from goals column"
   ]
  },
  {
   "cell_type": "code",
   "execution_count": 62,
   "id": "b8623eff",
   "metadata": {},
   "outputs": [],
   "source": [
    "df['home_goals']=[x[0] for x in df['goals']]"
   ]
  },
  {
   "cell_type": "code",
   "execution_count": 65,
   "id": "9806b64f",
   "metadata": {},
   "outputs": [],
   "source": [
    "df['away_goals'] = [x[1] for x in df['goals']]"
   ]
  },
  {
   "cell_type": "code",
   "execution_count": 66,
   "id": "b1b2adfb",
   "metadata": {},
   "outputs": [
    {
     "data": {
      "text/html": [
       "<div>\n",
       "<style scoped>\n",
       "    .dataframe tbody tr th:only-of-type {\n",
       "        vertical-align: middle;\n",
       "    }\n",
       "\n",
       "    .dataframe tbody tr th {\n",
       "        vertical-align: top;\n",
       "    }\n",
       "\n",
       "    .dataframe thead th {\n",
       "        text-align: right;\n",
       "    }\n",
       "</style>\n",
       "<table border=\"1\" class=\"dataframe\">\n",
       "  <thead>\n",
       "    <tr style=\"text-align: right;\">\n",
       "      <th></th>\n",
       "      <th>HomeTeam</th>\n",
       "      <th>Result</th>\n",
       "      <th>AwayTeam</th>\n",
       "      <th>goals</th>\n",
       "      <th>home_goals</th>\n",
       "      <th>away_goals</th>\n",
       "    </tr>\n",
       "    <tr>\n",
       "      <th>Date</th>\n",
       "      <th></th>\n",
       "      <th></th>\n",
       "      <th></th>\n",
       "      <th></th>\n",
       "      <th></th>\n",
       "      <th></th>\n",
       "    </tr>\n",
       "  </thead>\n",
       "  <tbody>\n",
       "    <tr>\n",
       "      <th>13-Aug-2021</th>\n",
       "      <td>Brentford</td>\n",
       "      <td>2:0</td>\n",
       "      <td>Arsenal</td>\n",
       "      <td>[2, 0]</td>\n",
       "      <td>2</td>\n",
       "      <td>0</td>\n",
       "    </tr>\n",
       "    <tr>\n",
       "      <th>14-Aug-2021</th>\n",
       "      <td>Burnley</td>\n",
       "      <td>1:2</td>\n",
       "      <td>Brighton and Hove Albion</td>\n",
       "      <td>[1, 2]</td>\n",
       "      <td>1</td>\n",
       "      <td>2</td>\n",
       "    </tr>\n",
       "    <tr>\n",
       "      <th>14-Aug-2021</th>\n",
       "      <td>Chelsea</td>\n",
       "      <td>3:0</td>\n",
       "      <td>Crystal Palace</td>\n",
       "      <td>[3, 0]</td>\n",
       "      <td>3</td>\n",
       "      <td>0</td>\n",
       "    </tr>\n",
       "    <tr>\n",
       "      <th>14-Aug-2021</th>\n",
       "      <td>Everton</td>\n",
       "      <td>3:1</td>\n",
       "      <td>Southampton</td>\n",
       "      <td>[3, 1]</td>\n",
       "      <td>3</td>\n",
       "      <td>1</td>\n",
       "    </tr>\n",
       "    <tr>\n",
       "      <th>14-Aug-2021</th>\n",
       "      <td>Leicester City</td>\n",
       "      <td>1:0</td>\n",
       "      <td>Wolverhampton Wanderers</td>\n",
       "      <td>[1, 0]</td>\n",
       "      <td>1</td>\n",
       "      <td>0</td>\n",
       "    </tr>\n",
       "  </tbody>\n",
       "</table>\n",
       "</div>"
      ],
      "text/plain": [
       "                   HomeTeam Result                  AwayTeam   goals  \\\n",
       "Date                                                                   \n",
       "13-Aug-2021       Brentford    2:0                   Arsenal  [2, 0]   \n",
       "14-Aug-2021         Burnley    1:2  Brighton and Hove Albion  [1, 2]   \n",
       "14-Aug-2021         Chelsea    3:0            Crystal Palace  [3, 0]   \n",
       "14-Aug-2021         Everton    3:1               Southampton  [3, 1]   \n",
       "14-Aug-2021  Leicester City    1:0   Wolverhampton Wanderers  [1, 0]   \n",
       "\n",
       "            home_goals away_goals  \n",
       "Date                               \n",
       "13-Aug-2021          2          0  \n",
       "14-Aug-2021          1          2  \n",
       "14-Aug-2021          3          0  \n",
       "14-Aug-2021          3          1  \n",
       "14-Aug-2021          1          0  "
      ]
     },
     "execution_count": 66,
     "metadata": {},
     "output_type": "execute_result"
    }
   ],
   "source": [
    "df.head()"
   ]
  },
  {
   "cell_type": "code",
   "execution_count": 67,
   "id": "ee2f3d85",
   "metadata": {},
   "outputs": [],
   "source": [
    "## Save the dataset\n",
    "df.to_csv('EPL_matches_results.csv')"
   ]
  },
  {
   "cell_type": "code",
   "execution_count": 68,
   "id": "c928a41b",
   "metadata": {},
   "outputs": [],
   "source": [
    "data = df.copy()"
   ]
  },
  {
   "cell_type": "markdown",
   "id": "79841c32",
   "metadata": {},
   "source": [
    "### Let's drop the columns that are not needed\n",
    "**Results column and goals column"
   ]
  },
  {
   "cell_type": "code",
   "execution_count": 69,
   "id": "812f6155",
   "metadata": {},
   "outputs": [],
   "source": [
    "data.drop(['Result', 'goals'],axis=1, inplace=True)"
   ]
  },
  {
   "cell_type": "code",
   "execution_count": 70,
   "id": "3039fea4",
   "metadata": {},
   "outputs": [
    {
     "data": {
      "text/html": [
       "<div>\n",
       "<style scoped>\n",
       "    .dataframe tbody tr th:only-of-type {\n",
       "        vertical-align: middle;\n",
       "    }\n",
       "\n",
       "    .dataframe tbody tr th {\n",
       "        vertical-align: top;\n",
       "    }\n",
       "\n",
       "    .dataframe thead th {\n",
       "        text-align: right;\n",
       "    }\n",
       "</style>\n",
       "<table border=\"1\" class=\"dataframe\">\n",
       "  <thead>\n",
       "    <tr style=\"text-align: right;\">\n",
       "      <th></th>\n",
       "      <th>HomeTeam</th>\n",
       "      <th>AwayTeam</th>\n",
       "      <th>home_goals</th>\n",
       "      <th>away_goals</th>\n",
       "    </tr>\n",
       "    <tr>\n",
       "      <th>Date</th>\n",
       "      <th></th>\n",
       "      <th></th>\n",
       "      <th></th>\n",
       "      <th></th>\n",
       "    </tr>\n",
       "  </thead>\n",
       "  <tbody>\n",
       "    <tr>\n",
       "      <th>13-Aug-2021</th>\n",
       "      <td>Brentford</td>\n",
       "      <td>Arsenal</td>\n",
       "      <td>2</td>\n",
       "      <td>0</td>\n",
       "    </tr>\n",
       "    <tr>\n",
       "      <th>14-Aug-2021</th>\n",
       "      <td>Burnley</td>\n",
       "      <td>Brighton and Hove Albion</td>\n",
       "      <td>1</td>\n",
       "      <td>2</td>\n",
       "    </tr>\n",
       "    <tr>\n",
       "      <th>14-Aug-2021</th>\n",
       "      <td>Chelsea</td>\n",
       "      <td>Crystal Palace</td>\n",
       "      <td>3</td>\n",
       "      <td>0</td>\n",
       "    </tr>\n",
       "    <tr>\n",
       "      <th>14-Aug-2021</th>\n",
       "      <td>Everton</td>\n",
       "      <td>Southampton</td>\n",
       "      <td>3</td>\n",
       "      <td>1</td>\n",
       "    </tr>\n",
       "    <tr>\n",
       "      <th>14-Aug-2021</th>\n",
       "      <td>Leicester City</td>\n",
       "      <td>Wolverhampton Wanderers</td>\n",
       "      <td>1</td>\n",
       "      <td>0</td>\n",
       "    </tr>\n",
       "  </tbody>\n",
       "</table>\n",
       "</div>"
      ],
      "text/plain": [
       "                   HomeTeam                  AwayTeam home_goals away_goals\n",
       "Date                                                                       \n",
       "13-Aug-2021       Brentford                   Arsenal          2          0\n",
       "14-Aug-2021         Burnley  Brighton and Hove Albion          1          2\n",
       "14-Aug-2021         Chelsea            Crystal Palace          3          0\n",
       "14-Aug-2021         Everton               Southampton          3          1\n",
       "14-Aug-2021  Leicester City   Wolverhampton Wanderers          1          0"
      ]
     },
     "execution_count": 70,
     "metadata": {},
     "output_type": "execute_result"
    }
   ],
   "source": [
    "data.head()"
   ]
  },
  {
   "cell_type": "code",
   "execution_count": 73,
   "id": "f86a6844",
   "metadata": {},
   "outputs": [
    {
     "name": "stdout",
     "output_type": "stream",
     "text": [
      "<class 'pandas.core.frame.DataFrame'>\n",
      "Index: 380 entries, 13-Aug-2021 to 22-May-2022\n",
      "Data columns (total 4 columns):\n",
      " #   Column      Non-Null Count  Dtype \n",
      "---  ------      --------------  ----- \n",
      " 0   HomeTeam    380 non-null    object\n",
      " 1   AwayTeam    380 non-null    object\n",
      " 2   home_goals  380 non-null    object\n",
      " 3   away_goals  380 non-null    object\n",
      "dtypes: object(4)\n",
      "memory usage: 22.9+ KB\n"
     ]
    }
   ],
   "source": [
    "data.info()"
   ]
  },
  {
   "cell_type": "markdown",
   "id": "8913b79e",
   "metadata": {},
   "source": [
    "### Convert home_goals and away_goals to numerical variables"
   ]
  },
  {
   "cell_type": "code",
   "execution_count": 74,
   "id": "1b194eae",
   "metadata": {},
   "outputs": [],
   "source": [
    "data['home_goals'] = data['home_goals'].astype('int')\n",
    "data['away_goals'] = data['away_goals'].astype('int')"
   ]
  },
  {
   "cell_type": "code",
   "execution_count": 76,
   "id": "94b7694b",
   "metadata": {},
   "outputs": [
    {
     "name": "stdout",
     "output_type": "stream",
     "text": [
      "<class 'pandas.core.frame.DataFrame'>\n",
      "Index: 380 entries, 13-Aug-2021 to 22-May-2022\n",
      "Data columns (total 4 columns):\n",
      " #   Column      Non-Null Count  Dtype \n",
      "---  ------      --------------  ----- \n",
      " 0   HomeTeam    380 non-null    object\n",
      " 1   AwayTeam    380 non-null    object\n",
      " 2   home_goals  380 non-null    int32 \n",
      " 3   away_goals  380 non-null    int32 \n",
      "dtypes: int32(2), object(2)\n",
      "memory usage: 20.0+ KB\n"
     ]
    }
   ],
   "source": [
    "data.info()"
   ]
  },
  {
   "cell_type": "code",
   "execution_count": 77,
   "id": "d643a44e",
   "metadata": {},
   "outputs": [],
   "source": [
    "# create column for date\n",
    "data['Date'] = data.index"
   ]
  },
  {
   "cell_type": "code",
   "execution_count": 78,
   "id": "a57523ff",
   "metadata": {},
   "outputs": [
    {
     "data": {
      "text/html": [
       "<div>\n",
       "<style scoped>\n",
       "    .dataframe tbody tr th:only-of-type {\n",
       "        vertical-align: middle;\n",
       "    }\n",
       "\n",
       "    .dataframe tbody tr th {\n",
       "        vertical-align: top;\n",
       "    }\n",
       "\n",
       "    .dataframe thead th {\n",
       "        text-align: right;\n",
       "    }\n",
       "</style>\n",
       "<table border=\"1\" class=\"dataframe\">\n",
       "  <thead>\n",
       "    <tr style=\"text-align: right;\">\n",
       "      <th></th>\n",
       "      <th>HomeTeam</th>\n",
       "      <th>AwayTeam</th>\n",
       "      <th>home_goals</th>\n",
       "      <th>away_goals</th>\n",
       "      <th>Date</th>\n",
       "    </tr>\n",
       "    <tr>\n",
       "      <th>Date</th>\n",
       "      <th></th>\n",
       "      <th></th>\n",
       "      <th></th>\n",
       "      <th></th>\n",
       "      <th></th>\n",
       "    </tr>\n",
       "  </thead>\n",
       "  <tbody>\n",
       "    <tr>\n",
       "      <th>13-Aug-2021</th>\n",
       "      <td>Brentford</td>\n",
       "      <td>Arsenal</td>\n",
       "      <td>2</td>\n",
       "      <td>0</td>\n",
       "      <td>13-Aug-2021</td>\n",
       "    </tr>\n",
       "    <tr>\n",
       "      <th>14-Aug-2021</th>\n",
       "      <td>Burnley</td>\n",
       "      <td>Brighton and Hove Albion</td>\n",
       "      <td>1</td>\n",
       "      <td>2</td>\n",
       "      <td>14-Aug-2021</td>\n",
       "    </tr>\n",
       "    <tr>\n",
       "      <th>14-Aug-2021</th>\n",
       "      <td>Chelsea</td>\n",
       "      <td>Crystal Palace</td>\n",
       "      <td>3</td>\n",
       "      <td>0</td>\n",
       "      <td>14-Aug-2021</td>\n",
       "    </tr>\n",
       "    <tr>\n",
       "      <th>14-Aug-2021</th>\n",
       "      <td>Everton</td>\n",
       "      <td>Southampton</td>\n",
       "      <td>3</td>\n",
       "      <td>1</td>\n",
       "      <td>14-Aug-2021</td>\n",
       "    </tr>\n",
       "    <tr>\n",
       "      <th>14-Aug-2021</th>\n",
       "      <td>Leicester City</td>\n",
       "      <td>Wolverhampton Wanderers</td>\n",
       "      <td>1</td>\n",
       "      <td>0</td>\n",
       "      <td>14-Aug-2021</td>\n",
       "    </tr>\n",
       "  </tbody>\n",
       "</table>\n",
       "</div>"
      ],
      "text/plain": [
       "                   HomeTeam                  AwayTeam  home_goals  away_goals  \\\n",
       "Date                                                                            \n",
       "13-Aug-2021       Brentford                   Arsenal           2           0   \n",
       "14-Aug-2021         Burnley  Brighton and Hove Albion           1           2   \n",
       "14-Aug-2021         Chelsea            Crystal Palace           3           0   \n",
       "14-Aug-2021         Everton               Southampton           3           1   \n",
       "14-Aug-2021  Leicester City   Wolverhampton Wanderers           1           0   \n",
       "\n",
       "                    Date  \n",
       "Date                      \n",
       "13-Aug-2021  13-Aug-2021  \n",
       "14-Aug-2021  14-Aug-2021  \n",
       "14-Aug-2021  14-Aug-2021  \n",
       "14-Aug-2021  14-Aug-2021  \n",
       "14-Aug-2021  14-Aug-2021  "
      ]
     },
     "execution_count": 78,
     "metadata": {},
     "output_type": "execute_result"
    }
   ],
   "source": [
    "data.head()"
   ]
  },
  {
   "cell_type": "code",
   "execution_count": 80,
   "id": "068850f8",
   "metadata": {},
   "outputs": [],
   "source": [
    "data['Date'] = pd.to_datetime(data['Date'])"
   ]
  },
  {
   "cell_type": "code",
   "execution_count": 81,
   "id": "d16b338b",
   "metadata": {},
   "outputs": [],
   "source": [
    "data['Month'] = data['Date'].apply(lambda t: t.month)"
   ]
  },
  {
   "cell_type": "code",
   "execution_count": 88,
   "id": "4d35f697",
   "metadata": {},
   "outputs": [
    {
     "data": {
      "text/html": [
       "<div>\n",
       "<style scoped>\n",
       "    .dataframe tbody tr th:only-of-type {\n",
       "        vertical-align: middle;\n",
       "    }\n",
       "\n",
       "    .dataframe tbody tr th {\n",
       "        vertical-align: top;\n",
       "    }\n",
       "\n",
       "    .dataframe thead th {\n",
       "        text-align: right;\n",
       "    }\n",
       "</style>\n",
       "<table border=\"1\" class=\"dataframe\">\n",
       "  <thead>\n",
       "    <tr style=\"text-align: right;\">\n",
       "      <th></th>\n",
       "      <th>HomeTeam</th>\n",
       "      <th>AwayTeam</th>\n",
       "      <th>home_goals</th>\n",
       "      <th>away_goals</th>\n",
       "      <th>Date</th>\n",
       "      <th>Month</th>\n",
       "    </tr>\n",
       "    <tr>\n",
       "      <th>Date</th>\n",
       "      <th></th>\n",
       "      <th></th>\n",
       "      <th></th>\n",
       "      <th></th>\n",
       "      <th></th>\n",
       "      <th></th>\n",
       "    </tr>\n",
       "  </thead>\n",
       "  <tbody>\n",
       "    <tr>\n",
       "      <th>13-Aug-2021</th>\n",
       "      <td>Brentford</td>\n",
       "      <td>Arsenal</td>\n",
       "      <td>2</td>\n",
       "      <td>0</td>\n",
       "      <td>2021-08-13</td>\n",
       "      <td>8</td>\n",
       "    </tr>\n",
       "    <tr>\n",
       "      <th>14-Aug-2021</th>\n",
       "      <td>Burnley</td>\n",
       "      <td>Brighton and Hove Albion</td>\n",
       "      <td>1</td>\n",
       "      <td>2</td>\n",
       "      <td>2021-08-14</td>\n",
       "      <td>8</td>\n",
       "    </tr>\n",
       "    <tr>\n",
       "      <th>14-Aug-2021</th>\n",
       "      <td>Chelsea</td>\n",
       "      <td>Crystal Palace</td>\n",
       "      <td>3</td>\n",
       "      <td>0</td>\n",
       "      <td>2021-08-14</td>\n",
       "      <td>8</td>\n",
       "    </tr>\n",
       "    <tr>\n",
       "      <th>14-Aug-2021</th>\n",
       "      <td>Everton</td>\n",
       "      <td>Southampton</td>\n",
       "      <td>3</td>\n",
       "      <td>1</td>\n",
       "      <td>2021-08-14</td>\n",
       "      <td>8</td>\n",
       "    </tr>\n",
       "    <tr>\n",
       "      <th>14-Aug-2021</th>\n",
       "      <td>Leicester City</td>\n",
       "      <td>Wolverhampton Wanderers</td>\n",
       "      <td>1</td>\n",
       "      <td>0</td>\n",
       "      <td>2021-08-14</td>\n",
       "      <td>8</td>\n",
       "    </tr>\n",
       "  </tbody>\n",
       "</table>\n",
       "</div>"
      ],
      "text/plain": [
       "                   HomeTeam                  AwayTeam  home_goals  away_goals  \\\n",
       "Date                                                                            \n",
       "13-Aug-2021       Brentford                   Arsenal           2           0   \n",
       "14-Aug-2021         Burnley  Brighton and Hove Albion           1           2   \n",
       "14-Aug-2021         Chelsea            Crystal Palace           3           0   \n",
       "14-Aug-2021         Everton               Southampton           3           1   \n",
       "14-Aug-2021  Leicester City   Wolverhampton Wanderers           1           0   \n",
       "\n",
       "                  Date  Month  \n",
       "Date                           \n",
       "13-Aug-2021 2021-08-13      8  \n",
       "14-Aug-2021 2021-08-14      8  \n",
       "14-Aug-2021 2021-08-14      8  \n",
       "14-Aug-2021 2021-08-14      8  \n",
       "14-Aug-2021 2021-08-14      8  "
      ]
     },
     "execution_count": 88,
     "metadata": {},
     "output_type": "execute_result"
    }
   ],
   "source": [
    "data.head()"
   ]
  },
  {
   "cell_type": "markdown",
   "id": "2d992eef",
   "metadata": {},
   "source": [
    "### EDA"
   ]
  },
  {
   "cell_type": "code",
   "execution_count": null,
   "id": "e7b63030",
   "metadata": {},
   "outputs": [],
   "source": []
  },
  {
   "cell_type": "code",
   "execution_count": null,
   "id": "79950669",
   "metadata": {},
   "outputs": [],
   "source": []
  },
  {
   "cell_type": "code",
   "execution_count": 108,
   "id": "2106a916",
   "metadata": {
    "scrolled": true
   },
   "outputs": [
    {
     "name": "stderr",
     "output_type": "stream",
     "text": [
      "C:\\Users\\Administrator\\AppData\\Local\\Temp\\ipykernel_7936\\4156975222.py:1: FutureWarning: The default value of numeric_only in DataFrameGroupBy.sum is deprecated. In a future version, numeric_only will default to False. Either specify numeric_only or select only columns which should be valid for the function.\n",
      "  data.groupby(data['Date']).sum()['home_goals'].plot()\n"
     ]
    },
    {
     "data": {
      "text/plain": [
       "<AxesSubplot:xlabel='Date'>"
      ]
     },
     "execution_count": 108,
     "metadata": {},
     "output_type": "execute_result"
    },
    {
     "data": {
      "image/png": "[encoded data removed]",
      "text/plain": [
       "<Figure size 432x288 with 1 Axes>"
      ]
     },
     "metadata": {
      "needs_background": "light"
     },
     "output_type": "display_data"
    }
   ],
   "source": [
    "data.groupby(data['Date']).sum()['home_goals'].plot()"
   ]
  },
  {
   "cell_type": "code",
   "execution_count": 105,
   "id": "aef50082",
   "metadata": {},
   "outputs": [
    {
     "data": {
      "text/plain": [
       "496"
      ]
     },
     "execution_count": 105,
     "metadata": {},
     "output_type": "execute_result"
    }
   ],
   "source": [
    "data['away_goals'].sum()"
   ]
  },
  {
   "cell_type": "code",
   "execution_count": null,
   "id": "2d7df04a",
   "metadata": {},
   "outputs": [],
   "source": []
  }
 ],
 "metadata": {
  "kernelspec": {
   "display_name": "Python 3 (ipykernel)",
   "language": "python",
   "name": "python3"
  },
  "language_info": {
   "codemirror_mode": {
    "name": "ipython",
    "version": 3
   },
   "file_extension": ".py",
   "mimetype": "text/x-python",
   "name": "python",
   "nbconvert_exporter": "python",
   "pygments_lexer": "ipython3",
   "version": "3.9.12"
  }
 },
 "nbformat": 4,
 "nbformat_minor": 5
}
