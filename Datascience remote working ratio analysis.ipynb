{
 "cells": [
  {
   "cell_type": "code",
   "execution_count": 24,
   "id": "4ad72d9f",
   "metadata": {},
   "outputs": [],
   "source": [
    "import pandas as pd\n",
    "import numpy as np\n",
    "import seaborn as sns\n",
    "import matplotlib.pyplot as plt\n",
    "%matplotlib inline\n",
    "import warnings \n",
    "warnings.filterwarnings('ignore')\n",
    "\n",
    "\n",
    "from scipy.stats import chi2_contingency, iqr\n",
    "import stat"
   ]
  },
  {
   "cell_type": "code",
   "execution_count": 6,
   "id": "3e982fd8",
   "metadata": {},
   "outputs": [],
   "source": [
    "# get the data\n",
    "data = pd.read_csv('Datasciencefield_salary.csv',index_col=None)"
   ]
  },
  {
   "cell_type": "code",
   "execution_count": 7,
   "id": "aa38c637",
   "metadata": {},
   "outputs": [
    {
     "data": {
      "text/html": [
       "<div>\n",
       "<style scoped>\n",
       "    .dataframe tbody tr th:only-of-type {\n",
       "        vertical-align: middle;\n",
       "    }\n",
       "\n",
       "    .dataframe tbody tr th {\n",
       "        vertical-align: top;\n",
       "    }\n",
       "\n",
       "    .dataframe thead th {\n",
       "        text-align: right;\n",
       "    }\n",
       "</style>\n",
       "<table border=\"1\" class=\"dataframe\">\n",
       "  <thead>\n",
       "    <tr style=\"text-align: right;\">\n",
       "      <th></th>\n",
       "      <th>Unnamed: 0</th>\n",
       "      <th>Working_Year</th>\n",
       "      <th>Designation</th>\n",
       "      <th>Experience</th>\n",
       "      <th>Employment_Status</th>\n",
       "      <th>Salary_In_Rupees</th>\n",
       "      <th>Employee_Location</th>\n",
       "      <th>Company_Location</th>\n",
       "      <th>Company_Size</th>\n",
       "      <th>Remote_Working_Ratio</th>\n",
       "    </tr>\n",
       "  </thead>\n",
       "  <tbody>\n",
       "    <tr>\n",
       "      <th>0</th>\n",
       "      <td>1</td>\n",
       "      <td>2020</td>\n",
       "      <td>Data Scientist</td>\n",
       "      <td>MI</td>\n",
       "      <td>FT</td>\n",
       "      <td>6352272.0</td>\n",
       "      <td>DE</td>\n",
       "      <td>DE</td>\n",
       "      <td>L</td>\n",
       "      <td>0</td>\n",
       "    </tr>\n",
       "    <tr>\n",
       "      <th>1</th>\n",
       "      <td>2</td>\n",
       "      <td>2020</td>\n",
       "      <td>Machine Learning Scientist</td>\n",
       "      <td>SE</td>\n",
       "      <td>FT</td>\n",
       "      <td>20688070.0</td>\n",
       "      <td>JP</td>\n",
       "      <td>JP</td>\n",
       "      <td>S</td>\n",
       "      <td>0</td>\n",
       "    </tr>\n",
       "    <tr>\n",
       "      <th>2</th>\n",
       "      <td>3</td>\n",
       "      <td>2020</td>\n",
       "      <td>Big Data Engineer</td>\n",
       "      <td>SE</td>\n",
       "      <td>FT</td>\n",
       "      <td>8674985.0</td>\n",
       "      <td>GB</td>\n",
       "      <td>GB</td>\n",
       "      <td>M</td>\n",
       "      <td>50</td>\n",
       "    </tr>\n",
       "    <tr>\n",
       "      <th>3</th>\n",
       "      <td>4</td>\n",
       "      <td>2020</td>\n",
       "      <td>Product Data Analyst</td>\n",
       "      <td>MI</td>\n",
       "      <td>FT</td>\n",
       "      <td>1591390.0</td>\n",
       "      <td>HN</td>\n",
       "      <td>HN</td>\n",
       "      <td>S</td>\n",
       "      <td>0</td>\n",
       "    </tr>\n",
       "    <tr>\n",
       "      <th>4</th>\n",
       "      <td>5</td>\n",
       "      <td>2020</td>\n",
       "      <td>Machine Learning Engineer</td>\n",
       "      <td>SE</td>\n",
       "      <td>FT</td>\n",
       "      <td>11935425.0</td>\n",
       "      <td>US</td>\n",
       "      <td>US</td>\n",
       "      <td>L</td>\n",
       "      <td>50</td>\n",
       "    </tr>\n",
       "  </tbody>\n",
       "</table>\n",
       "</div>"
      ],
      "text/plain": [
       "   Unnamed: 0  Working_Year                 Designation Experience  \\\n",
       "0           1          2020              Data Scientist         MI   \n",
       "1           2          2020  Machine Learning Scientist         SE   \n",
       "2           3          2020           Big Data Engineer         SE   \n",
       "3           4          2020        Product Data Analyst         MI   \n",
       "4           5          2020   Machine Learning Engineer         SE   \n",
       "\n",
       "  Employment_Status  Salary_In_Rupees Employee_Location Company_Location  \\\n",
       "0                FT         6352272.0                DE               DE   \n",
       "1                FT        20688070.0                JP               JP   \n",
       "2                FT         8674985.0                GB               GB   \n",
       "3                FT         1591390.0                HN               HN   \n",
       "4                FT        11935425.0                US               US   \n",
       "\n",
       "  Company_Size  Remote_Working_Ratio  \n",
       "0            L                     0  \n",
       "1            S                     0  \n",
       "2            M                    50  \n",
       "3            S                     0  \n",
       "4            L                    50  "
      ]
     },
     "execution_count": 7,
     "metadata": {},
     "output_type": "execute_result"
    }
   ],
   "source": [
    "data.head()"
   ]
  },
  {
   "cell_type": "code",
   "execution_count": 17,
   "id": "59baf491",
   "metadata": {},
   "outputs": [],
   "source": [
    "# lets change the remote_working ratio column variable\n",
    "\n",
    "data['Remote_Working_Ratio'] = data['Remote_Working_Ratio'].map({0:'No remote',50:'Partial remote',100:'Full remote'})\n"
   ]
  },
  {
   "cell_type": "code",
   "execution_count": 10,
   "id": "7075c2c7",
   "metadata": {},
   "outputs": [],
   "source": [
    "data.drop(['Unnamed: 0'],axis=1,inplace=True)"
   ]
  },
  {
   "cell_type": "code",
   "execution_count": 11,
   "id": "ac918d2b",
   "metadata": {},
   "outputs": [
    {
     "data": {
      "text/plain": [
       "(607, 9)"
      ]
     },
     "execution_count": 11,
     "metadata": {},
     "output_type": "execute_result"
    }
   ],
   "source": [
    "data.shape"
   ]
  },
  {
   "cell_type": "code",
   "execution_count": 12,
   "id": "19facc9d",
   "metadata": {},
   "outputs": [
    {
     "name": "stdout",
     "output_type": "stream",
     "text": [
      "<class 'pandas.core.frame.DataFrame'>\n",
      "RangeIndex: 607 entries, 0 to 606\n",
      "Data columns (total 9 columns):\n",
      " #   Column                Non-Null Count  Dtype  \n",
      "---  ------                --------------  -----  \n",
      " 0   Working_Year          607 non-null    int64  \n",
      " 1   Designation           607 non-null    object \n",
      " 2   Experience            607 non-null    object \n",
      " 3   Employment_Status     607 non-null    object \n",
      " 4   Salary_In_Rupees      607 non-null    float64\n",
      " 5   Employee_Location     607 non-null    object \n",
      " 6   Company_Location      607 non-null    object \n",
      " 7   Company_Size          607 non-null    object \n",
      " 8   Remote_Working_Ratio  607 non-null    int64  \n",
      "dtypes: float64(1), int64(2), object(6)\n",
      "memory usage: 42.8+ KB\n"
     ]
    }
   ],
   "source": [
    "data.info()"
   ]
  },
  {
   "cell_type": "code",
   "execution_count": 18,
   "id": "fa9ec511",
   "metadata": {},
   "outputs": [
    {
     "data": {
      "text/html": [
       "<div>\n",
       "<style scoped>\n",
       "    .dataframe tbody tr th:only-of-type {\n",
       "        vertical-align: middle;\n",
       "    }\n",
       "\n",
       "    .dataframe tbody tr th {\n",
       "        vertical-align: top;\n",
       "    }\n",
       "\n",
       "    .dataframe thead th {\n",
       "        text-align: right;\n",
       "    }\n",
       "</style>\n",
       "<table border=\"1\" class=\"dataframe\">\n",
       "  <thead>\n",
       "    <tr style=\"text-align: right;\">\n",
       "      <th></th>\n",
       "      <th>Working_Year</th>\n",
       "      <th>Salary_In_Rupees</th>\n",
       "    </tr>\n",
       "  </thead>\n",
       "  <tbody>\n",
       "    <tr>\n",
       "      <th>count</th>\n",
       "      <td>607.000000</td>\n",
       "      <td>6.070000e+02</td>\n",
       "    </tr>\n",
       "    <tr>\n",
       "      <th>mean</th>\n",
       "      <td>2021.405272</td>\n",
       "      <td>8.935485e+06</td>\n",
       "    </tr>\n",
       "    <tr>\n",
       "      <th>std</th>\n",
       "      <td>0.692133</td>\n",
       "      <td>5.646034e+06</td>\n",
       "    </tr>\n",
       "    <tr>\n",
       "      <th>min</th>\n",
       "      <td>2020.000000</td>\n",
       "      <td>2.274890e+05</td>\n",
       "    </tr>\n",
       "    <tr>\n",
       "      <th>25%</th>\n",
       "      <td>2021.000000</td>\n",
       "      <td>4.991076e+06</td>\n",
       "    </tr>\n",
       "    <tr>\n",
       "      <th>50%</th>\n",
       "      <td>2022.000000</td>\n",
       "      <td>8.081874e+06</td>\n",
       "    </tr>\n",
       "    <tr>\n",
       "      <th>75%</th>\n",
       "      <td>2022.000000</td>\n",
       "      <td>1.193542e+07</td>\n",
       "    </tr>\n",
       "    <tr>\n",
       "      <th>max</th>\n",
       "      <td>2022.000000</td>\n",
       "      <td>4.774170e+07</td>\n",
       "    </tr>\n",
       "  </tbody>\n",
       "</table>\n",
       "</div>"
      ],
      "text/plain": [
       "       Working_Year  Salary_In_Rupees\n",
       "count    607.000000      6.070000e+02\n",
       "mean    2021.405272      8.935485e+06\n",
       "std        0.692133      5.646034e+06\n",
       "min     2020.000000      2.274890e+05\n",
       "25%     2021.000000      4.991076e+06\n",
       "50%     2022.000000      8.081874e+06\n",
       "75%     2022.000000      1.193542e+07\n",
       "max     2022.000000      4.774170e+07"
      ]
     },
     "execution_count": 18,
     "metadata": {},
     "output_type": "execute_result"
    }
   ],
   "source": [
    "data.describe()"
   ]
  },
  {
   "cell_type": "code",
   "execution_count": 23,
   "id": "0bd5cb0e",
   "metadata": {
    "scrolled": false
   },
   "outputs": [
    {
     "name": "stdout",
     "output_type": "stream",
     "text": [
      "2022    318\n",
      "2021    217\n",
      "2020     72\n",
      "Name: Working_Year, dtype: int64\n",
      "****************************************\n",
      "Data Scientist                              143\n",
      "Data Engineer                               132\n",
      "Data Analyst                                 97\n",
      "Machine Learning Engineer                    41\n",
      "Research Scientist                           16\n",
      "Data Science Manager                         12\n",
      "Data Architect                               11\n",
      "Big Data Engineer                             8\n",
      "Machine Learning Scientist                    8\n",
      "Principal Data Scientist                      7\n",
      "AI Scientist                                  7\n",
      "Data Science Consultant                       7\n",
      "Director of Data Science                      7\n",
      "Data Analytics Manager                        7\n",
      "ML Engineer                                   6\n",
      "Computer Vision Engineer                      6\n",
      "BI Data Analyst                               6\n",
      "Lead Data Engineer                            6\n",
      "Data Engineering Manager                      5\n",
      "Business Data Analyst                         5\n",
      "Head of Data                                  5\n",
      "Applied Data Scientist                        5\n",
      "Applied Machine Learning Scientist            4\n",
      "Head of Data Science                          4\n",
      "Analytics Engineer                            4\n",
      "Data Analytics Engineer                       4\n",
      "Machine Learning Developer                    3\n",
      "Machine Learning Infrastructure Engineer      3\n",
      "Lead Data Scientist                           3\n",
      "Computer Vision Software Engineer             3\n",
      "Lead Data Analyst                             3\n",
      "Data Science Engineer                         3\n",
      "Principal Data Engineer                       3\n",
      "Principal Data Analyst                        2\n",
      "ETL Developer                                 2\n",
      "Product Data Analyst                          2\n",
      "Director of Data Engineering                  2\n",
      "Financial Data Analyst                        2\n",
      "Cloud Data Engineer                           2\n",
      "Lead Machine Learning Engineer                1\n",
      "NLP Engineer                                  1\n",
      "Head of Machine Learning                      1\n",
      "3D Computer Vision Researcher                 1\n",
      "Data Specialist                               1\n",
      "Staff Data Scientist                          1\n",
      "Big Data Architect                            1\n",
      "Finance Data Analyst                          1\n",
      "Marketing Data Analyst                        1\n",
      "Machine Learning Manager                      1\n",
      "Data Analytics Lead                           1\n",
      "Name: Designation, dtype: int64\n",
      "****************************************\n",
      "SE    280\n",
      "MI    213\n",
      "EN     88\n",
      "EX     26\n",
      "Name: Experience, dtype: int64\n",
      "****************************************\n",
      "FT    588\n",
      "PT     10\n",
      "CT      5\n",
      "FL      4\n",
      "Name: Employment_Status, dtype: int64\n",
      "****************************************\n",
      "7956950.0     15\n",
      "9548340.0     12\n",
      "11935425.0    12\n",
      "15913900.0    10\n",
      "10741883.0     9\n",
      "              ..\n",
      "5888143.0      1\n",
      "4925034.0      1\n",
      "2069205.0      1\n",
      "1799146.0      1\n",
      "10264466.0     1\n",
      "Name: Salary_In_Rupees, Length: 369, dtype: int64\n",
      "****************************************\n",
      "US    332\n",
      "GB     44\n",
      "IN     30\n",
      "CA     29\n",
      "DE     25\n",
      "FR     18\n",
      "ES     15\n",
      "GR     13\n",
      "JP      7\n",
      "PT      6\n",
      "BR      6\n",
      "PK      6\n",
      "NL      5\n",
      "PL      4\n",
      "IT      4\n",
      "RU      4\n",
      "AE      3\n",
      "AT      3\n",
      "VN      3\n",
      "TR      3\n",
      "AU      3\n",
      "RO      2\n",
      "BE      2\n",
      "SG      2\n",
      "SI      2\n",
      "DK      2\n",
      "HU      2\n",
      "NG      2\n",
      "MX      2\n",
      "BO      1\n",
      "MY      1\n",
      "TN      1\n",
      "IE      1\n",
      "DZ      1\n",
      "AR      1\n",
      "CZ      1\n",
      "JE      1\n",
      "LU      1\n",
      "PR      1\n",
      "RS      1\n",
      "EE      1\n",
      "CL      1\n",
      "HK      1\n",
      "KE      1\n",
      "MD      1\n",
      "CO      1\n",
      "IR      1\n",
      "CN      1\n",
      "MT      1\n",
      "UA      1\n",
      "IQ      1\n",
      "HN      1\n",
      "BG      1\n",
      "HR      1\n",
      "PH      1\n",
      "NZ      1\n",
      "CH      1\n",
      "Name: Employee_Location, dtype: int64\n",
      "****************************************\n",
      "US    355\n",
      "GB     47\n",
      "CA     30\n",
      "DE     28\n",
      "IN     24\n",
      "FR     15\n",
      "ES     14\n",
      "GR     11\n",
      "JP      6\n",
      "NL      4\n",
      "AT      4\n",
      "PT      4\n",
      "PL      4\n",
      "LU      3\n",
      "PK      3\n",
      "BR      3\n",
      "AE      3\n",
      "MX      3\n",
      "AU      3\n",
      "TR      3\n",
      "DK      3\n",
      "IT      2\n",
      "CZ      2\n",
      "SI      2\n",
      "RU      2\n",
      "CH      2\n",
      "NG      2\n",
      "CN      2\n",
      "BE      2\n",
      "VN      1\n",
      "EE      1\n",
      "AS      1\n",
      "DZ      1\n",
      "MY      1\n",
      "MD      1\n",
      "KE      1\n",
      "SG      1\n",
      "CO      1\n",
      "IR      1\n",
      "CL      1\n",
      "MT      1\n",
      "IL      1\n",
      "UA      1\n",
      "IQ      1\n",
      "RO      1\n",
      "HR      1\n",
      "NZ      1\n",
      "HU      1\n",
      "HN      1\n",
      "IE      1\n",
      "Name: Company_Location, dtype: int64\n",
      "****************************************\n",
      "M    326\n",
      "L    198\n",
      "S     83\n",
      "Name: Company_Size, dtype: int64\n",
      "****************************************\n",
      "Full remote       381\n",
      "No remote         127\n",
      "Partial remote     99\n",
      "Name: Remote_Working_Ratio, dtype: int64\n",
      "****************************************\n"
     ]
    }
   ],
   "source": [
    "for i in data:\n",
    "    print(data[i].value_counts())\n",
    "    print('****************************************')\n",
    "    "
   ]
  },
  {
   "cell_type": "markdown",
   "id": "22a9638e",
   "metadata": {},
   "source": [
    "### Categorical variables"
   ]
  },
  {
   "cell_type": "code",
   "execution_count": 19,
   "id": "079023e4",
   "metadata": {},
   "outputs": [],
   "source": [
    "# Categorical variables\n",
    "\n",
    "category = []\n",
    "\n",
    "for c in data.columns:\n",
    "    if data[c].dtypes in ['object']:\n",
    "        category.append(c)\n",
    "    "
   ]
  },
  {
   "cell_type": "code",
   "execution_count": 20,
   "id": "9d51445d",
   "metadata": {},
   "outputs": [
    {
     "data": {
      "text/plain": [
       "['Designation',\n",
       " 'Experience',\n",
       " 'Employment_Status',\n",
       " 'Employee_Location',\n",
       " 'Company_Location',\n",
       " 'Company_Size',\n",
       " 'Remote_Working_Ratio']"
      ]
     },
     "execution_count": 20,
     "metadata": {},
     "output_type": "execute_result"
    }
   ],
   "source": [
    "category"
   ]
  },
  {
   "cell_type": "code",
   "execution_count": 21,
   "id": "49cedb98",
   "metadata": {},
   "outputs": [
    {
     "data": {
      "text/html": [
       "<div>\n",
       "<style scoped>\n",
       "    .dataframe tbody tr th:only-of-type {\n",
       "        vertical-align: middle;\n",
       "    }\n",
       "\n",
       "    .dataframe tbody tr th {\n",
       "        vertical-align: top;\n",
       "    }\n",
       "\n",
       "    .dataframe thead th {\n",
       "        text-align: right;\n",
       "    }\n",
       "</style>\n",
       "<table border=\"1\" class=\"dataframe\">\n",
       "  <thead>\n",
       "    <tr style=\"text-align: right;\">\n",
       "      <th></th>\n",
       "      <th>Designation</th>\n",
       "      <th>Experience</th>\n",
       "      <th>Employment_Status</th>\n",
       "      <th>Employee_Location</th>\n",
       "      <th>Company_Location</th>\n",
       "      <th>Company_Size</th>\n",
       "      <th>Remote_Working_Ratio</th>\n",
       "    </tr>\n",
       "  </thead>\n",
       "  <tbody>\n",
       "    <tr>\n",
       "      <th>0</th>\n",
       "      <td>Data Scientist</td>\n",
       "      <td>MI</td>\n",
       "      <td>FT</td>\n",
       "      <td>DE</td>\n",
       "      <td>DE</td>\n",
       "      <td>L</td>\n",
       "      <td>No remote</td>\n",
       "    </tr>\n",
       "    <tr>\n",
       "      <th>1</th>\n",
       "      <td>Machine Learning Scientist</td>\n",
       "      <td>SE</td>\n",
       "      <td>FT</td>\n",
       "      <td>JP</td>\n",
       "      <td>JP</td>\n",
       "      <td>S</td>\n",
       "      <td>No remote</td>\n",
       "    </tr>\n",
       "    <tr>\n",
       "      <th>2</th>\n",
       "      <td>Big Data Engineer</td>\n",
       "      <td>SE</td>\n",
       "      <td>FT</td>\n",
       "      <td>GB</td>\n",
       "      <td>GB</td>\n",
       "      <td>M</td>\n",
       "      <td>Partial remote</td>\n",
       "    </tr>\n",
       "    <tr>\n",
       "      <th>3</th>\n",
       "      <td>Product Data Analyst</td>\n",
       "      <td>MI</td>\n",
       "      <td>FT</td>\n",
       "      <td>HN</td>\n",
       "      <td>HN</td>\n",
       "      <td>S</td>\n",
       "      <td>No remote</td>\n",
       "    </tr>\n",
       "    <tr>\n",
       "      <th>4</th>\n",
       "      <td>Machine Learning Engineer</td>\n",
       "      <td>SE</td>\n",
       "      <td>FT</td>\n",
       "      <td>US</td>\n",
       "      <td>US</td>\n",
       "      <td>L</td>\n",
       "      <td>Partial remote</td>\n",
       "    </tr>\n",
       "    <tr>\n",
       "      <th>...</th>\n",
       "      <td>...</td>\n",
       "      <td>...</td>\n",
       "      <td>...</td>\n",
       "      <td>...</td>\n",
       "      <td>...</td>\n",
       "      <td>...</td>\n",
       "      <td>...</td>\n",
       "    </tr>\n",
       "    <tr>\n",
       "      <th>602</th>\n",
       "      <td>Data Engineer</td>\n",
       "      <td>SE</td>\n",
       "      <td>FT</td>\n",
       "      <td>US</td>\n",
       "      <td>US</td>\n",
       "      <td>M</td>\n",
       "      <td>Full remote</td>\n",
       "    </tr>\n",
       "    <tr>\n",
       "      <th>603</th>\n",
       "      <td>Data Engineer</td>\n",
       "      <td>SE</td>\n",
       "      <td>FT</td>\n",
       "      <td>US</td>\n",
       "      <td>US</td>\n",
       "      <td>M</td>\n",
       "      <td>Full remote</td>\n",
       "    </tr>\n",
       "    <tr>\n",
       "      <th>604</th>\n",
       "      <td>Data Analyst</td>\n",
       "      <td>SE</td>\n",
       "      <td>FT</td>\n",
       "      <td>US</td>\n",
       "      <td>US</td>\n",
       "      <td>M</td>\n",
       "      <td>No remote</td>\n",
       "    </tr>\n",
       "    <tr>\n",
       "      <th>605</th>\n",
       "      <td>Data Analyst</td>\n",
       "      <td>SE</td>\n",
       "      <td>FT</td>\n",
       "      <td>US</td>\n",
       "      <td>US</td>\n",
       "      <td>M</td>\n",
       "      <td>Full remote</td>\n",
       "    </tr>\n",
       "    <tr>\n",
       "      <th>606</th>\n",
       "      <td>AI Scientist</td>\n",
       "      <td>MI</td>\n",
       "      <td>FT</td>\n",
       "      <td>IN</td>\n",
       "      <td>US</td>\n",
       "      <td>L</td>\n",
       "      <td>Full remote</td>\n",
       "    </tr>\n",
       "  </tbody>\n",
       "</table>\n",
       "<p>607 rows × 7 columns</p>\n",
       "</div>"
      ],
      "text/plain": [
       "                    Designation Experience Employment_Status  \\\n",
       "0                Data Scientist         MI                FT   \n",
       "1    Machine Learning Scientist         SE                FT   \n",
       "2             Big Data Engineer         SE                FT   \n",
       "3          Product Data Analyst         MI                FT   \n",
       "4     Machine Learning Engineer         SE                FT   \n",
       "..                          ...        ...               ...   \n",
       "602               Data Engineer         SE                FT   \n",
       "603               Data Engineer         SE                FT   \n",
       "604                Data Analyst         SE                FT   \n",
       "605                Data Analyst         SE                FT   \n",
       "606                AI Scientist         MI                FT   \n",
       "\n",
       "    Employee_Location Company_Location Company_Size Remote_Working_Ratio  \n",
       "0                  DE               DE            L            No remote  \n",
       "1                  JP               JP            S            No remote  \n",
       "2                  GB               GB            M       Partial remote  \n",
       "3                  HN               HN            S            No remote  \n",
       "4                  US               US            L       Partial remote  \n",
       "..                ...              ...          ...                  ...  \n",
       "602                US               US            M          Full remote  \n",
       "603                US               US            M          Full remote  \n",
       "604                US               US            M            No remote  \n",
       "605                US               US            M          Full remote  \n",
       "606                IN               US            L          Full remote  \n",
       "\n",
       "[607 rows x 7 columns]"
      ]
     },
     "execution_count": 21,
     "metadata": {},
     "output_type": "execute_result"
    }
   ],
   "source": [
    "data.loc[:,category]"
   ]
  },
  {
   "cell_type": "code",
   "execution_count": 25,
   "id": "51d81c98",
   "metadata": {},
   "outputs": [],
   "source": [
    "import colorama\n",
    "from colorama import Fore"
   ]
  },
  {
   "cell_type": "markdown",
   "id": "606b11c6",
   "metadata": {},
   "source": [
    "### Statistical Testing using Chisquare"
   ]
  },
  {
   "cell_type": "code",
   "execution_count": 29,
   "id": "93ab82a5",
   "metadata": {
    "scrolled": true
   },
   "outputs": [
    {
     "name": "stdout",
     "output_type": "stream",
     "text": [
      "Designation:\n"
     ]
    },
    {
     "data": {
      "image/png": "[encoded data removed]",
      "text/plain": [
       "<Figure size 720x360 with 1 Axes>"
      ]
     },
     "metadata": {
      "needs_background": "light"
     },
     "output_type": "display_data"
    },
    {
     "name": "stdout",
     "output_type": "stream",
     "text": [
      "\u001b[32m 'Designation' is Good Predictor\n",
      "p_val=0.005254968562783113\n",
      "\n",
      "Experience:\n"
     ]
    },
    {
     "data": {
      "image/png": "[encoded data removed]",
      "text/plain": [
       "<Figure size 720x360 with 1 Axes>"
      ]
     },
     "metadata": {
      "needs_background": "light"
     },
     "output_type": "display_data"
    },
    {
     "name": "stdout",
     "output_type": "stream",
     "text": [
      "\u001b[32m 'Experience' is Good Predictor\n",
      "p_val=5.59056308325481e-05\n",
      "\n",
      "Employment_Status:\n"
     ]
    },
    {
     "data": {
      "image/png": "[encoded data removed]",
      "text/plain": [
       "<Figure size 720x360 with 1 Axes>"
      ]
     },
     "metadata": {
      "needs_background": "light"
     },
     "output_type": "display_data"
    },
    {
     "name": "stdout",
     "output_type": "stream",
     "text": [
      "\u001b[32m 'Employment_Status' is Good Predictor\n",
      "p_val=0.005888028912184732\n",
      "\n",
      "Employee_Location:\n"
     ]
    },
    {
     "data": {
      "image/png": "[encoded data removed]",
      "text/plain": [
       "<Figure size 720x360 with 1 Axes>"
      ]
     },
     "metadata": {
      "needs_background": "light"
     },
     "output_type": "display_data"
    },
    {
     "name": "stdout",
     "output_type": "stream",
     "text": [
      "\u001b[32m 'Employee_Location' is Good Predictor\n",
      "p_val=6.649672204564309e-12\n",
      "\n",
      "Company_Location:\n"
     ]
    },
    {
     "data": {
      "image/png": "[encoded data removed]",
      "text/plain": [
       "<Figure size 720x360 with 1 Axes>"
      ]
     },
     "metadata": {
      "needs_background": "light"
     },
     "output_type": "display_data"
    },
    {
     "name": "stdout",
     "output_type": "stream",
     "text": [
      "\u001b[32m 'Company_Location' is Good Predictor\n",
      "p_val=1.2738023024006982e-14\n",
      "\n",
      "Company_Size:\n"
     ]
    },
    {
     "data": {
      "image/png": "[encoded data removed]",
      "text/plain": [
       "<Figure size 720x360 with 1 Axes>"
      ]
     },
     "metadata": {
      "needs_background": "light"
     },
     "output_type": "display_data"
    },
    {
     "name": "stdout",
     "output_type": "stream",
     "text": [
      "\u001b[32m 'Company_Size' is Good Predictor\n",
      "p_val=5.87058295010386e-11\n",
      "\n",
      "Remote_Working_Ratio:\n"
     ]
    },
    {
     "data": {
      "image/png": "[encoded data removed]",
      "text/plain": [
       "<Figure size 720x360 with 1 Axes>"
      ]
     },
     "metadata": {
      "needs_background": "light"
     },
     "output_type": "display_data"
    },
    {
     "name": "stdout",
     "output_type": "stream",
     "text": [
      "\u001b[32m 'Remote_Working_Ratio' is Good Predictor\n",
      "p_val=1.4694440814975036e-261\n",
      "\n"
     ]
    }
   ],
   "source": [
    "for i in category:\n",
    "    print(i+\":\")\n",
    "    plt.figure(figsize=(10,5))\n",
    "    sns.countplot(x=i,data=data, hue='Remote_Working_Ratio')\n",
    "    plt.show()\n",
    "    a=np.array(pd.crosstab(data['Remote_Working_Ratio'],data[i]))\n",
    "    (stats,p,dof,_) = chi2_contingency(a,correction=False)\n",
    "    \n",
    "    if p>0.05:\n",
    "        print(Fore.RED + \" '{}' is a bad Predictor\".format(i))\n",
    "        print('p_val={}\\n'.format(p))\n",
    "    else:\n",
    "        print(Fore.GREEN + \" '{}' is Good Predictor\".format(i))\n",
    "        print('p_val={}\\n'.format(p))"
   ]
  },
  {
   "cell_type": "markdown",
   "id": "51d66b91",
   "metadata": {},
   "source": [
    "All the columns in category are Good predictor of Remoteworking ratio"
   ]
  },
  {
   "cell_type": "markdown",
   "id": "38d640dd",
   "metadata": {},
   "source": [
    "### For continuous variables"
   ]
  },
  {
   "cell_type": "code",
   "execution_count": 31,
   "id": "10246290",
   "metadata": {},
   "outputs": [],
   "source": [
    "column_name = data.columns.tolist()\n",
    "continuous_var = list(set(column_name)-set(category))"
   ]
  },
  {
   "cell_type": "code",
   "execution_count": 32,
   "id": "7d1b9842",
   "metadata": {},
   "outputs": [
    {
     "data": {
      "text/plain": [
       "['Salary_In_Rupees', 'Working_Year']"
      ]
     },
     "execution_count": 32,
     "metadata": {},
     "output_type": "execute_result"
    }
   ],
   "source": [
    "continuous_var"
   ]
  },
  {
   "cell_type": "code",
   "execution_count": 33,
   "id": "0ba84567",
   "metadata": {},
   "outputs": [
    {
     "data": {
      "text/html": [
       "<div>\n",
       "<style scoped>\n",
       "    .dataframe tbody tr th:only-of-type {\n",
       "        vertical-align: middle;\n",
       "    }\n",
       "\n",
       "    .dataframe tbody tr th {\n",
       "        vertical-align: top;\n",
       "    }\n",
       "\n",
       "    .dataframe thead th {\n",
       "        text-align: right;\n",
       "    }\n",
       "</style>\n",
       "<table border=\"1\" class=\"dataframe\">\n",
       "  <thead>\n",
       "    <tr style=\"text-align: right;\">\n",
       "      <th></th>\n",
       "      <th>Salary_In_Rupees</th>\n",
       "      <th>Working_Year</th>\n",
       "    </tr>\n",
       "  </thead>\n",
       "  <tbody>\n",
       "    <tr>\n",
       "      <th>0</th>\n",
       "      <td>6352272.0</td>\n",
       "      <td>2020</td>\n",
       "    </tr>\n",
       "    <tr>\n",
       "      <th>1</th>\n",
       "      <td>20688070.0</td>\n",
       "      <td>2020</td>\n",
       "    </tr>\n",
       "    <tr>\n",
       "      <th>2</th>\n",
       "      <td>8674985.0</td>\n",
       "      <td>2020</td>\n",
       "    </tr>\n",
       "    <tr>\n",
       "      <th>3</th>\n",
       "      <td>1591390.0</td>\n",
       "      <td>2020</td>\n",
       "    </tr>\n",
       "    <tr>\n",
       "      <th>4</th>\n",
       "      <td>11935425.0</td>\n",
       "      <td>2020</td>\n",
       "    </tr>\n",
       "    <tr>\n",
       "      <th>...</th>\n",
       "      <td>...</td>\n",
       "      <td>...</td>\n",
       "    </tr>\n",
       "    <tr>\n",
       "      <th>602</th>\n",
       "      <td>12253703.0</td>\n",
       "      <td>2022</td>\n",
       "    </tr>\n",
       "    <tr>\n",
       "      <th>603</th>\n",
       "      <td>10025757.0</td>\n",
       "      <td>2022</td>\n",
       "    </tr>\n",
       "    <tr>\n",
       "      <th>604</th>\n",
       "      <td>10264466.0</td>\n",
       "      <td>2022</td>\n",
       "    </tr>\n",
       "    <tr>\n",
       "      <th>605</th>\n",
       "      <td>11935425.0</td>\n",
       "      <td>2022</td>\n",
       "    </tr>\n",
       "    <tr>\n",
       "      <th>606</th>\n",
       "      <td>15913900.0</td>\n",
       "      <td>2022</td>\n",
       "    </tr>\n",
       "  </tbody>\n",
       "</table>\n",
       "<p>607 rows × 2 columns</p>\n",
       "</div>"
      ],
      "text/plain": [
       "     Salary_In_Rupees  Working_Year\n",
       "0           6352272.0          2020\n",
       "1          20688070.0          2020\n",
       "2           8674985.0          2020\n",
       "3           1591390.0          2020\n",
       "4          11935425.0          2020\n",
       "..                ...           ...\n",
       "602        12253703.0          2022\n",
       "603        10025757.0          2022\n",
       "604        10264466.0          2022\n",
       "605        11935425.0          2022\n",
       "606        15913900.0          2022\n",
       "\n",
       "[607 rows x 2 columns]"
      ]
     },
     "execution_count": 33,
     "metadata": {},
     "output_type": "execute_result"
    }
   ],
   "source": [
    "data.loc[:,continuous_var]"
   ]
  },
  {
   "cell_type": "code",
   "execution_count": 34,
   "id": "8d5b345a",
   "metadata": {},
   "outputs": [
    {
     "name": "stdout",
     "output_type": "stream",
     "text": [
      "Salary_In_Rupees:\n"
     ]
    },
    {
     "data": {
      "image/png": "[encoded data removed]",
      "text/plain": [
       "<Figure size 720x360 with 1 Axes>"
      ]
     },
     "metadata": {
      "needs_background": "light"
     },
     "output_type": "display_data"
    },
    {
     "data": {
      "image/png": "[encoded data removed]",
      "text/plain": [
       "<Figure size 432x288 with 1 Axes>"
      ]
     },
     "metadata": {
      "needs_background": "light"
     },
     "output_type": "display_data"
    },
    {
     "name": "stdout",
     "output_type": "stream",
     "text": [
      "Working_Year:\n"
     ]
    },
    {
     "data": {
      "image/png": "[encoded data removed]",
      "text/plain": [
       "<Figure size 720x360 with 1 Axes>"
      ]
     },
     "metadata": {
      "needs_background": "light"
     },
     "output_type": "display_data"
    },
    {
     "data": {
      "image/png": "[encoded data removed]",
      "text/plain": [
       "<Figure size 432x288 with 1 Axes>"
      ]
     },
     "metadata": {
      "needs_background": "light"
     },
     "output_type": "display_data"
    }
   ],
   "source": [
    "# lets visualise the continuous data\n",
    "\n",
    "for i in continuous_var:\n",
    "    print(i+\":\")\n",
    "    plt.figure(figsize=(10,5))\n",
    "    sns.histplot(data[i])\n",
    "    plt.xlabel(i)\n",
    "    plt.ylabel('counts')\n",
    "    plt.title('Histogram of '+i)\n",
    "    plt.show()\n",
    "    data[i].plot.box(vert=False,patch_artist=True)\n",
    "    plt.xlabel(i)\n",
    "    plt.show()"
   ]
  },
  {
   "cell_type": "markdown",
   "id": "56b2c69c",
   "metadata": {},
   "source": [
    "### Treating outliers "
   ]
  },
  {
   "cell_type": "code",
   "execution_count": 35,
   "id": "facb0930",
   "metadata": {},
   "outputs": [],
   "source": [
    "iqr = iqr"
   ]
  },
  {
   "cell_type": "code",
   "execution_count": 38,
   "id": "b4e16ae7",
   "metadata": {},
   "outputs": [
    {
     "name": "stdout",
     "output_type": "stream",
     "text": [
      "Salary_In_Rupees:\n"
     ]
    },
    {
     "data": {
      "image/png": "[encoded data removed]",
      "text/plain": [
       "<Figure size 1440x720 with 1 Axes>"
      ]
     },
     "metadata": {
      "needs_background": "light"
     },
     "output_type": "display_data"
    },
    {
     "name": "stdout",
     "output_type": "stream",
     "text": [
      "Left Limit:-5425447.5\n",
      "Right Limit:22351948.5\n",
      "iqr:6944349.0\n",
      "if left outlier type 'left' else 'right' else 'both' if no outliers then type:right\n",
      "by what number do you want to replace6944349\n"
     ]
    },
    {
     "data": {
      "image/png": "[encoded data removed]",
      "text/plain": [
       "<Figure size 1440x720 with 1 Axes>"
      ]
     },
     "metadata": {
      "needs_background": "light"
     },
     "output_type": "display_data"
    },
    {
     "name": "stdout",
     "output_type": "stream",
     "text": [
      "Working_Year:\n"
     ]
    },
    {
     "data": {
      "image/png": "[encoded data removed]",
      "text/plain": [
       "<Figure size 1440x720 with 1 Axes>"
      ]
     },
     "metadata": {
      "needs_background": "light"
     },
     "output_type": "display_data"
    },
    {
     "name": "stdout",
     "output_type": "stream",
     "text": [
      "Left Limit:2019.5\n",
      "Right Limit:2023.5\n",
      "iqr:1.0\n",
      "if left outlier type 'left' else 'right' else 'both' if no outliers then type:no\n"
     ]
    },
    {
     "data": {
      "image/png": "[encoded data removed]",
      "text/plain": [
       "<Figure size 1440x720 with 1 Axes>"
      ]
     },
     "metadata": {
      "needs_background": "light"
     },
     "output_type": "display_data"
    }
   ],
   "source": [
    "for i in continuous_var:\n",
    "    print(i+\":\")\n",
    "    plt.figure(figsize=(20,10))\n",
    "    data[i].plot.box(vert=False,patch_artist=True)\n",
    "    plt.xlabel(i)\n",
    "    plt.show()\n",
    "    \n",
    "    iqr = data[i].describe()['75%']-data[i].describe()['25%']\n",
    "    right_lim = data[i].quantile(0.75)+1.5*iqr\n",
    "    left_lim = data[i].quantile(0.25)-1.5*iqr\n",
    "    print('Left Limit:{}'.format(left_lim))\n",
    "    print('Right Limit:{}'.format(right_lim))\n",
    "    print('iqr:{}'.format(iqr))\n",
    "    \n",
    "    a=input(\"if left outlier type 'left' else 'right' else 'both' if no outliers then type:\" )\n",
    "    a=a.lower()\n",
    "    \n",
    "    if a=='left':\n",
    "        lo = float(input('by what number do you want to replace'))\n",
    "        data[i]=[lo if val<left_lim else val for val in data[i]]\n",
    "    elif a=='right':\n",
    "        ro=float(input('by what number do you want to replace'))\n",
    "        data[i]=[ro if val>right_lim else val for val in data[i]]\n",
    "    elif a=='both':\n",
    "        lo = float(input('by what number do you want to replace'))\n",
    "        \n",
    "        ro=float(input('by what number do you want to replace'))\n",
    "        data[i]=[lo if val<left_lim else val for val in data[i]]\n",
    "        data[i]=[ro if val>right_lim else val for val in data[i]]\n",
    "        \n",
    "    elif a =='no':\n",
    "        pass\n",
    "    plt.figure(figsize=(20,10))\n",
    "    data[i].plot.box(vert=False, patch_artist=True)\n",
    "    plt.xlabel(i)\n",
    "    plt.show()"
   ]
  },
  {
   "cell_type": "code",
   "execution_count": 39,
   "id": "4a9e1719",
   "metadata": {},
   "outputs": [
    {
     "name": "stdout",
     "output_type": "stream",
     "text": [
      "Salary_In_Rupees:\n"
     ]
    },
    {
     "data": {
      "image/png": "[encoded data removed]",
      "text/plain": [
       "<Figure size 1440x720 with 1 Axes>"
      ]
     },
     "metadata": {
      "needs_background": "light"
     },
     "output_type": "display_data"
    },
    {
     "data": {
      "image/png": "[encoded data removed]",
      "text/plain": [
       "<Figure size 432x288 with 1 Axes>"
      ]
     },
     "metadata": {
      "needs_background": "light"
     },
     "output_type": "display_data"
    },
    {
     "name": "stdout",
     "output_type": "stream",
     "text": [
      "Working_Year:\n"
     ]
    },
    {
     "data": {
      "image/png": "[encoded data removed]",
      "text/plain": [
       "<Figure size 1440x720 with 1 Axes>"
      ]
     },
     "metadata": {
      "needs_background": "light"
     },
     "output_type": "display_data"
    },
    {
     "data": {
      "image/png": "[encoded data removed]",
      "text/plain": [
       "<Figure size 432x288 with 1 Axes>"
      ]
     },
     "metadata": {
      "needs_background": "light"
     },
     "output_type": "display_data"
    }
   ],
   "source": [
    "for i in continuous_var:\n",
    "    print(i+\":\")\n",
    "    plt.figure(figsize=(20,10))\n",
    "    sns.histplot(data[i])\n",
    "    plt.xlabel(i)\n",
    "    plt.ylabel('counts')\n",
    "    plt.title('Histogram of '+i)\n",
    "    plt.show()\n",
    "    \n",
    "    data[i].plot.box(vert=False,patch_artist=True)\n",
    "    plt.xlabel(i)\n",
    "    plt.show()"
   ]
  },
  {
   "cell_type": "code",
   "execution_count": 40,
   "id": "935087db",
   "metadata": {},
   "outputs": [
    {
     "name": "stdout",
     "output_type": "stream",
     "text": [
      "Salary_In_Rupees:\n"
     ]
    },
    {
     "data": {
      "image/png": "[encoded data removed]",
      "text/plain": [
       "<Figure size 1440x720 with 1 Axes>"
      ]
     },
     "metadata": {
      "needs_background": "light"
     },
     "output_type": "display_data"
    },
    {
     "data": {
      "image/png": "[encoded data removed]",
      "text/plain": [
       "<Figure size 432x288 with 1 Axes>"
      ]
     },
     "metadata": {
      "needs_background": "light"
     },
     "output_type": "display_data"
    },
    {
     "name": "stdout",
     "output_type": "stream",
     "text": [
      "Working_Year:\n"
     ]
    },
    {
     "data": {
      "image/png": "[encoded data removed]",
      "text/plain": [
       "<Figure size 1440x720 with 1 Axes>"
      ]
     },
     "metadata": {
      "needs_background": "light"
     },
     "output_type": "display_data"
    },
    {
     "data": {
      "image/png": "[encoded data removed]",
      "text/plain": [
       "<Figure size 432x288 with 1 Axes>"
      ]
     },
     "metadata": {
      "needs_background": "light"
     },
     "output_type": "display_data"
    }
   ],
   "source": [
    "for i in continuous_var:\n",
    "    print(i+\":\")\n",
    "    plt.figure(figsize=(20,10))\n",
    "    sns.histplot(x=data[i],hue=data['Remote_Working_Ratio'])\n",
    "    plt.xlabel(i)\n",
    "    plt.ylabel('counts')\n",
    "    plt.title('Histogram of '+i)\n",
    "    plt.show()\n",
    "    sns.boxplot(y=data[i],x=data['Remote_Working_Ratio'])\n",
    "    plt.show()"
   ]
  },
  {
   "cell_type": "markdown",
   "id": "c47bf6fb",
   "metadata": {},
   "source": [
    "### Statistical Testing using Annova"
   ]
  },
  {
   "cell_type": "code",
   "execution_count": 42,
   "id": "787e265b",
   "metadata": {},
   "outputs": [],
   "source": [
    "from statsmodels.stats.multicomp import pairwise_tukeyhsd\n",
    "from statsmodels.formula.api import ols\n",
    "import statsmodels.api as smf"
   ]
  },
  {
   "cell_type": "code",
   "execution_count": 43,
   "id": "9877a794",
   "metadata": {},
   "outputs": [
    {
     "name": "stdout",
     "output_type": "stream",
     "text": [
      "Salary_In_Rupees:\n",
      "ANOVA:\n",
      "\n",
      "                         df        sum_sq       mean_sq          F  \\\n",
      "Remote_Working_Ratio    2.0  7.360428e+14  3.680214e+14  18.180076   \n",
      "Residual              604.0  1.222684e+16  2.024312e+13        NaN   \n",
      "\n",
      "                            PR(>F)  \n",
      "Remote_Working_Ratio  2.152868e-08  \n",
      "Residual                       NaN   \n",
      "\n",
      "Pvalue=2.152867705115764e-08\n",
      "\n",
      "TUKEY:\n",
      "\n",
      "\u001b[31m'Salary_In_Rupees'is a good predictor'\n",
      "\n",
      "\u001b[32m'Salary_In_Rupees' is a Good Predictor\n",
      "               Multiple Comparison of Means - Tukey HSD, FWER=0.05                \n",
      "==================================================================================\n",
      "   group1       group2        meandiff   p-adj      lower         upper     reject\n",
      "----------------------------------------------------------------------------------\n",
      "Full remote      No remote  -962675.8766 0.0931  -2045809.617   120457.8638  False\n",
      "Full remote Partial remote -3036786.4747    0.0 -4229277.4756 -1844295.4737   True\n",
      "  No remote Partial remote  -2074110.598 0.0018 -3491369.9734  -656851.2226   True\n",
      "---------------------------------------------------------------------------------- \n",
      "\n",
      "Working_Year:\n",
      "ANOVA:\n",
      "\n",
      "                         df      sum_sq    mean_sq          F        PR(>F)\n",
      "Remote_Working_Ratio    2.0   29.129186  14.564593  33.682587  1.353926e-14\n",
      "Residual              604.0  261.173944   0.432407        NaN           NaN \n",
      "\n",
      "Pvalue=1.35392619899219e-14\n",
      "\n",
      "TUKEY:\n",
      "\n",
      "\u001b[31m'Working_Year'is a good predictor'\n",
      "\n",
      "\u001b[32m'Working_Year' is a Good Predictor\n",
      "       Multiple Comparison of Means - Tukey HSD, FWER=0.05       \n",
      "=================================================================\n",
      "   group1       group2     meandiff p-adj   lower   upper  reject\n",
      "-----------------------------------------------------------------\n",
      "Full remote      No remote  -0.0079 0.9925 -0.1662  0.1504  False\n",
      "Full remote Partial remote  -0.5948   -0.0 -0.7691 -0.4206   True\n",
      "  No remote Partial remote   -0.587    0.0 -0.7941 -0.3798   True\n",
      "----------------------------------------------------------------- \n",
      "\n"
     ]
    }
   ],
   "source": [
    "for i in continuous_var:\n",
    "    print(i+\":\")\n",
    "    print('ANOVA:\\n')\n",
    "    mod = ols(i+'~Remote_Working_Ratio',data=data).fit()\n",
    "    aov_table = smf.stats.anova_lm(mod,type=2)\n",
    "    print(aov_table,'\\n')\n",
    "    print('Pvalue={}\\n'.format(aov_table['PR(>F)'][0]))\n",
    "    p = aov_table['PR(>F)'][0]\n",
    "    \n",
    "    if p>0.05:\n",
    "        print(Fore.RED + \"'{}' is a bad predictor'\\n\".format(i))\n",
    "        print(\"p_val={}\\n\".format(p))\n",
    "        \n",
    "    else:\n",
    "        print(\"TUKEY:\\n\")\n",
    "        print(Fore.RED +\"'{}'is a good predictor'\\n\".format(i))\n",
    "        print(Fore.GREEN +\"'{}' is a Good Predictor\".format(i))\n",
    "        tukey = pairwise_tukeyhsd(data[i],data['Remote_Working_Ratio'],alpha=0.05)\n",
    "        print(tukey,'\\n')"
   ]
  },
  {
   "cell_type": "markdown",
   "id": "c2f5e25b",
   "metadata": {},
   "source": [
    "All the continuous variables are good predictor of remote working ratio"
   ]
  },
  {
   "cell_type": "code",
   "execution_count": 44,
   "id": "2fd02e9a",
   "metadata": {},
   "outputs": [
    {
     "data": {
      "text/html": [
       "<div>\n",
       "<style scoped>\n",
       "    .dataframe tbody tr th:only-of-type {\n",
       "        vertical-align: middle;\n",
       "    }\n",
       "\n",
       "    .dataframe tbody tr th {\n",
       "        vertical-align: top;\n",
       "    }\n",
       "\n",
       "    .dataframe thead th {\n",
       "        text-align: right;\n",
       "    }\n",
       "</style>\n",
       "<table border=\"1\" class=\"dataframe\">\n",
       "  <thead>\n",
       "    <tr style=\"text-align: right;\">\n",
       "      <th></th>\n",
       "      <th>Working_Year</th>\n",
       "      <th>Designation</th>\n",
       "      <th>Experience</th>\n",
       "      <th>Employment_Status</th>\n",
       "      <th>Salary_In_Rupees</th>\n",
       "      <th>Employee_Location</th>\n",
       "      <th>Company_Location</th>\n",
       "      <th>Company_Size</th>\n",
       "      <th>Remote_Working_Ratio</th>\n",
       "    </tr>\n",
       "  </thead>\n",
       "  <tbody>\n",
       "    <tr>\n",
       "      <th>0</th>\n",
       "      <td>2020</td>\n",
       "      <td>Data Scientist</td>\n",
       "      <td>MI</td>\n",
       "      <td>FT</td>\n",
       "      <td>6352272.0</td>\n",
       "      <td>DE</td>\n",
       "      <td>DE</td>\n",
       "      <td>L</td>\n",
       "      <td>No remote</td>\n",
       "    </tr>\n",
       "    <tr>\n",
       "      <th>1</th>\n",
       "      <td>2020</td>\n",
       "      <td>Machine Learning Scientist</td>\n",
       "      <td>SE</td>\n",
       "      <td>FT</td>\n",
       "      <td>20688070.0</td>\n",
       "      <td>JP</td>\n",
       "      <td>JP</td>\n",
       "      <td>S</td>\n",
       "      <td>No remote</td>\n",
       "    </tr>\n",
       "    <tr>\n",
       "      <th>2</th>\n",
       "      <td>2020</td>\n",
       "      <td>Big Data Engineer</td>\n",
       "      <td>SE</td>\n",
       "      <td>FT</td>\n",
       "      <td>8674985.0</td>\n",
       "      <td>GB</td>\n",
       "      <td>GB</td>\n",
       "      <td>M</td>\n",
       "      <td>Partial remote</td>\n",
       "    </tr>\n",
       "    <tr>\n",
       "      <th>3</th>\n",
       "      <td>2020</td>\n",
       "      <td>Product Data Analyst</td>\n",
       "      <td>MI</td>\n",
       "      <td>FT</td>\n",
       "      <td>1591390.0</td>\n",
       "      <td>HN</td>\n",
       "      <td>HN</td>\n",
       "      <td>S</td>\n",
       "      <td>No remote</td>\n",
       "    </tr>\n",
       "    <tr>\n",
       "      <th>4</th>\n",
       "      <td>2020</td>\n",
       "      <td>Machine Learning Engineer</td>\n",
       "      <td>SE</td>\n",
       "      <td>FT</td>\n",
       "      <td>11935425.0</td>\n",
       "      <td>US</td>\n",
       "      <td>US</td>\n",
       "      <td>L</td>\n",
       "      <td>Partial remote</td>\n",
       "    </tr>\n",
       "  </tbody>\n",
       "</table>\n",
       "</div>"
      ],
      "text/plain": [
       "   Working_Year                 Designation Experience Employment_Status  \\\n",
       "0          2020              Data Scientist         MI                FT   \n",
       "1          2020  Machine Learning Scientist         SE                FT   \n",
       "2          2020           Big Data Engineer         SE                FT   \n",
       "3          2020        Product Data Analyst         MI                FT   \n",
       "4          2020   Machine Learning Engineer         SE                FT   \n",
       "\n",
       "   Salary_In_Rupees Employee_Location Company_Location Company_Size  \\\n",
       "0         6352272.0                DE               DE            L   \n",
       "1        20688070.0                JP               JP            S   \n",
       "2         8674985.0                GB               GB            M   \n",
       "3         1591390.0                HN               HN            S   \n",
       "4        11935425.0                US               US            L   \n",
       "\n",
       "  Remote_Working_Ratio  \n",
       "0            No remote  \n",
       "1            No remote  \n",
       "2       Partial remote  \n",
       "3            No remote  \n",
       "4       Partial remote  "
      ]
     },
     "execution_count": 44,
     "metadata": {},
     "output_type": "execute_result"
    }
   ],
   "source": [
    "data.head()"
   ]
  },
  {
   "cell_type": "markdown",
   "id": "8386b99c",
   "metadata": {},
   "source": [
    "### Prepare the data for machine learning"
   ]
  },
  {
   "cell_type": "code",
   "execution_count": 45,
   "id": "98f8471e",
   "metadata": {},
   "outputs": [],
   "source": [
    "df1 = data.copy()"
   ]
  },
  {
   "cell_type": "code",
   "execution_count": 46,
   "id": "7784d1a3",
   "metadata": {},
   "outputs": [],
   "source": [
    "# Convert categorical variables to numbers\n",
    "\n",
    "\n",
    "def convert_data(df):\n",
    "    for col in df.columns:\n",
    "        if df[col].dtypes in ['object']:\n",
    "            df[col] = df[col].astype('category').cat.codes\n",
    "    return df"
   ]
  },
  {
   "cell_type": "code",
   "execution_count": 54,
   "id": "dab51e62",
   "metadata": {},
   "outputs": [],
   "source": [
    "df3 = convert_data(df1)"
   ]
  },
  {
   "cell_type": "code",
   "execution_count": 55,
   "id": "4a315058",
   "metadata": {},
   "outputs": [
    {
     "data": {
      "text/html": [
       "<div>\n",
       "<style scoped>\n",
       "    .dataframe tbody tr th:only-of-type {\n",
       "        vertical-align: middle;\n",
       "    }\n",
       "\n",
       "    .dataframe tbody tr th {\n",
       "        vertical-align: top;\n",
       "    }\n",
       "\n",
       "    .dataframe thead th {\n",
       "        text-align: right;\n",
       "    }\n",
       "</style>\n",
       "<table border=\"1\" class=\"dataframe\">\n",
       "  <thead>\n",
       "    <tr style=\"text-align: right;\">\n",
       "      <th></th>\n",
       "      <th>Working_Year</th>\n",
       "      <th>Designation</th>\n",
       "      <th>Experience</th>\n",
       "      <th>Employment_Status</th>\n",
       "      <th>Salary_In_Rupees</th>\n",
       "      <th>Employee_Location</th>\n",
       "      <th>Company_Location</th>\n",
       "      <th>Company_Size</th>\n",
       "      <th>Remote_Working_Ratio</th>\n",
       "    </tr>\n",
       "  </thead>\n",
       "  <tbody>\n",
       "    <tr>\n",
       "      <th>0</th>\n",
       "      <td>2020</td>\n",
       "      <td>22</td>\n",
       "      <td>2</td>\n",
       "      <td>2</td>\n",
       "      <td>6352272.0</td>\n",
       "      <td>14</td>\n",
       "      <td>12</td>\n",
       "      <td>0</td>\n",
       "      <td>1</td>\n",
       "    </tr>\n",
       "    <tr>\n",
       "      <th>1</th>\n",
       "      <td>2020</td>\n",
       "      <td>41</td>\n",
       "      <td>3</td>\n",
       "      <td>2</td>\n",
       "      <td>20688070.0</td>\n",
       "      <td>32</td>\n",
       "      <td>29</td>\n",
       "      <td>2</td>\n",
       "      <td>1</td>\n",
       "    </tr>\n",
       "    <tr>\n",
       "      <th>2</th>\n",
       "      <td>2020</td>\n",
       "      <td>7</td>\n",
       "      <td>3</td>\n",
       "      <td>2</td>\n",
       "      <td>8674985.0</td>\n",
       "      <td>20</td>\n",
       "      <td>18</td>\n",
       "      <td>1</td>\n",
       "      <td>2</td>\n",
       "    </tr>\n",
       "    <tr>\n",
       "      <th>3</th>\n",
       "      <td>2020</td>\n",
       "      <td>47</td>\n",
       "      <td>2</td>\n",
       "      <td>2</td>\n",
       "      <td>1591390.0</td>\n",
       "      <td>23</td>\n",
       "      <td>20</td>\n",
       "      <td>2</td>\n",
       "      <td>1</td>\n",
       "    </tr>\n",
       "    <tr>\n",
       "      <th>4</th>\n",
       "      <td>2020</td>\n",
       "      <td>38</td>\n",
       "      <td>3</td>\n",
       "      <td>2</td>\n",
       "      <td>11935425.0</td>\n",
       "      <td>55</td>\n",
       "      <td>48</td>\n",
       "      <td>0</td>\n",
       "      <td>2</td>\n",
       "    </tr>\n",
       "  </tbody>\n",
       "</table>\n",
       "</div>"
      ],
      "text/plain": [
       "   Working_Year  Designation  Experience  Employment_Status  Salary_In_Rupees  \\\n",
       "0          2020           22           2                  2         6352272.0   \n",
       "1          2020           41           3                  2        20688070.0   \n",
       "2          2020            7           3                  2         8674985.0   \n",
       "3          2020           47           2                  2         1591390.0   \n",
       "4          2020           38           3                  2        11935425.0   \n",
       "\n",
       "   Employee_Location  Company_Location  Company_Size  Remote_Working_Ratio  \n",
       "0                 14                12             0                     1  \n",
       "1                 32                29             2                     1  \n",
       "2                 20                18             1                     2  \n",
       "3                 23                20             2                     1  \n",
       "4                 55                48             0                     2  "
      ]
     },
     "execution_count": 55,
     "metadata": {},
     "output_type": "execute_result"
    }
   ],
   "source": [
    "df3.head()"
   ]
  },
  {
   "cell_type": "markdown",
   "id": "4d1320e6",
   "metadata": {},
   "source": [
    "### Correlation between variables"
   ]
  },
  {
   "cell_type": "code",
   "execution_count": 57,
   "id": "8ff15682",
   "metadata": {},
   "outputs": [
    {
     "data": {
      "text/plain": [
       "<AxesSubplot:>"
      ]
     },
     "execution_count": 57,
     "metadata": {},
     "output_type": "execute_result"
    },
    {
     "data": {
      "image/png": "[encoded data removed]",
      "text/plain": [
       "<Figure size 432x288 with 2 Axes>"
      ]
     },
     "metadata": {
      "needs_background": "light"
     },
     "output_type": "display_data"
    }
   ],
   "source": [
    "sns.heatmap(df3.corr(),annot=True, cmap='coolwarm')"
   ]
  },
  {
   "cell_type": "code",
   "execution_count": 52,
   "id": "aa431987",
   "metadata": {},
   "outputs": [],
   "source": [
    "# lets change the remote_working ratio column variable\n",
    "\n",
    "df2['Remote_Working_Ratio'] = df2['Remote_Working_Ratio'].map({1:'No remote',2:'Partial remote',0:'Full remote'})\n"
   ]
  },
  {
   "cell_type": "code",
   "execution_count": 53,
   "id": "39a0ec43",
   "metadata": {},
   "outputs": [
    {
     "data": {
      "text/html": [
       "<div>\n",
       "<style scoped>\n",
       "    .dataframe tbody tr th:only-of-type {\n",
       "        vertical-align: middle;\n",
       "    }\n",
       "\n",
       "    .dataframe tbody tr th {\n",
       "        vertical-align: top;\n",
       "    }\n",
       "\n",
       "    .dataframe thead th {\n",
       "        text-align: right;\n",
       "    }\n",
       "</style>\n",
       "<table border=\"1\" class=\"dataframe\">\n",
       "  <thead>\n",
       "    <tr style=\"text-align: right;\">\n",
       "      <th></th>\n",
       "      <th>Working_Year</th>\n",
       "      <th>Designation</th>\n",
       "      <th>Experience</th>\n",
       "      <th>Employment_Status</th>\n",
       "      <th>Salary_In_Rupees</th>\n",
       "      <th>Employee_Location</th>\n",
       "      <th>Company_Location</th>\n",
       "      <th>Company_Size</th>\n",
       "      <th>Remote_Working_Ratio</th>\n",
       "    </tr>\n",
       "  </thead>\n",
       "  <tbody>\n",
       "    <tr>\n",
       "      <th>0</th>\n",
       "      <td>2020</td>\n",
       "      <td>22</td>\n",
       "      <td>2</td>\n",
       "      <td>2</td>\n",
       "      <td>6352272.0</td>\n",
       "      <td>14</td>\n",
       "      <td>12</td>\n",
       "      <td>0</td>\n",
       "      <td>No remote</td>\n",
       "    </tr>\n",
       "    <tr>\n",
       "      <th>1</th>\n",
       "      <td>2020</td>\n",
       "      <td>41</td>\n",
       "      <td>3</td>\n",
       "      <td>2</td>\n",
       "      <td>20688070.0</td>\n",
       "      <td>32</td>\n",
       "      <td>29</td>\n",
       "      <td>2</td>\n",
       "      <td>No remote</td>\n",
       "    </tr>\n",
       "    <tr>\n",
       "      <th>2</th>\n",
       "      <td>2020</td>\n",
       "      <td>7</td>\n",
       "      <td>3</td>\n",
       "      <td>2</td>\n",
       "      <td>8674985.0</td>\n",
       "      <td>20</td>\n",
       "      <td>18</td>\n",
       "      <td>1</td>\n",
       "      <td>Partial remote</td>\n",
       "    </tr>\n",
       "    <tr>\n",
       "      <th>3</th>\n",
       "      <td>2020</td>\n",
       "      <td>47</td>\n",
       "      <td>2</td>\n",
       "      <td>2</td>\n",
       "      <td>1591390.0</td>\n",
       "      <td>23</td>\n",
       "      <td>20</td>\n",
       "      <td>2</td>\n",
       "      <td>No remote</td>\n",
       "    </tr>\n",
       "    <tr>\n",
       "      <th>4</th>\n",
       "      <td>2020</td>\n",
       "      <td>38</td>\n",
       "      <td>3</td>\n",
       "      <td>2</td>\n",
       "      <td>11935425.0</td>\n",
       "      <td>55</td>\n",
       "      <td>48</td>\n",
       "      <td>0</td>\n",
       "      <td>Partial remote</td>\n",
       "    </tr>\n",
       "  </tbody>\n",
       "</table>\n",
       "</div>"
      ],
      "text/plain": [
       "   Working_Year  Designation  Experience  Employment_Status  Salary_In_Rupees  \\\n",
       "0          2020           22           2                  2         6352272.0   \n",
       "1          2020           41           3                  2        20688070.0   \n",
       "2          2020            7           3                  2         8674985.0   \n",
       "3          2020           47           2                  2         1591390.0   \n",
       "4          2020           38           3                  2        11935425.0   \n",
       "\n",
       "   Employee_Location  Company_Location  Company_Size Remote_Working_Ratio  \n",
       "0                 14                12             0            No remote  \n",
       "1                 32                29             2            No remote  \n",
       "2                 20                18             1       Partial remote  \n",
       "3                 23                20             2            No remote  \n",
       "4                 55                48             0       Partial remote  "
      ]
     },
     "execution_count": 53,
     "metadata": {},
     "output_type": "execute_result"
    }
   ],
   "source": [
    "df2.head()"
   ]
  },
  {
   "cell_type": "code",
   "execution_count": null,
   "id": "0d6e6ab4",
   "metadata": {},
   "outputs": [],
   "source": []
  }
 ],
 "metadata": {
  "kernelspec": {
   "display_name": "Python 3 (ipykernel)",
   "language": "python",
   "name": "python3"
  },
  "language_info": {
   "codemirror_mode": {
    "name": "ipython",
    "version": 3
   },
   "file_extension": ".py",
   "mimetype": "text/x-python",
   "name": "python",
   "nbconvert_exporter": "python",
   "pygments_lexer": "ipython3",
   "version": "3.9.12"
  }
 },
 "nbformat": 4,
 "nbformat_minor": 5
}
