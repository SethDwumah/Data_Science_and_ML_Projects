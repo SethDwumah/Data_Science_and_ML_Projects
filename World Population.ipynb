{
 "cells": [
  {
   "cell_type": "code",
   "execution_count": 2,
   "id": "8517b907",
   "metadata": {},
   "outputs": [],
   "source": [
    "import requests\n",
    "from bs4 import BeautifulSoup\n",
    "import pandas as pd\n"
   ]
  },
  {
   "cell_type": "code",
   "execution_count": 3,
   "id": "d1ebe466",
   "metadata": {},
   "outputs": [],
   "source": [
    "url = \"https://www.worldometers.info/world-population/population-by-country/\""
   ]
  },
  {
   "cell_type": "code",
   "execution_count": 4,
   "id": "523ad93c",
   "metadata": {},
   "outputs": [],
   "source": [
    "page = requests.get(url)"
   ]
  },
  {
   "cell_type": "code",
   "execution_count": 5,
   "id": "dd4ab4f9",
   "metadata": {},
   "outputs": [
    {
     "data": {
      "text/plain": [
       "<Response [200]>"
      ]
     },
     "execution_count": 5,
     "metadata": {},
     "output_type": "execute_result"
    }
   ],
   "source": [
    "page"
   ]
  },
  {
   "cell_type": "code",
   "execution_count": 7,
   "id": "3b3b8f5a",
   "metadata": {},
   "outputs": [],
   "source": [
    "soup = BeautifulSoup(page.text, 'html.parser')"
   ]
  },
  {
   "cell_type": "code",
   "execution_count": 8,
   "id": "3064d77f",
   "metadata": {},
   "outputs": [],
   "source": [
    "rows = soup.find('table',{'id':\"example2\"}).find('tbody').find_all('tr')"
   ]
  },
  {
   "cell_type": "code",
   "execution_count": 9,
   "id": "ded5570f",
   "metadata": {},
   "outputs": [
    {
     "name": "stdout",
     "output_type": "stream",
     "text": [
      "235\n"
     ]
    }
   ],
   "source": [
    "print(len(rows))"
   ]
  },
  {
   "cell_type": "code",
   "execution_count": 28,
   "id": "b85fede1",
   "metadata": {},
   "outputs": [],
   "source": [
    "countries_list = []\n",
    "\n",
    "for row in rows:\n",
    "    dic = {}\n",
    "    \n",
    "    dic['Country'] = row.find_all('td')[1].text\n",
    "    dic['Population'] = row.find_all('td')[2].text.replace(\",\", \"\")\n",
    "    dic['Land Area'] = row.find_all('td')[6].text.replace(\",\",\"\")\n",
    "    countries_list.append(dic)"
   ]
  },
  {
   "cell_type": "code",
   "execution_count": 29,
   "id": "1d17f650",
   "metadata": {},
   "outputs": [],
   "source": [
    "df = pd.DataFrame(countries_list)"
   ]
  },
  {
   "cell_type": "code",
   "execution_count": 30,
   "id": "94ffeec9",
   "metadata": {},
   "outputs": [
    {
     "data": {
      "text/html": [
       "<div>\n",
       "<style scoped>\n",
       "    .dataframe tbody tr th:only-of-type {\n",
       "        vertical-align: middle;\n",
       "    }\n",
       "\n",
       "    .dataframe tbody tr th {\n",
       "        vertical-align: top;\n",
       "    }\n",
       "\n",
       "    .dataframe thead th {\n",
       "        text-align: right;\n",
       "    }\n",
       "</style>\n",
       "<table border=\"1\" class=\"dataframe\">\n",
       "  <thead>\n",
       "    <tr style=\"text-align: right;\">\n",
       "      <th></th>\n",
       "      <th>Country</th>\n",
       "      <th>Population</th>\n",
       "      <th>Land Area</th>\n",
       "    </tr>\n",
       "  </thead>\n",
       "  <tbody>\n",
       "    <tr>\n",
       "      <th>0</th>\n",
       "      <td>China</td>\n",
       "      <td>1439323776</td>\n",
       "      <td>9388211</td>\n",
       "    </tr>\n",
       "    <tr>\n",
       "      <th>1</th>\n",
       "      <td>India</td>\n",
       "      <td>1380004385</td>\n",
       "      <td>2973190</td>\n",
       "    </tr>\n",
       "    <tr>\n",
       "      <th>2</th>\n",
       "      <td>United States</td>\n",
       "      <td>331002651</td>\n",
       "      <td>9147420</td>\n",
       "    </tr>\n",
       "    <tr>\n",
       "      <th>3</th>\n",
       "      <td>Indonesia</td>\n",
       "      <td>273523615</td>\n",
       "      <td>1811570</td>\n",
       "    </tr>\n",
       "    <tr>\n",
       "      <th>4</th>\n",
       "      <td>Pakistan</td>\n",
       "      <td>220892340</td>\n",
       "      <td>770880</td>\n",
       "    </tr>\n",
       "  </tbody>\n",
       "</table>\n",
       "</div>"
      ],
      "text/plain": [
       "         Country  Population Land Area\n",
       "0          China  1439323776   9388211\n",
       "1          India  1380004385   2973190\n",
       "2  United States   331002651   9147420\n",
       "3      Indonesia   273523615   1811570\n",
       "4       Pakistan   220892340    770880"
      ]
     },
     "execution_count": 30,
     "metadata": {},
     "output_type": "execute_result"
    }
   ],
   "source": [
    "df.head()"
   ]
  },
  {
   "cell_type": "code",
   "execution_count": 94,
   "id": "7ff312ba",
   "metadata": {},
   "outputs": [],
   "source": [
    "df.to_csv('world_population.csv', index=False)"
   ]
  },
  {
   "cell_type": "code",
   "execution_count": null,
   "id": "bd257b03",
   "metadata": {},
   "outputs": [],
   "source": []
  },
  {
   "cell_type": "markdown",
   "id": "778c122f",
   "metadata": {},
   "source": [
    "#### Webscrap Population by year"
   ]
  },
  {
   "cell_type": "code",
   "execution_count": 34,
   "id": "1851026e",
   "metadata": {},
   "outputs": [],
   "source": [
    "link = \"https://www.worldometers.info/world-population/world-population-by-year/\""
   ]
  },
  {
   "cell_type": "code",
   "execution_count": 35,
   "id": "1263b153",
   "metadata": {},
   "outputs": [],
   "source": [
    "response = requests.get(link)"
   ]
  },
  {
   "cell_type": "code",
   "execution_count": 36,
   "id": "e8af317b",
   "metadata": {},
   "outputs": [],
   "source": [
    "stew = BeautifulSoup(response.text, 'html.parser')"
   ]
  },
  {
   "cell_type": "code",
   "execution_count": 39,
   "id": "75a019ad",
   "metadata": {},
   "outputs": [],
   "source": [
    "table = stew.find('table', {'class':'table table-hover table-condensed'}).find('tbody').find_all('tr')"
   ]
  },
  {
   "cell_type": "code",
   "execution_count": 49,
   "id": "884a3e7e",
   "metadata": {},
   "outputs": [],
   "source": [
    "table_list = []\n",
    "\n",
    "for row in table:\n",
    "    \n",
    "    dic = {}\n",
    "    \n",
    "    dic['Year'] = row.find_all('td')[0].text\n",
    "    dic['World_population'] = row.find_all('td')[1].text.replace(\",\",\"\")\n",
    "    dic['Yearly_change'] = row.find_all('td')[2].text\n",
    "    dic['Net_change'] = row.find_all('td')[3].text.replace(\",\",\"\")\n",
    "    \n",
    "    \n",
    "    table_list.append(dic)"
   ]
  },
  {
   "cell_type": "code",
   "execution_count": 50,
   "id": "08cb1948",
   "metadata": {},
   "outputs": [],
   "source": [
    "data = pd.DataFrame(table_list)"
   ]
  },
  {
   "cell_type": "code",
   "execution_count": 51,
   "id": "3e36599a",
   "metadata": {},
   "outputs": [
    {
     "data": {
      "text/html": [
       "<div>\n",
       "<style scoped>\n",
       "    .dataframe tbody tr th:only-of-type {\n",
       "        vertical-align: middle;\n",
       "    }\n",
       "\n",
       "    .dataframe tbody tr th {\n",
       "        vertical-align: top;\n",
       "    }\n",
       "\n",
       "    .dataframe thead th {\n",
       "        text-align: right;\n",
       "    }\n",
       "</style>\n",
       "<table border=\"1\" class=\"dataframe\">\n",
       "  <thead>\n",
       "    <tr style=\"text-align: right;\">\n",
       "      <th></th>\n",
       "      <th>Year</th>\n",
       "      <th>World_population</th>\n",
       "      <th>Yearly_change</th>\n",
       "      <th>Net_change</th>\n",
       "    </tr>\n",
       "  </thead>\n",
       "  <tbody>\n",
       "    <tr>\n",
       "      <th>0</th>\n",
       "      <td>2020</td>\n",
       "      <td>7794798739</td>\n",
       "      <td>1.05 %</td>\n",
       "      <td>81330639</td>\n",
       "    </tr>\n",
       "    <tr>\n",
       "      <th>1</th>\n",
       "      <td>2019</td>\n",
       "      <td>7713468100</td>\n",
       "      <td>1.08 %</td>\n",
       "      <td>82377060</td>\n",
       "    </tr>\n",
       "    <tr>\n",
       "      <th>2</th>\n",
       "      <td>2018</td>\n",
       "      <td>7631091040</td>\n",
       "      <td>1.10 %</td>\n",
       "      <td>83232115</td>\n",
       "    </tr>\n",
       "    <tr>\n",
       "      <th>3</th>\n",
       "      <td>2017</td>\n",
       "      <td>7547858925</td>\n",
       "      <td>1.12 %</td>\n",
       "      <td>83836876</td>\n",
       "    </tr>\n",
       "    <tr>\n",
       "      <th>4</th>\n",
       "      <td>2016</td>\n",
       "      <td>7464022049</td>\n",
       "      <td>1.14 %</td>\n",
       "      <td>84224910</td>\n",
       "    </tr>\n",
       "  </tbody>\n",
       "</table>\n",
       "</div>"
      ],
      "text/plain": [
       "   Year World_population Yearly_change Net_change\n",
       "0  2020       7794798739        1.05 %   81330639\n",
       "1  2019       7713468100        1.08 %   82377060\n",
       "2  2018       7631091040        1.10 %   83232115\n",
       "3  2017       7547858925        1.12 %   83836876\n",
       "4  2016       7464022049        1.14 %   84224910"
      ]
     },
     "execution_count": 51,
     "metadata": {},
     "output_type": "execute_result"
    }
   ],
   "source": [
    "data.head()"
   ]
  },
  {
   "cell_type": "code",
   "execution_count": 93,
   "id": "4373e0b2",
   "metadata": {},
   "outputs": [],
   "source": [
    "data.to_csv('world_population_by_year.csv', index=False)"
   ]
  },
  {
   "cell_type": "code",
   "execution_count": 53,
   "id": "fecd523b",
   "metadata": {},
   "outputs": [
    {
     "data": {
      "text/plain": [
       "Year                0\n",
       "World_population    0\n",
       "Yearly_change       0\n",
       "Net_change          0\n",
       "dtype: int64"
      ]
     },
     "execution_count": 53,
     "metadata": {},
     "output_type": "execute_result"
    }
   ],
   "source": [
    "data.isna().sum()"
   ]
  },
  {
   "cell_type": "markdown",
   "id": "7f885f87",
   "metadata": {},
   "source": [
    "### Scraping Population of Ghana"
   ]
  },
  {
   "cell_type": "code",
   "execution_count": 54,
   "id": "8b1d0ee9",
   "metadata": {},
   "outputs": [],
   "source": [
    "site = \"https://www.worldometers.info/world-population/ghana-population/\""
   ]
  },
  {
   "cell_type": "code",
   "execution_count": 55,
   "id": "e19ae352",
   "metadata": {},
   "outputs": [],
   "source": [
    "page = requests.get(site)"
   ]
  },
  {
   "cell_type": "code",
   "execution_count": 59,
   "id": "236ec383",
   "metadata": {},
   "outputs": [],
   "source": [
    "soup = BeautifulSoup(page.text, 'html.parser')"
   ]
  },
  {
   "cell_type": "code",
   "execution_count": 82,
   "id": "18c48542",
   "metadata": {},
   "outputs": [],
   "source": [
    "ghana_table = soup.find('div',class_ = \"table-responsive\").find('tbody').find_all('tr')"
   ]
  },
  {
   "cell_type": "code",
   "execution_count": 87,
   "id": "e9a41637",
   "metadata": {},
   "outputs": [],
   "source": [
    "ghana_population = []\n",
    "\n",
    "for row in ghana_table:\n",
    "    dic = {}\n",
    "    \n",
    "    dic['Year'] = row.find_all('td')[0].text\n",
    "    dic['Population'] = row.find_all('td')[1].text.replace(\",\",\"\")\n",
    "    dic['Yearly % change'] = row.find_all('td')[2].text    \n",
    "    dic['Yearly change'] = row.find_all('td')[3].text.replace(\",\",\"\")\n",
    "    dic['Fertility rate'] = row.find_all('td')[6].text\n",
    "         \n",
    "    ghana_population.append(dic)"
   ]
  },
  {
   "cell_type": "code",
   "execution_count": 88,
   "id": "f4b26b10",
   "metadata": {},
   "outputs": [],
   "source": [
    "ghana_df = pd.DataFrame(ghana_population)"
   ]
  },
  {
   "cell_type": "code",
   "execution_count": 90,
   "id": "4a9c5527",
   "metadata": {},
   "outputs": [
    {
     "data": {
      "text/html": [
       "<div>\n",
       "<style scoped>\n",
       "    .dataframe tbody tr th:only-of-type {\n",
       "        vertical-align: middle;\n",
       "    }\n",
       "\n",
       "    .dataframe tbody tr th {\n",
       "        vertical-align: top;\n",
       "    }\n",
       "\n",
       "    .dataframe thead th {\n",
       "        text-align: right;\n",
       "    }\n",
       "</style>\n",
       "<table border=\"1\" class=\"dataframe\">\n",
       "  <thead>\n",
       "    <tr style=\"text-align: right;\">\n",
       "      <th></th>\n",
       "      <th>Year</th>\n",
       "      <th>Population</th>\n",
       "      <th>Yearly % change</th>\n",
       "      <th>Yearly change</th>\n",
       "      <th>Fertility rate</th>\n",
       "    </tr>\n",
       "  </thead>\n",
       "  <tbody>\n",
       "    <tr>\n",
       "      <th>0</th>\n",
       "      <td>2020</td>\n",
       "      <td>31072940</td>\n",
       "      <td>2.15 %</td>\n",
       "      <td>655084</td>\n",
       "      <td>3.89</td>\n",
       "    </tr>\n",
       "    <tr>\n",
       "      <th>1</th>\n",
       "      <td>2019</td>\n",
       "      <td>30417856</td>\n",
       "      <td>2.19 %</td>\n",
       "      <td>650754</td>\n",
       "      <td>4.12</td>\n",
       "    </tr>\n",
       "    <tr>\n",
       "      <th>2</th>\n",
       "      <td>2018</td>\n",
       "      <td>29767102</td>\n",
       "      <td>2.22 %</td>\n",
       "      <td>645637</td>\n",
       "      <td>4.12</td>\n",
       "    </tr>\n",
       "    <tr>\n",
       "      <th>3</th>\n",
       "      <td>2017</td>\n",
       "      <td>29121465</td>\n",
       "      <td>2.25 %</td>\n",
       "      <td>639520</td>\n",
       "      <td>4.12</td>\n",
       "    </tr>\n",
       "    <tr>\n",
       "      <th>4</th>\n",
       "      <td>2016</td>\n",
       "      <td>28481945</td>\n",
       "      <td>2.27 %</td>\n",
       "      <td>632740</td>\n",
       "      <td>4.12</td>\n",
       "    </tr>\n",
       "  </tbody>\n",
       "</table>\n",
       "</div>"
      ],
      "text/plain": [
       "   Year Population Yearly % change Yearly change Fertility rate\n",
       "0  2020   31072940          2.15 %        655084           3.89\n",
       "1  2019   30417856          2.19 %        650754           4.12\n",
       "2  2018   29767102          2.22 %        645637           4.12\n",
       "3  2017   29121465          2.25 %        639520           4.12\n",
       "4  2016   28481945          2.27 %        632740           4.12"
      ]
     },
     "execution_count": 90,
     "metadata": {},
     "output_type": "execute_result"
    }
   ],
   "source": [
    "ghana_df.head()"
   ]
  },
  {
   "cell_type": "code",
   "execution_count": 92,
   "id": "f4844eeb",
   "metadata": {},
   "outputs": [],
   "source": [
    "ghana_df.to_csv(\"Ghana_population.csv\", index=False)"
   ]
  },
  {
   "cell_type": "code",
   "execution_count": null,
   "id": "93a80d37",
   "metadata": {},
   "outputs": [],
   "source": []
  }
 ],
 "metadata": {
  "kernelspec": {
   "display_name": "Python 3 (ipykernel)",
   "language": "python",
   "name": "python3"
  },
  "language_info": {
   "codemirror_mode": {
    "name": "ipython",
    "version": 3
   },
   "file_extension": ".py",
   "mimetype": "text/x-python",
   "name": "python",
   "nbconvert_exporter": "python",
   "pygments_lexer": "ipython3",
   "version": "3.9.12"
  }
 },
 "nbformat": 4,
 "nbformat_minor": 5
}
