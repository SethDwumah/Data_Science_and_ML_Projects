{
 "cells": [
  {
   "cell_type": "markdown",
   "id": "3b70ef8e",
   "metadata": {},
   "source": [
    "### Problem Statement\n",
    "To develop a ML model to predict the price of houses by taking the house details as input and house price as output."
   ]
  },
  {
   "cell_type": "code",
   "execution_count": 1,
   "id": "c8e2b8d4",
   "metadata": {},
   "outputs": [],
   "source": [
    "import pandas as pd\n",
    "import matplotlib.pyplot  as plt\n",
    "%matplotlib inline\n",
    "import seaborn as sns\n",
    "\n",
    "from sklearn.ensemble import RandomForestRegressor\n",
    "from sklearn.model_selection import train_test_split"
   ]
  },
  {
   "cell_type": "code",
   "execution_count": null,
   "id": "8d2a6eae",
   "metadata": {},
   "outputs": [],
   "source": []
  },
  {
   "cell_type": "code",
   "execution_count": 2,
   "id": "c6bdf840",
   "metadata": {},
   "outputs": [
    {
     "data": {
      "text/html": [
       "<div>\n",
       "<style scoped>\n",
       "    .dataframe tbody tr th:only-of-type {\n",
       "        vertical-align: middle;\n",
       "    }\n",
       "\n",
       "    .dataframe tbody tr th {\n",
       "        vertical-align: top;\n",
       "    }\n",
       "\n",
       "    .dataframe thead th {\n",
       "        text-align: right;\n",
       "    }\n",
       "</style>\n",
       "<table border=\"1\" class=\"dataframe\">\n",
       "  <thead>\n",
       "    <tr style=\"text-align: right;\">\n",
       "      <th></th>\n",
       "      <th>SaleDate</th>\n",
       "      <th>LandUse</th>\n",
       "      <th>SoldAsVacant</th>\n",
       "      <th>Acreage</th>\n",
       "      <th>TaxDistrict</th>\n",
       "      <th>LandValue</th>\n",
       "      <th>BuildingValue</th>\n",
       "      <th>TotalValue</th>\n",
       "      <th>YearBuilt</th>\n",
       "      <th>Bedrooms</th>\n",
       "      <th>FullBath</th>\n",
       "      <th>HalfBath</th>\n",
       "      <th>SalePrice</th>\n",
       "    </tr>\n",
       "  </thead>\n",
       "  <tbody>\n",
       "    <tr>\n",
       "      <th>0</th>\n",
       "      <td>8/21/2015</td>\n",
       "      <td>SINGLE FAMILY</td>\n",
       "      <td>No</td>\n",
       "      <td>0.17</td>\n",
       "      <td>URBAN SERVICES DISTRICT</td>\n",
       "      <td>18200.0</td>\n",
       "      <td>64600.0</td>\n",
       "      <td>82800.0</td>\n",
       "      <td>1928.0</td>\n",
       "      <td>2.0</td>\n",
       "      <td>1.0</td>\n",
       "      <td>0.0</td>\n",
       "      <td>105000.0</td>\n",
       "    </tr>\n",
       "    <tr>\n",
       "      <th>1</th>\n",
       "      <td>12/15/2015</td>\n",
       "      <td>SINGLE FAMILY</td>\n",
       "      <td>No</td>\n",
       "      <td>0.18</td>\n",
       "      <td>URBAN SERVICES DISTRICT</td>\n",
       "      <td>13000.0</td>\n",
       "      <td>107800.0</td>\n",
       "      <td>120800.0</td>\n",
       "      <td>1975.0</td>\n",
       "      <td>2.0</td>\n",
       "      <td>1.0</td>\n",
       "      <td>1.0</td>\n",
       "      <td>120000.0</td>\n",
       "    </tr>\n",
       "    <tr>\n",
       "      <th>2</th>\n",
       "      <td>1/9/2015</td>\n",
       "      <td>SINGLE FAMILY</td>\n",
       "      <td>No</td>\n",
       "      <td>0.14</td>\n",
       "      <td>URBAN SERVICES DISTRICT</td>\n",
       "      <td>80000.0</td>\n",
       "      <td>226600.0</td>\n",
       "      <td>306600.0</td>\n",
       "      <td>2014.0</td>\n",
       "      <td>3.0</td>\n",
       "      <td>3.0</td>\n",
       "      <td>1.0</td>\n",
       "      <td>407500.0</td>\n",
       "    </tr>\n",
       "    <tr>\n",
       "      <th>3</th>\n",
       "      <td>5/25/2016</td>\n",
       "      <td>SINGLE FAMILY</td>\n",
       "      <td>No</td>\n",
       "      <td>0.95</td>\n",
       "      <td>GENERAL SERVICES DISTRICT</td>\n",
       "      <td>50000.0</td>\n",
       "      <td>157400.0</td>\n",
       "      <td>207400.0</td>\n",
       "      <td>1988.0</td>\n",
       "      <td>3.0</td>\n",
       "      <td>2.0</td>\n",
       "      <td>0.0</td>\n",
       "      <td>235000.0</td>\n",
       "    </tr>\n",
       "    <tr>\n",
       "      <th>4</th>\n",
       "      <td>12/28/2015</td>\n",
       "      <td>DUPLEX</td>\n",
       "      <td>No</td>\n",
       "      <td>0.09</td>\n",
       "      <td>GENERAL SERVICES DISTRICT</td>\n",
       "      <td>17000.0</td>\n",
       "      <td>64100.0</td>\n",
       "      <td>81100.0</td>\n",
       "      <td>1933.0</td>\n",
       "      <td>6.0</td>\n",
       "      <td>2.0</td>\n",
       "      <td>0.0</td>\n",
       "      <td>140000.0</td>\n",
       "    </tr>\n",
       "  </tbody>\n",
       "</table>\n",
       "</div>"
      ],
      "text/plain": [
       "     SaleDate        LandUse SoldAsVacant  Acreage                TaxDistrict  \\\n",
       "0   8/21/2015  SINGLE FAMILY           No     0.17    URBAN SERVICES DISTRICT   \n",
       "1  12/15/2015  SINGLE FAMILY           No     0.18    URBAN SERVICES DISTRICT   \n",
       "2    1/9/2015  SINGLE FAMILY           No     0.14    URBAN SERVICES DISTRICT   \n",
       "3   5/25/2016  SINGLE FAMILY           No     0.95  GENERAL SERVICES DISTRICT   \n",
       "4  12/28/2015         DUPLEX           No     0.09  GENERAL SERVICES DISTRICT   \n",
       "\n",
       "   LandValue  BuildingValue  TotalValue  YearBuilt  Bedrooms  FullBath  \\\n",
       "0    18200.0        64600.0     82800.0     1928.0       2.0       1.0   \n",
       "1    13000.0       107800.0    120800.0     1975.0       2.0       1.0   \n",
       "2    80000.0       226600.0    306600.0     2014.0       3.0       3.0   \n",
       "3    50000.0       157400.0    207400.0     1988.0       3.0       2.0   \n",
       "4    17000.0        64100.0     81100.0     1933.0       6.0       2.0   \n",
       "\n",
       "   HalfBath  SalePrice  \n",
       "0       0.0   105000.0  \n",
       "1       1.0   120000.0  \n",
       "2       1.0   407500.0  \n",
       "3       0.0   235000.0  \n",
       "4       0.0   140000.0  "
      ]
     },
     "execution_count": 2,
     "metadata": {},
     "output_type": "execute_result"
    }
   ],
   "source": [
    "df = pd.read_csv('Processed_Housing_data.csv')\n",
    "df = df[['SaleDate','LandUse','SoldAsVacant','Acreage','TaxDistrict','LandValue','BuildingValue','TotalValue','YearBuilt','Bedrooms','FullBath','HalfBath','SalePrice']]\n",
    "df.head()"
   ]
  },
  {
   "cell_type": "code",
   "execution_count": 9,
   "id": "9d7c44e4",
   "metadata": {},
   "outputs": [
    {
     "data": {
      "text/plain": [
       "SaleDate         0\n",
       "LandUse          0\n",
       "SoldAsVacant     0\n",
       "Acreage          0\n",
       "TaxDistrict      0\n",
       "LandValue        0\n",
       "BuildingValue    0\n",
       "TotalValue       0\n",
       "YearBuilt        0\n",
       "Bedrooms         0\n",
       "FullBath         0\n",
       "HalfBath         0\n",
       "SalePrice        0\n",
       "dtype: int64"
      ]
     },
     "execution_count": 9,
     "metadata": {},
     "output_type": "execute_result"
    }
   ],
   "source": [
    "df.isnull().sum()"
   ]
  },
  {
   "cell_type": "code",
   "execution_count": 3,
   "id": "9e932c88",
   "metadata": {},
   "outputs": [
    {
     "data": {
      "text/plain": [
       "(23705, 13)"
      ]
     },
     "execution_count": 3,
     "metadata": {},
     "output_type": "execute_result"
    }
   ],
   "source": [
    "df.shape"
   ]
  },
  {
   "cell_type": "code",
   "execution_count": 4,
   "id": "536abadb",
   "metadata": {},
   "outputs": [
    {
     "name": "stdout",
     "output_type": "stream",
     "text": [
      "<class 'pandas.core.frame.DataFrame'>\n",
      "RangeIndex: 23705 entries, 0 to 23704\n",
      "Data columns (total 13 columns):\n",
      " #   Column         Non-Null Count  Dtype  \n",
      "---  ------         --------------  -----  \n",
      " 0   SaleDate       23705 non-null  object \n",
      " 1   LandUse        23705 non-null  object \n",
      " 2   SoldAsVacant   23705 non-null  object \n",
      " 3   Acreage        23705 non-null  float64\n",
      " 4   TaxDistrict    23705 non-null  object \n",
      " 5   LandValue      23705 non-null  float64\n",
      " 6   BuildingValue  23705 non-null  float64\n",
      " 7   TotalValue     23705 non-null  float64\n",
      " 8   YearBuilt      23705 non-null  float64\n",
      " 9   Bedrooms       23705 non-null  float64\n",
      " 10  FullBath       23705 non-null  float64\n",
      " 11  HalfBath       23705 non-null  float64\n",
      " 12  SalePrice      23705 non-null  float64\n",
      "dtypes: float64(9), object(4)\n",
      "memory usage: 2.4+ MB\n"
     ]
    }
   ],
   "source": [
    "df.info()"
   ]
  },
  {
   "cell_type": "markdown",
   "id": "a6283dbe",
   "metadata": {},
   "source": [
    "### Preprocessing Data for Machine Learning"
   ]
  },
  {
   "cell_type": "code",
   "execution_count": 5,
   "id": "b06691ae",
   "metadata": {},
   "outputs": [],
   "source": [
    "data = df.copy()"
   ]
  },
  {
   "cell_type": "markdown",
   "id": "32601023",
   "metadata": {},
   "source": [
    "#### Convert categorical variables to numerical"
   ]
  },
  {
   "cell_type": "code",
   "execution_count": 6,
   "id": "1af353de",
   "metadata": {},
   "outputs": [],
   "source": [
    "data['SaleDate'] = pd.to_datetime(data['SaleDate'])\n",
    "data['LandUse'] = data['LandUse'].astype('category').cat.codes\n",
    "data['SoldAsVacant'] = data['SoldAsVacant'].astype('category').cat.codes\n",
    "\n",
    "data['TaxDistrict'] = data['TaxDistrict'].astype('category').cat.codes"
   ]
  },
  {
   "cell_type": "code",
   "execution_count": 7,
   "id": "4bc17acf",
   "metadata": {},
   "outputs": [
    {
     "data": {
      "text/html": [
       "<div>\n",
       "<style scoped>\n",
       "    .dataframe tbody tr th:only-of-type {\n",
       "        vertical-align: middle;\n",
       "    }\n",
       "\n",
       "    .dataframe tbody tr th {\n",
       "        vertical-align: top;\n",
       "    }\n",
       "\n",
       "    .dataframe thead th {\n",
       "        text-align: right;\n",
       "    }\n",
       "</style>\n",
       "<table border=\"1\" class=\"dataframe\">\n",
       "  <thead>\n",
       "    <tr style=\"text-align: right;\">\n",
       "      <th></th>\n",
       "      <th>SaleDate</th>\n",
       "      <th>LandUse</th>\n",
       "      <th>SoldAsVacant</th>\n",
       "      <th>Acreage</th>\n",
       "      <th>TaxDistrict</th>\n",
       "      <th>LandValue</th>\n",
       "      <th>BuildingValue</th>\n",
       "      <th>TotalValue</th>\n",
       "      <th>YearBuilt</th>\n",
       "      <th>Bedrooms</th>\n",
       "      <th>FullBath</th>\n",
       "      <th>HalfBath</th>\n",
       "      <th>SalePrice</th>\n",
       "    </tr>\n",
       "  </thead>\n",
       "  <tbody>\n",
       "    <tr>\n",
       "      <th>0</th>\n",
       "      <td>2015-08-21</td>\n",
       "      <td>18</td>\n",
       "      <td>1</td>\n",
       "      <td>0.17</td>\n",
       "      <td>6</td>\n",
       "      <td>18200.0</td>\n",
       "      <td>64600.0</td>\n",
       "      <td>82800.0</td>\n",
       "      <td>1928.0</td>\n",
       "      <td>2.0</td>\n",
       "      <td>1.0</td>\n",
       "      <td>0.0</td>\n",
       "      <td>105000.0</td>\n",
       "    </tr>\n",
       "    <tr>\n",
       "      <th>1</th>\n",
       "      <td>2015-12-15</td>\n",
       "      <td>18</td>\n",
       "      <td>1</td>\n",
       "      <td>0.18</td>\n",
       "      <td>6</td>\n",
       "      <td>13000.0</td>\n",
       "      <td>107800.0</td>\n",
       "      <td>120800.0</td>\n",
       "      <td>1975.0</td>\n",
       "      <td>2.0</td>\n",
       "      <td>1.0</td>\n",
       "      <td>1.0</td>\n",
       "      <td>120000.0</td>\n",
       "    </tr>\n",
       "    <tr>\n",
       "      <th>2</th>\n",
       "      <td>2015-01-09</td>\n",
       "      <td>18</td>\n",
       "      <td>1</td>\n",
       "      <td>0.14</td>\n",
       "      <td>6</td>\n",
       "      <td>80000.0</td>\n",
       "      <td>226600.0</td>\n",
       "      <td>306600.0</td>\n",
       "      <td>2014.0</td>\n",
       "      <td>3.0</td>\n",
       "      <td>3.0</td>\n",
       "      <td>1.0</td>\n",
       "      <td>407500.0</td>\n",
       "    </tr>\n",
       "    <tr>\n",
       "      <th>3</th>\n",
       "      <td>2016-05-25</td>\n",
       "      <td>18</td>\n",
       "      <td>1</td>\n",
       "      <td>0.95</td>\n",
       "      <td>5</td>\n",
       "      <td>50000.0</td>\n",
       "      <td>157400.0</td>\n",
       "      <td>207400.0</td>\n",
       "      <td>1988.0</td>\n",
       "      <td>3.0</td>\n",
       "      <td>2.0</td>\n",
       "      <td>0.0</td>\n",
       "      <td>235000.0</td>\n",
       "    </tr>\n",
       "    <tr>\n",
       "      <th>4</th>\n",
       "      <td>2015-12-28</td>\n",
       "      <td>6</td>\n",
       "      <td>1</td>\n",
       "      <td>0.09</td>\n",
       "      <td>5</td>\n",
       "      <td>17000.0</td>\n",
       "      <td>64100.0</td>\n",
       "      <td>81100.0</td>\n",
       "      <td>1933.0</td>\n",
       "      <td>6.0</td>\n",
       "      <td>2.0</td>\n",
       "      <td>0.0</td>\n",
       "      <td>140000.0</td>\n",
       "    </tr>\n",
       "  </tbody>\n",
       "</table>\n",
       "</div>"
      ],
      "text/plain": [
       "    SaleDate  LandUse  SoldAsVacant  Acreage  TaxDistrict  LandValue  \\\n",
       "0 2015-08-21       18             1     0.17            6    18200.0   \n",
       "1 2015-12-15       18             1     0.18            6    13000.0   \n",
       "2 2015-01-09       18             1     0.14            6    80000.0   \n",
       "3 2016-05-25       18             1     0.95            5    50000.0   \n",
       "4 2015-12-28        6             1     0.09            5    17000.0   \n",
       "\n",
       "   BuildingValue  TotalValue  YearBuilt  Bedrooms  FullBath  HalfBath  \\\n",
       "0        64600.0     82800.0     1928.0       2.0       1.0       0.0   \n",
       "1       107800.0    120800.0     1975.0       2.0       1.0       1.0   \n",
       "2       226600.0    306600.0     2014.0       3.0       3.0       1.0   \n",
       "3       157400.0    207400.0     1988.0       3.0       2.0       0.0   \n",
       "4        64100.0     81100.0     1933.0       6.0       2.0       0.0   \n",
       "\n",
       "   SalePrice  \n",
       "0   105000.0  \n",
       "1   120000.0  \n",
       "2   407500.0  \n",
       "3   235000.0  \n",
       "4   140000.0  "
      ]
     },
     "execution_count": 7,
     "metadata": {},
     "output_type": "execute_result"
    }
   ],
   "source": [
    "data.head()"
   ]
  },
  {
   "cell_type": "markdown",
   "id": "41496062",
   "metadata": {},
   "source": [
    "### Correlation between variables"
   ]
  },
  {
   "cell_type": "code",
   "execution_count": 8,
   "id": "625b6205",
   "metadata": {},
   "outputs": [
    {
     "data": {
      "text/plain": [
       "<AxesSubplot:>"
      ]
     },
     "execution_count": 8,
     "metadata": {},
     "output_type": "execute_result"
    },
    {
     "data": {
      "image/png": "[encoded data removed]",
      "text/plain": [
       "<Figure size 432x288 with 2 Axes>"
      ]
     },
     "metadata": {
      "needs_background": "light"
     },
     "output_type": "display_data"
    }
   ],
   "source": [
    "sns.heatmap(data.corr(), annot=False, cmap='cool')"
   ]
  },
  {
   "cell_type": "code",
   "execution_count": 9,
   "id": "7554f37d",
   "metadata": {},
   "outputs": [
    {
     "data": {
      "text/plain": [
       "<AxesSubplot:>"
      ]
     },
     "execution_count": 9,
     "metadata": {},
     "output_type": "execute_result"
    },
    {
     "data": {
      "image/png": "[encoded data removed]",
      "text/plain": [
       "<Figure size 864x288 with 1 Axes>"
      ]
     },
     "metadata": {
      "needs_background": "light"
     },
     "output_type": "display_data"
    }
   ],
   "source": [
    "target_col = 'SalePrice'\n",
    "data.corr()[target_col].sort_values(ascending=False)[1:].plot(kind='bar', figsize=(12,4), grid=True)"
   ]
  },
  {
   "cell_type": "code",
   "execution_count": 10,
   "id": "6a224d23",
   "metadata": {},
   "outputs": [],
   "source": [
    "corr_df = pd.DataFrame(data.corr()[target_col].sort_values(ascending=False)[1:])\n",
    "\n",
    "corr_df.columns=['Corr']"
   ]
  },
  {
   "cell_type": "code",
   "execution_count": 11,
   "id": "751db9c1",
   "metadata": {},
   "outputs": [
    {
     "data": {
      "text/html": [
       "<div>\n",
       "<style scoped>\n",
       "    .dataframe tbody tr th:only-of-type {\n",
       "        vertical-align: middle;\n",
       "    }\n",
       "\n",
       "    .dataframe tbody tr th {\n",
       "        vertical-align: top;\n",
       "    }\n",
       "\n",
       "    .dataframe thead th {\n",
       "        text-align: right;\n",
       "    }\n",
       "</style>\n",
       "<table border=\"1\" class=\"dataframe\">\n",
       "  <thead>\n",
       "    <tr style=\"text-align: right;\">\n",
       "      <th></th>\n",
       "      <th>Corr</th>\n",
       "    </tr>\n",
       "  </thead>\n",
       "  <tbody>\n",
       "    <tr>\n",
       "      <th>TotalValue</th>\n",
       "      <td>0.810642</td>\n",
       "    </tr>\n",
       "    <tr>\n",
       "      <th>LandValue</th>\n",
       "      <td>0.744294</td>\n",
       "    </tr>\n",
       "    <tr>\n",
       "      <th>BuildingValue</th>\n",
       "      <td>0.730894</td>\n",
       "    </tr>\n",
       "    <tr>\n",
       "      <th>FullBath</th>\n",
       "      <td>0.552712</td>\n",
       "    </tr>\n",
       "    <tr>\n",
       "      <th>Bedrooms</th>\n",
       "      <td>0.376122</td>\n",
       "    </tr>\n",
       "    <tr>\n",
       "      <th>Acreage</th>\n",
       "      <td>0.285890</td>\n",
       "    </tr>\n",
       "    <tr>\n",
       "      <th>HalfBath</th>\n",
       "      <td>0.253800</td>\n",
       "    </tr>\n",
       "    <tr>\n",
       "      <th>YearBuilt</th>\n",
       "      <td>0.038871</td>\n",
       "    </tr>\n",
       "    <tr>\n",
       "      <th>SoldAsVacant</th>\n",
       "      <td>-0.017460</td>\n",
       "    </tr>\n",
       "    <tr>\n",
       "      <th>LandUse</th>\n",
       "      <td>-0.027323</td>\n",
       "    </tr>\n",
       "    <tr>\n",
       "      <th>TaxDistrict</th>\n",
       "      <td>-0.312893</td>\n",
       "    </tr>\n",
       "  </tbody>\n",
       "</table>\n",
       "</div>"
      ],
      "text/plain": [
       "                   Corr\n",
       "TotalValue     0.810642\n",
       "LandValue      0.744294\n",
       "BuildingValue  0.730894\n",
       "FullBath       0.552712\n",
       "Bedrooms       0.376122\n",
       "Acreage        0.285890\n",
       "HalfBath       0.253800\n",
       "YearBuilt      0.038871\n",
       "SoldAsVacant  -0.017460\n",
       "LandUse       -0.027323\n",
       "TaxDistrict   -0.312893"
      ]
     },
     "execution_count": 11,
     "metadata": {},
     "output_type": "execute_result"
    }
   ],
   "source": [
    "corr_df"
   ]
  },
  {
   "cell_type": "markdown",
   "id": "49e129a1",
   "metadata": {},
   "source": [
    "## Select Feature and Target set"
   ]
  },
  {
   "cell_type": "code",
   "execution_count": 12,
   "id": "01dbb417",
   "metadata": {},
   "outputs": [],
   "source": [
    "# X = Feature\n",
    "#  y= Target\n",
    "\n",
    "X = data.iloc[:,1:-1]\n",
    "Y = data[target_col]"
   ]
  },
  {
   "cell_type": "code",
   "execution_count": 13,
   "id": "b8769ec4",
   "metadata": {},
   "outputs": [
    {
     "data": {
      "text/plain": [
       "((23705, 11), (23705,))"
      ]
     },
     "execution_count": 13,
     "metadata": {},
     "output_type": "execute_result"
    }
   ],
   "source": [
    "X.shape,Y.shape"
   ]
  },
  {
   "cell_type": "code",
   "execution_count": 14,
   "id": "8cd32b81",
   "metadata": {},
   "outputs": [
    {
     "data": {
      "text/plain": [
       "0    105000.0\n",
       "1    120000.0\n",
       "2    407500.0\n",
       "3    235000.0\n",
       "4    140000.0\n",
       "Name: SalePrice, dtype: float64"
      ]
     },
     "execution_count": 14,
     "metadata": {},
     "output_type": "execute_result"
    }
   ],
   "source": [
    "Y.head()"
   ]
  },
  {
   "cell_type": "markdown",
   "id": "02cbf0d1",
   "metadata": {},
   "source": [
    "### Divide the dataset into train and test set"
   ]
  },
  {
   "cell_type": "code",
   "execution_count": 15,
   "id": "72dd3132",
   "metadata": {},
   "outputs": [],
   "source": [
    "x_train, x_test ,y_train,y_test = train_test_split(X,Y , test_size=0.25,random_state=365)"
   ]
  },
  {
   "cell_type": "code",
   "execution_count": 16,
   "id": "167dbd5f",
   "metadata": {},
   "outputs": [
    {
     "data": {
      "text/plain": [
       "((17778, 11), (17778,))"
      ]
     },
     "execution_count": 16,
     "metadata": {},
     "output_type": "execute_result"
    }
   ],
   "source": [
    "x_train.shape, y_train.shape "
   ]
  },
  {
   "cell_type": "code",
   "execution_count": 17,
   "id": "48721982",
   "metadata": {},
   "outputs": [
    {
     "data": {
      "text/plain": [
       "((5927, 11), (5927,))"
      ]
     },
     "execution_count": 17,
     "metadata": {},
     "output_type": "execute_result"
    }
   ],
   "source": [
    "x_test.shape , y_test.shape"
   ]
  },
  {
   "cell_type": "markdown",
   "id": "ee94cdb7",
   "metadata": {},
   "source": [
    "### Normalize the data"
   ]
  },
  {
   "cell_type": "code",
   "execution_count": 18,
   "id": "1e05d71e",
   "metadata": {},
   "outputs": [],
   "source": [
    "from sklearn.preprocessing import StandardScaler\n",
    "\n",
    "scaler = StandardScaler()\n",
    "\n",
    "x_train_scaled = scaler.fit_transform(x_train)\n",
    "x_test_scaled = scaler.fit_transform(x_test)"
   ]
  },
  {
   "cell_type": "markdown",
   "id": "c193fd59",
   "metadata": {},
   "source": [
    "## First ML Regression model\n",
    "### LinearRegresion"
   ]
  },
  {
   "cell_type": "code",
   "execution_count": 19,
   "id": "4f48a23f",
   "metadata": {},
   "outputs": [],
   "source": [
    "from sklearn.linear_model import LinearRegression\n",
    "\n",
    "lr = LinearRegression()\n"
   ]
  },
  {
   "cell_type": "code",
   "execution_count": 20,
   "id": "fd8ce971",
   "metadata": {},
   "outputs": [
    {
     "data": {
      "text/plain": [
       "LinearRegression()"
      ]
     },
     "execution_count": 20,
     "metadata": {},
     "output_type": "execute_result"
    }
   ],
   "source": [
    "# Train the model\n",
    "\n",
    "lr.fit(x_train_scaled,y_train)"
   ]
  },
  {
   "cell_type": "markdown",
   "id": "48294a8d",
   "metadata": {},
   "source": [
    "### Predict the target"
   ]
  },
  {
   "cell_type": "code",
   "execution_count": 23,
   "id": "61f74824",
   "metadata": {},
   "outputs": [
    {
     "data": {
      "text/plain": [
       "<matplotlib.collections.PathCollection at 0x23114c34f70>"
      ]
     },
     "execution_count": 23,
     "metadata": {},
     "output_type": "execute_result"
    },
    {
     "data": {
      "image/png": "[encoded data removed]",
      "text/plain": [
       "<Figure size 432x288 with 1 Axes>"
      ]
     },
     "metadata": {
      "needs_background": "light"
     },
     "output_type": "display_data"
    }
   ],
   "source": [
    "yp_train = lr.predict(x_train_scaled)\n",
    "\n",
    "plt.scatter(y_train,yp_train)\n",
    "plt.scatter(y_test,yp_test,color='orange')"
   ]
  },
  {
   "cell_type": "code",
   "execution_count": 22,
   "id": "f84222ed",
   "metadata": {},
   "outputs": [],
   "source": [
    "yp_test = lr.predict(x_test_scaled)"
   ]
  },
  {
   "cell_type": "code",
   "execution_count": 24,
   "id": "9fd72c52",
   "metadata": {},
   "outputs": [
    {
     "name": "stdout",
     "output_type": "stream",
     "text": [
      "The score of the model is 70%\n"
     ]
    }
   ],
   "source": [
    "score = lr.score(x_test_scaled,y_test)\n",
    "print(f'The score of the model is {round(score*100)}%')"
   ]
  },
  {
   "cell_type": "code",
   "execution_count": 25,
   "id": "02f8c447",
   "metadata": {},
   "outputs": [
    {
     "name": "stdout",
     "output_type": "stream",
     "text": [
      "0.7039586687597137\n"
     ]
    }
   ],
   "source": [
    "print(score)"
   ]
  },
  {
   "cell_type": "markdown",
   "id": "075643f5",
   "metadata": {},
   "source": [
    "#### Improving Model Performance"
   ]
  },
  {
   "cell_type": "code",
   "execution_count": 27,
   "id": "70213d76",
   "metadata": {},
   "outputs": [
    {
     "data": {
      "text/plain": [
       "<AxesSubplot:ylabel='Density'>"
      ]
     },
     "execution_count": 27,
     "metadata": {},
     "output_type": "execute_result"
    },
    {
     "data": {
      "image/png": "[encoded data removed]",
      "text/plain": [
       "<Figure size 432x288 with 1 Axes>"
      ]
     },
     "metadata": {
      "needs_background": "light"
     },
     "output_type": "display_data"
    }
   ],
   "source": [
    "# Clearing outliers\n",
    "data.corr()[target_col].sort_values(ascending=False)[1:].plot(kind='kde', grid=True)\n",
    "#plt.axvline(x=0.03, color='red')"
   ]
  },
  {
   "cell_type": "code",
   "execution_count": 28,
   "id": "b6304d11",
   "metadata": {},
   "outputs": [
    {
     "data": {
      "text/plain": [
       "Index(['LandValue', 'BuildingValue', 'FullBath', 'Bedrooms', 'Acreage',\n",
       "       'HalfBath', 'YearBuilt'],\n",
       "      dtype='object')"
      ]
     },
     "execution_count": 28,
     "metadata": {},
     "output_type": "execute_result"
    }
   ],
   "source": [
    "input_col = corr_df[abs(corr_df['Corr']>0.03) & (corr_df['Corr']<0.8)].index\n",
    "input_col"
   ]
  },
  {
   "cell_type": "code",
   "execution_count": 29,
   "id": "44e815d3",
   "metadata": {},
   "outputs": [],
   "source": [
    "x = data[input_col]\n",
    "y = data[target_col]"
   ]
  },
  {
   "cell_type": "code",
   "execution_count": 30,
   "id": "4a12468b",
   "metadata": {},
   "outputs": [
    {
     "data": {
      "text/plain": [
       "((23705, 7), (23705,))"
      ]
     },
     "execution_count": 30,
     "metadata": {},
     "output_type": "execute_result"
    }
   ],
   "source": [
    "x.shape,y.shape"
   ]
  },
  {
   "cell_type": "code",
   "execution_count": 31,
   "id": "1d23ad2c",
   "metadata": {},
   "outputs": [],
   "source": [
    "# Split the dataset into train and test sets\n",
    "xtrain, xtest, ytrain,ytest = train_test_split(x,y, test_size=0.25, random_state=365)"
   ]
  },
  {
   "cell_type": "code",
   "execution_count": 32,
   "id": "7916f23c",
   "metadata": {},
   "outputs": [
    {
     "data": {
      "text/plain": [
       "LinearRegression()"
      ]
     },
     "execution_count": 32,
     "metadata": {},
     "output_type": "execute_result"
    }
   ],
   "source": [
    "# train the model\n",
    "LR = LinearRegression()\n",
    "LR.fit(xtrain,ytrain)"
   ]
  },
  {
   "cell_type": "code",
   "execution_count": 33,
   "id": "4a82f0ba",
   "metadata": {},
   "outputs": [],
   "source": [
    "# Test the model\n",
    "pred = LR.predict(xtest)"
   ]
  },
  {
   "cell_type": "code",
   "execution_count": 34,
   "id": "c4a0586c",
   "metadata": {},
   "outputs": [
    {
     "name": "stdout",
     "output_type": "stream",
     "text": [
      "Score: 0.6889951504408935\n"
     ]
    }
   ],
   "source": [
    "print('Score:',LR.score(xtest,ytest))"
   ]
  },
  {
   "cell_type": "markdown",
   "id": "caef1def",
   "metadata": {},
   "source": [
    "## Second ML Regression Model\n",
    "### RandomForest"
   ]
  },
  {
   "cell_type": "code",
   "execution_count": 61,
   "id": "1cc0020d",
   "metadata": {},
   "outputs": [],
   "source": [
    "clf = RandomForestRegressor(random_state=365,ccp_alpha=0.002)"
   ]
  },
  {
   "cell_type": "code",
   "execution_count": 62,
   "id": "358c9129",
   "metadata": {},
   "outputs": [
    {
     "data": {
      "text/plain": [
       "RandomForestRegressor(ccp_alpha=0.002, random_state=365)"
      ]
     },
     "execution_count": 62,
     "metadata": {},
     "output_type": "execute_result"
    }
   ],
   "source": [
    "# Train model\n",
    "clf.fit(x_train_scaled,y_train)"
   ]
  },
  {
   "cell_type": "code",
   "execution_count": 63,
   "id": "fc74b926",
   "metadata": {},
   "outputs": [],
   "source": [
    "target_pred = clf.predict(x_test_scaled)"
   ]
  },
  {
   "cell_type": "code",
   "execution_count": 65,
   "id": "76143e0d",
   "metadata": {},
   "outputs": [
    {
     "data": {
      "text/plain": [
       "0.7015099299788548"
      ]
     },
     "execution_count": 65,
     "metadata": {},
     "output_type": "execute_result"
    }
   ],
   "source": [
    "clf.score(x_test_scaled,y_test)"
   ]
  },
  {
   "cell_type": "code",
   "execution_count": null,
   "id": "c832eb9a",
   "metadata": {},
   "outputs": [],
   "source": []
  }
 ],
 "metadata": {
  "kernelspec": {
   "display_name": "Python 3 (ipykernel)",
   "language": "python",
   "name": "python3"
  },
  "language_info": {
   "codemirror_mode": {
    "name": "ipython",
    "version": 3
   },
   "file_extension": ".py",
   "mimetype": "text/x-python",
   "name": "python",
   "nbconvert_exporter": "python",
   "pygments_lexer": "ipython3",
   "version": "3.9.12"
  }
 },
 "nbformat": 4,
 "nbformat_minor": 5
}
