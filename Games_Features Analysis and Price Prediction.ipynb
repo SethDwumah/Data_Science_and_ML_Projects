{
 "cells": [
  {
   "cell_type": "markdown",
   "id": "3c03d8fe",
   "metadata": {},
   "source": [
    "# Games_Features Analysis and Prediction"
   ]
  },
  {
   "attachments": {},
   "cell_type": "markdown",
   "id": "19621f63",
   "metadata": {},
   "source": [
    "In this project, we are going to analysis on games features dataset that contain the columns below and try to use machine learning algorithm to predict the initial price of game based on the features:\n",
    "\n",
    "\n",
    "1. ResponseName: name of game\n",
    "2. ReleaseDate: game released date\n",
    "3. Metacritic\n",
    "3. RecommendationCount: number of recommendations\n",
    "4. IsFree: games that are free\n",
    "5. GenreIsNonGame: non game feature\n",
    "6. GenreIsIndie: genre is Indie game\n",
    "7. GenreIsAction: genre is action game\n",
    "8. GenreIsAdventure: genre is adventure game\n",
    "9. GenreIsCasual: genre is casual game\t\n",
    "10. GenreIsStrategy: genre is strategy game\n",
    "11. GenreIsRPG: genre is rpg\t\n",
    "12. GenreIsSimulation: genre is simulation game\n",
    "13. GenreIsEarlyAccess: genre is early access\n",
    "14. GenreIsFreeToPlay: genre is free to play\n",
    "15. GenreIsSports: genre is sports game\t\n",
    "16. GenreIsRacing: genre is racing game\n",
    "17. GenreIsMassivelyMultiplayer:genre is massively multiplayer game\n",
    "18. PriceInitial: price of game\n"
   ]
  },
  {
   "cell_type": "markdown",
   "id": "8db9816a",
   "metadata": {},
   "source": [
    "### Import Libraries"
   ]
  },
  {
   "cell_type": "code",
   "execution_count": 1,
   "id": "8c1ffb8a",
   "metadata": {},
   "outputs": [],
   "source": [
    "import pandas as pd\n",
    "import seaborn as sns\n",
    "import numpy as np \n",
    "import matplotlib.pyplot as plt\n",
    "%matplotlib inline"
   ]
  },
  {
   "cell_type": "code",
   "execution_count": 3,
   "id": "179d1b34",
   "metadata": {},
   "outputs": [],
   "source": [
    "# get data\n",
    "data = pd.read_csv('games-features.csv')"
   ]
  },
  {
   "cell_type": "code",
   "execution_count": 4,
   "id": "6814aeb0",
   "metadata": {},
   "outputs": [
    {
     "data": {
      "text/html": [
       "<div>\n",
       "<style scoped>\n",
       "    .dataframe tbody tr th:only-of-type {\n",
       "        vertical-align: middle;\n",
       "    }\n",
       "\n",
       "    .dataframe tbody tr th {\n",
       "        vertical-align: top;\n",
       "    }\n",
       "\n",
       "    .dataframe thead th {\n",
       "        text-align: right;\n",
       "    }\n",
       "</style>\n",
       "<table border=\"1\" class=\"dataframe\">\n",
       "  <thead>\n",
       "    <tr style=\"text-align: right;\">\n",
       "      <th></th>\n",
       "      <th>ResponseName</th>\n",
       "      <th>ReleaseDate</th>\n",
       "      <th>Metacritic</th>\n",
       "      <th>RecommendationCount</th>\n",
       "      <th>IsFree</th>\n",
       "      <th>GenreIsNonGame</th>\n",
       "      <th>GenreIsIndie</th>\n",
       "      <th>GenreIsAction</th>\n",
       "      <th>GenreIsAdventure</th>\n",
       "      <th>GenreIsCasual</th>\n",
       "      <th>GenreIsStrategy</th>\n",
       "      <th>GenreIsRPG</th>\n",
       "      <th>GenreIsSimulation</th>\n",
       "      <th>GenreIsEarlyAccess</th>\n",
       "      <th>GenreIsFreeToPlay</th>\n",
       "      <th>GenreIsSports</th>\n",
       "      <th>GenreIsRacing</th>\n",
       "      <th>GenreIsMassivelyMultiplayer</th>\n",
       "      <th>PriceInitial</th>\n",
       "    </tr>\n",
       "  </thead>\n",
       "  <tbody>\n",
       "    <tr>\n",
       "      <th>0</th>\n",
       "      <td>Counter-Strike</td>\n",
       "      <td>Nov 1 2000</td>\n",
       "      <td>88</td>\n",
       "      <td>68991</td>\n",
       "      <td>False</td>\n",
       "      <td>False</td>\n",
       "      <td>False</td>\n",
       "      <td>True</td>\n",
       "      <td>False</td>\n",
       "      <td>False</td>\n",
       "      <td>False</td>\n",
       "      <td>False</td>\n",
       "      <td>False</td>\n",
       "      <td>False</td>\n",
       "      <td>False</td>\n",
       "      <td>False</td>\n",
       "      <td>False</td>\n",
       "      <td>False</td>\n",
       "      <td>9.99</td>\n",
       "    </tr>\n",
       "    <tr>\n",
       "      <th>1</th>\n",
       "      <td>Team Fortress Classic</td>\n",
       "      <td>Apr 1 1999</td>\n",
       "      <td>0</td>\n",
       "      <td>2439</td>\n",
       "      <td>False</td>\n",
       "      <td>False</td>\n",
       "      <td>False</td>\n",
       "      <td>True</td>\n",
       "      <td>False</td>\n",
       "      <td>False</td>\n",
       "      <td>False</td>\n",
       "      <td>False</td>\n",
       "      <td>False</td>\n",
       "      <td>False</td>\n",
       "      <td>False</td>\n",
       "      <td>False</td>\n",
       "      <td>False</td>\n",
       "      <td>False</td>\n",
       "      <td>4.99</td>\n",
       "    </tr>\n",
       "    <tr>\n",
       "      <th>2</th>\n",
       "      <td>Day of Defeat</td>\n",
       "      <td>May 1 2003</td>\n",
       "      <td>79</td>\n",
       "      <td>2319</td>\n",
       "      <td>False</td>\n",
       "      <td>False</td>\n",
       "      <td>False</td>\n",
       "      <td>True</td>\n",
       "      <td>False</td>\n",
       "      <td>False</td>\n",
       "      <td>False</td>\n",
       "      <td>False</td>\n",
       "      <td>False</td>\n",
       "      <td>False</td>\n",
       "      <td>False</td>\n",
       "      <td>False</td>\n",
       "      <td>False</td>\n",
       "      <td>False</td>\n",
       "      <td>4.99</td>\n",
       "    </tr>\n",
       "    <tr>\n",
       "      <th>3</th>\n",
       "      <td>Deathmatch Classic</td>\n",
       "      <td>Jun 1 2001</td>\n",
       "      <td>0</td>\n",
       "      <td>888</td>\n",
       "      <td>False</td>\n",
       "      <td>False</td>\n",
       "      <td>False</td>\n",
       "      <td>True</td>\n",
       "      <td>False</td>\n",
       "      <td>False</td>\n",
       "      <td>False</td>\n",
       "      <td>False</td>\n",
       "      <td>False</td>\n",
       "      <td>False</td>\n",
       "      <td>False</td>\n",
       "      <td>False</td>\n",
       "      <td>False</td>\n",
       "      <td>False</td>\n",
       "      <td>4.99</td>\n",
       "    </tr>\n",
       "    <tr>\n",
       "      <th>4</th>\n",
       "      <td>Half-Life: Opposing Force</td>\n",
       "      <td>Nov 1 1999</td>\n",
       "      <td>0</td>\n",
       "      <td>2934</td>\n",
       "      <td>False</td>\n",
       "      <td>False</td>\n",
       "      <td>False</td>\n",
       "      <td>True</td>\n",
       "      <td>False</td>\n",
       "      <td>False</td>\n",
       "      <td>False</td>\n",
       "      <td>False</td>\n",
       "      <td>False</td>\n",
       "      <td>False</td>\n",
       "      <td>False</td>\n",
       "      <td>False</td>\n",
       "      <td>False</td>\n",
       "      <td>False</td>\n",
       "      <td>4.99</td>\n",
       "    </tr>\n",
       "  </tbody>\n",
       "</table>\n",
       "</div>"
      ],
      "text/plain": [
       "                ResponseName ReleaseDate  Metacritic  RecommendationCount  \\\n",
       "0             Counter-Strike  Nov 1 2000          88                68991   \n",
       "1      Team Fortress Classic  Apr 1 1999           0                 2439   \n",
       "2              Day of Defeat  May 1 2003          79                 2319   \n",
       "3         Deathmatch Classic  Jun 1 2001           0                  888   \n",
       "4  Half-Life: Opposing Force  Nov 1 1999           0                 2934   \n",
       "\n",
       "   IsFree  GenreIsNonGame  GenreIsIndie  GenreIsAction  GenreIsAdventure  \\\n",
       "0   False           False         False           True             False   \n",
       "1   False           False         False           True             False   \n",
       "2   False           False         False           True             False   \n",
       "3   False           False         False           True             False   \n",
       "4   False           False         False           True             False   \n",
       "\n",
       "   GenreIsCasual  GenreIsStrategy  GenreIsRPG  GenreIsSimulation  \\\n",
       "0          False            False       False              False   \n",
       "1          False            False       False              False   \n",
       "2          False            False       False              False   \n",
       "3          False            False       False              False   \n",
       "4          False            False       False              False   \n",
       "\n",
       "   GenreIsEarlyAccess  GenreIsFreeToPlay  GenreIsSports  GenreIsRacing  \\\n",
       "0               False              False          False          False   \n",
       "1               False              False          False          False   \n",
       "2               False              False          False          False   \n",
       "3               False              False          False          False   \n",
       "4               False              False          False          False   \n",
       "\n",
       "   GenreIsMassivelyMultiplayer  PriceInitial  \n",
       "0                        False          9.99  \n",
       "1                        False          4.99  \n",
       "2                        False          4.99  \n",
       "3                        False          4.99  \n",
       "4                        False          4.99  "
      ]
     },
     "execution_count": 4,
     "metadata": {},
     "output_type": "execute_result"
    }
   ],
   "source": [
    "data.head()"
   ]
  },
  {
   "cell_type": "code",
   "execution_count": 5,
   "id": "bcc982c5",
   "metadata": {},
   "outputs": [
    {
     "data": {
      "text/plain": [
       "(12624, 19)"
      ]
     },
     "execution_count": 5,
     "metadata": {},
     "output_type": "execute_result"
    }
   ],
   "source": [
    "data.shape"
   ]
  },
  {
   "cell_type": "code",
   "execution_count": 6,
   "id": "4cf73048",
   "metadata": {},
   "outputs": [
    {
     "data": {
      "text/plain": [
       "ResponseName                    0\n",
       "ReleaseDate                    86\n",
       "Metacritic                      0\n",
       "RecommendationCount             0\n",
       "IsFree                          0\n",
       "GenreIsNonGame                  0\n",
       "GenreIsIndie                    0\n",
       "GenreIsAction                   0\n",
       "GenreIsAdventure                0\n",
       "GenreIsCasual                   0\n",
       "GenreIsStrategy                 0\n",
       "GenreIsRPG                      0\n",
       "GenreIsSimulation               0\n",
       "GenreIsEarlyAccess              0\n",
       "GenreIsFreeToPlay               0\n",
       "GenreIsSports                   0\n",
       "GenreIsRacing                   0\n",
       "GenreIsMassivelyMultiplayer     0\n",
       "PriceInitial                    0\n",
       "dtype: int64"
      ]
     },
     "execution_count": 6,
     "metadata": {},
     "output_type": "execute_result"
    }
   ],
   "source": [
    "# Check missing values\n",
    "\n",
    "data.isna().sum()"
   ]
  },
  {
   "cell_type": "markdown",
   "id": "43b676d9",
   "metadata": {},
   "source": [
    "We have 86 missing data in the release date column"
   ]
  },
  {
   "cell_type": "code",
   "execution_count": 23,
   "id": "5e0d7e41",
   "metadata": {},
   "outputs": [],
   "source": [
    "# Drop missing date\n",
    "\n",
    "data = data.dropna()"
   ]
  },
  {
   "cell_type": "code",
   "execution_count": 24,
   "id": "32a11cdd",
   "metadata": {},
   "outputs": [
    {
     "name": "stdout",
     "output_type": "stream",
     "text": [
      "<class 'pandas.core.frame.DataFrame'>\n",
      "Int64Index: 12538 entries, 0 to 12623\n",
      "Data columns (total 19 columns):\n",
      " #   Column                       Non-Null Count  Dtype  \n",
      "---  ------                       --------------  -----  \n",
      " 0   ResponseName                 12538 non-null  object \n",
      " 1   ReleaseDate                  12538 non-null  object \n",
      " 2   Metacritic                   12538 non-null  int64  \n",
      " 3   RecommendationCount          12538 non-null  int64  \n",
      " 4   IsFree                       12538 non-null  bool   \n",
      " 5   GenreIsNonGame               12538 non-null  bool   \n",
      " 6   GenreIsIndie                 12538 non-null  bool   \n",
      " 7   GenreIsAction                12538 non-null  bool   \n",
      " 8   GenreIsAdventure             12538 non-null  bool   \n",
      " 9   GenreIsCasual                12538 non-null  bool   \n",
      " 10  GenreIsStrategy              12538 non-null  bool   \n",
      " 11  GenreIsRPG                   12538 non-null  bool   \n",
      " 12  GenreIsSimulation            12538 non-null  bool   \n",
      " 13  GenreIsEarlyAccess           12538 non-null  bool   \n",
      " 14  GenreIsFreeToPlay            12538 non-null  bool   \n",
      " 15  GenreIsSports                12538 non-null  bool   \n",
      " 16  GenreIsRacing                12538 non-null  bool   \n",
      " 17  GenreIsMassivelyMultiplayer  12538 non-null  bool   \n",
      " 18  PriceInitial                 12538 non-null  float64\n",
      "dtypes: bool(14), float64(1), int64(2), object(2)\n",
      "memory usage: 759.1+ KB\n"
     ]
    }
   ],
   "source": [
    "data.info()"
   ]
  },
  {
   "cell_type": "code",
   "execution_count": 25,
   "id": "6b9a8e67",
   "metadata": {},
   "outputs": [
    {
     "data": {
      "text/plain": [
       "Index(['ResponseName', 'ReleaseDate', 'Metacritic', 'RecommendationCount',\n",
       "       'IsFree', 'GenreIsNonGame', 'GenreIsIndie', 'GenreIsAction',\n",
       "       'GenreIsAdventure', 'GenreIsCasual', 'GenreIsStrategy', 'GenreIsRPG',\n",
       "       'GenreIsSimulation', 'GenreIsEarlyAccess', 'GenreIsFreeToPlay',\n",
       "       'GenreIsSports', 'GenreIsRacing', 'GenreIsMassivelyMultiplayer',\n",
       "       'PriceInitial'],\n",
       "      dtype='object')"
      ]
     },
     "execution_count": 25,
     "metadata": {},
     "output_type": "execute_result"
    }
   ],
   "source": [
    "data.columns"
   ]
  },
  {
   "cell_type": "code",
   "execution_count": 54,
   "id": "8901ba5d",
   "metadata": {},
   "outputs": [],
   "source": [
    "# number of games released very year\n",
    "\n",
    "number_games = data['ResponseName'].groupby(data['ReleaseDate']).count().sort_values(ascending=False)[:20]"
   ]
  },
  {
   "cell_type": "code",
   "execution_count": 55,
   "id": "c38765b4",
   "metadata": {},
   "outputs": [
    {
     "data": {
      "text/plain": [
       "ReleaseDate\n",
       "Aug 22 2016      241\n",
       "Aug 26 2016      152\n",
       "Sep 9 2016        77\n",
       "Sep 7 2016        68\n",
       "Apr 5 2016        64\n",
       "2016              59\n",
       "Aug 5 2016        49\n",
       "October 2016      46\n",
       "2017              43\n",
       "Jul 26 2016       42\n",
       "Jun 24 2016       39\n",
       "Jun 17 2016       39\n",
       "Sep 2 2016        39\n",
       "Aug 25 2016       38\n",
       "Oct 14 2016       36\n",
       "Jul 17 2009       36\n",
       "Sep 30 2016       35\n",
       "Aug 24 2016       35\n",
       "November 2016     34\n",
       "Oct 28 2016       34\n",
       "Name: ResponseName, dtype: int64"
      ]
     },
     "execution_count": 55,
     "metadata": {},
     "output_type": "execute_result"
    }
   ],
   "source": [
    "number_games"
   ]
  },
  {
   "cell_type": "code",
   "execution_count": 73,
   "id": "a97a30c1",
   "metadata": {},
   "outputs": [
    {
     "data": {
      "text/plain": [
       "Text(0, 0.5, 'Number o Game')"
      ]
     },
     "execution_count": 73,
     "metadata": {},
     "output_type": "execute_result"
    },
    {
     "data": {
      "image/png": "[encoded data removed]",
      "text/plain": [
       "<Figure size 432x288 with 1 Axes>"
      ]
     },
     "metadata": {},
     "output_type": "display_data"
    }
   ],
   "source": [
    "plt.style.use('fivethirtyeight')\n",
    "number_games.plot()\n",
    "plt.title('Dates with Most Games Released')\n",
    "plt.ylabel('Number o Games')"
   ]
  },
  {
   "cell_type": "code",
   "execution_count": 92,
   "id": "7b4f354f",
   "metadata": {},
   "outputs": [
    {
     "data": {
      "text/html": [
       "<div>\n",
       "<style scoped>\n",
       "    .dataframe tbody tr th:only-of-type {\n",
       "        vertical-align: middle;\n",
       "    }\n",
       "\n",
       "    .dataframe tbody tr th {\n",
       "        vertical-align: top;\n",
       "    }\n",
       "\n",
       "    .dataframe thead th {\n",
       "        text-align: right;\n",
       "    }\n",
       "</style>\n",
       "<table border=\"1\" class=\"dataframe\">\n",
       "  <thead>\n",
       "    <tr style=\"text-align: right;\">\n",
       "      <th></th>\n",
       "      <th>ResponseName</th>\n",
       "      <th>ReleaseDate</th>\n",
       "      <th>RecommendationCount</th>\n",
       "    </tr>\n",
       "  </thead>\n",
       "  <tbody>\n",
       "    <tr>\n",
       "      <th>27</th>\n",
       "      <td>Counter-Strike: Global Offensive</td>\n",
       "      <td>Aug 21 2012</td>\n",
       "      <td>1427633</td>\n",
       "    </tr>\n",
       "    <tr>\n",
       "      <th>23</th>\n",
       "      <td>Dota 2</td>\n",
       "      <td>Jul 9 2013</td>\n",
       "      <td>590480</td>\n",
       "    </tr>\n",
       "    <tr>\n",
       "      <th>20</th>\n",
       "      <td>Team Fortress 2</td>\n",
       "      <td>Oct 10 2007</td>\n",
       "      <td>383949</td>\n",
       "    </tr>\n",
       "    <tr>\n",
       "      <th>150</th>\n",
       "      <td>Garrys Mod</td>\n",
       "      <td>Nov 29 2006</td>\n",
       "      <td>237684</td>\n",
       "    </tr>\n",
       "    <tr>\n",
       "      <th>4028</th>\n",
       "      <td>Unturned</td>\n",
       "      <td>Jul 7 2014</td>\n",
       "      <td>222301</td>\n",
       "    </tr>\n",
       "    <tr>\n",
       "      <th>1904</th>\n",
       "      <td>PAYDAY 2</td>\n",
       "      <td>Aug 13 2013</td>\n",
       "      <td>219763</td>\n",
       "    </tr>\n",
       "    <tr>\n",
       "      <th>1365</th>\n",
       "      <td>The Elder Scrolls V: Skyrim</td>\n",
       "      <td>Nov 10 2011</td>\n",
       "      <td>182587</td>\n",
       "    </tr>\n",
       "    <tr>\n",
       "      <th>1950</th>\n",
       "      <td>DayZ</td>\n",
       "      <td>Dec 16 2013</td>\n",
       "      <td>153350</td>\n",
       "    </tr>\n",
       "    <tr>\n",
       "      <th>2576</th>\n",
       "      <td>Rust</td>\n",
       "      <td>Dec 11 2013</td>\n",
       "      <td>145688</td>\n",
       "    </tr>\n",
       "    <tr>\n",
       "      <th>22</th>\n",
       "      <td>Left 4 Dead 2</td>\n",
       "      <td>Nov 16 2009</td>\n",
       "      <td>140726</td>\n",
       "    </tr>\n",
       "  </tbody>\n",
       "</table>\n",
       "</div>"
      ],
      "text/plain": [
       "                          ResponseName  ReleaseDate  RecommendationCount\n",
       "27    Counter-Strike: Global Offensive  Aug 21 2012              1427633\n",
       "23                              Dota 2   Jul 9 2013               590480\n",
       "20                     Team Fortress 2  Oct 10 2007               383949\n",
       "150                         Garrys Mod  Nov 29 2006               237684\n",
       "4028                          Unturned   Jul 7 2014               222301\n",
       "1904                          PAYDAY 2  Aug 13 2013               219763\n",
       "1365       The Elder Scrolls V: Skyrim  Nov 10 2011               182587\n",
       "1950                              DayZ  Dec 16 2013               153350\n",
       "2576                              Rust  Dec 11 2013               145688\n",
       "22                       Left 4 Dead 2  Nov 16 2009               140726"
      ]
     },
     "execution_count": 92,
     "metadata": {},
     "output_type": "execute_result"
    }
   ],
   "source": [
    "# Top Games with high recommendation count\n",
    "\n",
    "\n",
    "top_10_games = data[['ResponseName','ReleaseDate', 'RecommendationCount']].sort_values(by=['RecommendationCount'], ascending=False)[:10]\n",
    "top_10_games"
   ]
  },
  {
   "cell_type": "code",
   "execution_count": 124,
   "id": "e153dd6a",
   "metadata": {},
   "outputs": [
    {
     "data": {
      "image/png": "[encoded data removed]",
      "text/plain": [
       "<Figure size 800x550 with 1 Axes>"
      ]
     },
     "metadata": {},
     "output_type": "display_data"
    }
   ],
   "source": [
    "plt.style.use('seaborn')\n",
    "sns.barplot(x=top_10_games['ResponseName'],y=top_10_games['RecommendationCount'],data=top_10_games)\n",
    "plt.xticks(rotation=90)\n",
    "plt.show()"
   ]
  },
  {
   "cell_type": "code",
   "execution_count": 108,
   "id": "c2d51ba8",
   "metadata": {},
   "outputs": [],
   "source": [
    "# games with high price\n",
    "\n",
    "expensive_games =data[['ResponseName','ReleaseDate','PriceInitial']].sort_values(by=['PriceInitial'], ascending=False)[:10]\n",
    "expensive_games=expensive_games[::-1]"
   ]
  },
  {
   "cell_type": "code",
   "execution_count": 126,
   "id": "84f96497",
   "metadata": {},
   "outputs": [
    {
     "data": {
      "image/png": "[encoded data removed]",
      "text/plain": [
       "<Figure size 800x550 with 1 Axes>"
      ]
     },
     "metadata": {},
     "output_type": "display_data"
    }
   ],
   "source": [
    "plt.style.use('seaborn')\n",
    "plt.barh(expensive_games['ResponseName'],expensive_games['PriceInitial'], color=['green','orange','brown'])\n",
    "plt.xlabel('Price of Game')\n",
    "plt.title('Top 10 expensive games')\n",
    "plt.show()"
   ]
  },
  {
   "cell_type": "code",
   "execution_count": 141,
   "id": "e6590a9c",
   "metadata": {},
   "outputs": [
    {
     "data": {
      "text/plain": [
       "False    11579\n",
       "True       959\n",
       "Name: IsFree, dtype: int64"
      ]
     },
     "execution_count": 141,
     "metadata": {},
     "output_type": "execute_result"
    }
   ],
   "source": [
    "data['IsFree'].value_counts()"
   ]
  },
  {
   "cell_type": "code",
   "execution_count": 146,
   "id": "252093c0",
   "metadata": {},
   "outputs": [
    {
     "data": {
      "text/html": [
       "<div>\n",
       "<style scoped>\n",
       "    .dataframe tbody tr th:only-of-type {\n",
       "        vertical-align: middle;\n",
       "    }\n",
       "\n",
       "    .dataframe tbody tr th {\n",
       "        vertical-align: top;\n",
       "    }\n",
       "\n",
       "    .dataframe thead th {\n",
       "        text-align: right;\n",
       "    }\n",
       "</style>\n",
       "<table border=\"1\" class=\"dataframe\">\n",
       "  <thead>\n",
       "    <tr style=\"text-align: right;\">\n",
       "      <th></th>\n",
       "      <th>ReleaseDate</th>\n",
       "      <th>ResponseName</th>\n",
       "      <th>IsFree</th>\n",
       "    </tr>\n",
       "  </thead>\n",
       "  <tbody>\n",
       "    <tr>\n",
       "      <th>12</th>\n",
       "      <td>Jun 1 2004</td>\n",
       "      <td>Half-Life: Source</td>\n",
       "      <td>True</td>\n",
       "    </tr>\n",
       "    <tr>\n",
       "      <th>15</th>\n",
       "      <td>Oct 27 2005</td>\n",
       "      <td>Half-Life 2: Lost Coast</td>\n",
       "      <td>True</td>\n",
       "    </tr>\n",
       "    <tr>\n",
       "      <th>16</th>\n",
       "      <td>May 1 2006</td>\n",
       "      <td>Half-Life Deathmatch: Source</td>\n",
       "      <td>True</td>\n",
       "    </tr>\n",
       "    <tr>\n",
       "      <th>20</th>\n",
       "      <td>Oct 10 2007</td>\n",
       "      <td>Team Fortress 2</td>\n",
       "      <td>True</td>\n",
       "    </tr>\n",
       "    <tr>\n",
       "      <th>23</th>\n",
       "      <td>Jul 9 2013</td>\n",
       "      <td>Dota 2</td>\n",
       "      <td>True</td>\n",
       "    </tr>\n",
       "    <tr>\n",
       "      <th>25</th>\n",
       "      <td>Jul 19 2010</td>\n",
       "      <td>Alien Swarm</td>\n",
       "      <td>True</td>\n",
       "    </tr>\n",
       "    <tr>\n",
       "      <th>46</th>\n",
       "      <td>Jul 10 2012</td>\n",
       "      <td>Source Filmmaker</td>\n",
       "      <td>True</td>\n",
       "    </tr>\n",
       "    <tr>\n",
       "      <th>65</th>\n",
       "      <td>Jul 11 2006</td>\n",
       "      <td>The Ship: Murder Party</td>\n",
       "      <td>True</td>\n",
       "    </tr>\n",
       "    <tr>\n",
       "      <th>69</th>\n",
       "      <td>Dec 19 2006</td>\n",
       "      <td>Gumboy - Crazy Adventures(tm)</td>\n",
       "      <td>True</td>\n",
       "    </tr>\n",
       "    <tr>\n",
       "      <th>70</th>\n",
       "      <td>Dec 19 2006</td>\n",
       "      <td>Gumboy - Crazy Adventures(tm)</td>\n",
       "      <td>True</td>\n",
       "    </tr>\n",
       "    <tr>\n",
       "      <th>74</th>\n",
       "      <td>Jun 29 2007</td>\n",
       "      <td>Vigil: Blood Bitterness(tm)</td>\n",
       "      <td>True</td>\n",
       "    </tr>\n",
       "    <tr>\n",
       "      <th>122</th>\n",
       "      <td>Sep 11 2007</td>\n",
       "      <td>Peggle Extreme</td>\n",
       "      <td>True</td>\n",
       "    </tr>\n",
       "    <tr>\n",
       "      <th>197</th>\n",
       "      <td>Oct 28 2011</td>\n",
       "      <td>Bloodline Champions</td>\n",
       "      <td>True</td>\n",
       "    </tr>\n",
       "    <tr>\n",
       "      <th>258</th>\n",
       "      <td>Jun 17 2008</td>\n",
       "      <td>Bone: Out From Boneville</td>\n",
       "      <td>True</td>\n",
       "    </tr>\n",
       "    <tr>\n",
       "      <th>259</th>\n",
       "      <td>Jun 17 2008</td>\n",
       "      <td>Bone: The Great Cow Race</td>\n",
       "      <td>True</td>\n",
       "    </tr>\n",
       "    <tr>\n",
       "      <th>283</th>\n",
       "      <td>Aug 3 2007</td>\n",
       "      <td>DOOM 3</td>\n",
       "      <td>True</td>\n",
       "    </tr>\n",
       "    <tr>\n",
       "      <th>285</th>\n",
       "      <td>Aug 3 2007</td>\n",
       "      <td>Master Levels for Doom II</td>\n",
       "      <td>True</td>\n",
       "    </tr>\n",
       "    <tr>\n",
       "      <th>303</th>\n",
       "      <td>Jun 14 2011</td>\n",
       "      <td>Champions Online</td>\n",
       "      <td>True</td>\n",
       "    </tr>\n",
       "    <tr>\n",
       "      <th>304</th>\n",
       "      <td>Jan 31 2012</td>\n",
       "      <td>Star Trek Online</td>\n",
       "      <td>True</td>\n",
       "    </tr>\n",
       "    <tr>\n",
       "      <th>331</th>\n",
       "      <td>Apr 16 2008</td>\n",
       "      <td>TrackMania Nations Forever</td>\n",
       "      <td>True</td>\n",
       "    </tr>\n",
       "  </tbody>\n",
       "</table>\n",
       "</div>"
      ],
      "text/plain": [
       "     ReleaseDate                   ResponseName  IsFree\n",
       "12    Jun 1 2004              Half-Life: Source    True\n",
       "15   Oct 27 2005        Half-Life 2: Lost Coast    True\n",
       "16    May 1 2006   Half-Life Deathmatch: Source    True\n",
       "20   Oct 10 2007                Team Fortress 2    True\n",
       "23    Jul 9 2013                         Dota 2    True\n",
       "25   Jul 19 2010                    Alien Swarm    True\n",
       "46   Jul 10 2012               Source Filmmaker    True\n",
       "65   Jul 11 2006         The Ship: Murder Party    True\n",
       "69   Dec 19 2006  Gumboy - Crazy Adventures(tm)    True\n",
       "70   Dec 19 2006  Gumboy - Crazy Adventures(tm)    True\n",
       "74   Jun 29 2007    Vigil: Blood Bitterness(tm)    True\n",
       "122  Sep 11 2007                 Peggle Extreme    True\n",
       "197  Oct 28 2011            Bloodline Champions    True\n",
       "258  Jun 17 2008       Bone: Out From Boneville    True\n",
       "259  Jun 17 2008       Bone: The Great Cow Race    True\n",
       "283   Aug 3 2007                         DOOM 3    True\n",
       "285   Aug 3 2007      Master Levels for Doom II    True\n",
       "303  Jun 14 2011               Champions Online    True\n",
       "304  Jan 31 2012               Star Trek Online    True\n",
       "331  Apr 16 2008     TrackMania Nations Forever    True"
      ]
     },
     "execution_count": 146,
     "metadata": {},
     "output_type": "execute_result"
    }
   ],
   "source": [
    "# number of free game\n",
    "\n",
    "free_games = data[['ReleaseDate','ResponseName','IsFree']][data['IsFree']==True][:20]\n",
    "free_games"
   ]
  },
  {
   "cell_type": "code",
   "execution_count": 144,
   "id": "23abdca1",
   "metadata": {},
   "outputs": [
    {
     "data": {
      "text/plain": [
       "Index(['ResponseName', 'ReleaseDate', 'Metacritic', 'RecommendationCount',\n",
       "       'IsFree', 'GenreIsNonGame', 'GenreIsIndie', 'GenreIsAction',\n",
       "       'GenreIsAdventure', 'GenreIsCasual', 'GenreIsStrategy', 'GenreIsRPG',\n",
       "       'GenreIsSimulation', 'GenreIsEarlyAccess', 'GenreIsFreeToPlay',\n",
       "       'GenreIsSports', 'GenreIsRacing', 'GenreIsMassivelyMultiplayer',\n",
       "       'PriceInitial'],\n",
       "      dtype='object')"
      ]
     },
     "execution_count": 144,
     "metadata": {},
     "output_type": "execute_result"
    }
   ],
   "source": [
    "data.columns"
   ]
  },
  {
   "cell_type": "code",
   "execution_count": 147,
   "id": "ec1e158b",
   "metadata": {},
   "outputs": [
    {
     "data": {
      "text/html": [
       "<div>\n",
       "<style scoped>\n",
       "    .dataframe tbody tr th:only-of-type {\n",
       "        vertical-align: middle;\n",
       "    }\n",
       "\n",
       "    .dataframe tbody tr th {\n",
       "        vertical-align: top;\n",
       "    }\n",
       "\n",
       "    .dataframe thead th {\n",
       "        text-align: right;\n",
       "    }\n",
       "</style>\n",
       "<table border=\"1\" class=\"dataframe\">\n",
       "  <thead>\n",
       "    <tr style=\"text-align: right;\">\n",
       "      <th></th>\n",
       "      <th>ResponseName</th>\n",
       "      <th>GenreIsSports</th>\n",
       "    </tr>\n",
       "  </thead>\n",
       "  <tbody>\n",
       "    <tr>\n",
       "      <th>240</th>\n",
       "      <td>Cabelas(r) Big Game Hunter(tm) Trophy Bucks</td>\n",
       "      <td>True</td>\n",
       "    </tr>\n",
       "    <tr>\n",
       "      <th>270</th>\n",
       "      <td>GTR 2 FIA GT Racing Game</td>\n",
       "      <td>True</td>\n",
       "    </tr>\n",
       "    <tr>\n",
       "      <th>316</th>\n",
       "      <td>3D Ultra(tm) Minigolf Adventures</td>\n",
       "      <td>True</td>\n",
       "    </tr>\n",
       "    <tr>\n",
       "      <th>328</th>\n",
       "      <td>Beijing 2008(tm) - The Official Video Game of ...</td>\n",
       "      <td>True</td>\n",
       "    </tr>\n",
       "    <tr>\n",
       "      <th>399</th>\n",
       "      <td>Hunting Unlimited 2010</td>\n",
       "      <td>True</td>\n",
       "    </tr>\n",
       "    <tr>\n",
       "      <th>...</th>\n",
       "      <td>...</td>\n",
       "      <td>...</td>\n",
       "    </tr>\n",
       "    <tr>\n",
       "      <th>12461</th>\n",
       "      <td>Head It!: VR Soccer Heading Game</td>\n",
       "      <td>True</td>\n",
       "    </tr>\n",
       "    <tr>\n",
       "      <th>12474</th>\n",
       "      <td>Dream UniVRse</td>\n",
       "      <td>True</td>\n",
       "    </tr>\n",
       "    <tr>\n",
       "      <th>12517</th>\n",
       "      <td>Pixel Soccer</td>\n",
       "      <td>True</td>\n",
       "    </tr>\n",
       "    <tr>\n",
       "      <th>12523</th>\n",
       "      <td>Project CARS - Pagani Edition</td>\n",
       "      <td>True</td>\n",
       "    </tr>\n",
       "    <tr>\n",
       "      <th>12533</th>\n",
       "      <td>Franchise Hockey Manager 3</td>\n",
       "      <td>True</td>\n",
       "    </tr>\n",
       "  </tbody>\n",
       "</table>\n",
       "<p>490 rows × 2 columns</p>\n",
       "</div>"
      ],
      "text/plain": [
       "                                            ResponseName  GenreIsSports\n",
       "240          Cabelas(r) Big Game Hunter(tm) Trophy Bucks           True\n",
       "270                             GTR 2 FIA GT Racing Game           True\n",
       "316                     3D Ultra(tm) Minigolf Adventures           True\n",
       "328    Beijing 2008(tm) - The Official Video Game of ...           True\n",
       "399                               Hunting Unlimited 2010           True\n",
       "...                                                  ...            ...\n",
       "12461                   Head It!: VR Soccer Heading Game           True\n",
       "12474                                      Dream UniVRse           True\n",
       "12517                                       Pixel Soccer           True\n",
       "12523                      Project CARS - Pagani Edition           True\n",
       "12533                         Franchise Hockey Manager 3           True\n",
       "\n",
       "[490 rows x 2 columns]"
      ]
     },
     "execution_count": 147,
     "metadata": {},
     "output_type": "execute_result"
    }
   ],
   "source": [
    "# sports games\n",
    "data[['ResponseName','GenreIsSports']][data['GenreIsSports']==True]"
   ]
  },
  {
   "cell_type": "code",
   "execution_count": 158,
   "id": "e11a1cd2",
   "metadata": {},
   "outputs": [
    {
     "data": {
      "text/html": [
       "<div>\n",
       "<style scoped>\n",
       "    .dataframe tbody tr th:only-of-type {\n",
       "        vertical-align: middle;\n",
       "    }\n",
       "\n",
       "    .dataframe tbody tr th {\n",
       "        vertical-align: top;\n",
       "    }\n",
       "\n",
       "    .dataframe thead th {\n",
       "        text-align: right;\n",
       "    }\n",
       "</style>\n",
       "<table border=\"1\" class=\"dataframe\">\n",
       "  <thead>\n",
       "    <tr style=\"text-align: right;\">\n",
       "      <th></th>\n",
       "      <th>ResponseName</th>\n",
       "      <th>RecommendationCount</th>\n",
       "      <th>PriceInitial</th>\n",
       "    </tr>\n",
       "  </thead>\n",
       "  <tbody>\n",
       "    <tr>\n",
       "      <th>27</th>\n",
       "      <td>Counter-Strike: Global Offensive</td>\n",
       "      <td>1427633</td>\n",
       "      <td>14.99</td>\n",
       "    </tr>\n",
       "    <tr>\n",
       "      <th>23</th>\n",
       "      <td>Dota 2</td>\n",
       "      <td>590480</td>\n",
       "      <td>0.00</td>\n",
       "    </tr>\n",
       "    <tr>\n",
       "      <th>20</th>\n",
       "      <td>Team Fortress 2</td>\n",
       "      <td>383949</td>\n",
       "      <td>0.00</td>\n",
       "    </tr>\n",
       "    <tr>\n",
       "      <th>150</th>\n",
       "      <td>Garrys Mod</td>\n",
       "      <td>237684</td>\n",
       "      <td>9.99</td>\n",
       "    </tr>\n",
       "    <tr>\n",
       "      <th>4028</th>\n",
       "      <td>Unturned</td>\n",
       "      <td>222301</td>\n",
       "      <td>0.00</td>\n",
       "    </tr>\n",
       "    <tr>\n",
       "      <th>1904</th>\n",
       "      <td>PAYDAY 2</td>\n",
       "      <td>219763</td>\n",
       "      <td>19.99</td>\n",
       "    </tr>\n",
       "    <tr>\n",
       "      <th>1365</th>\n",
       "      <td>The Elder Scrolls V: Skyrim</td>\n",
       "      <td>182587</td>\n",
       "      <td>19.99</td>\n",
       "    </tr>\n",
       "    <tr>\n",
       "      <th>1950</th>\n",
       "      <td>DayZ</td>\n",
       "      <td>153350</td>\n",
       "      <td>34.99</td>\n",
       "    </tr>\n",
       "    <tr>\n",
       "      <th>2576</th>\n",
       "      <td>Rust</td>\n",
       "      <td>145688</td>\n",
       "      <td>19.99</td>\n",
       "    </tr>\n",
       "    <tr>\n",
       "      <th>22</th>\n",
       "      <td>Left 4 Dead 2</td>\n",
       "      <td>140726</td>\n",
       "      <td>19.99</td>\n",
       "    </tr>\n",
       "    <tr>\n",
       "      <th>1477</th>\n",
       "      <td>Terraria</td>\n",
       "      <td>139819</td>\n",
       "      <td>9.99</td>\n",
       "    </tr>\n",
       "    <tr>\n",
       "      <th>3088</th>\n",
       "      <td>Grand Theft Auto V</td>\n",
       "      <td>136846</td>\n",
       "      <td>59.99</td>\n",
       "    </tr>\n",
       "    <tr>\n",
       "      <th>2115</th>\n",
       "      <td>Warframe</td>\n",
       "      <td>97562</td>\n",
       "      <td>0.00</td>\n",
       "    </tr>\n",
       "    <tr>\n",
       "      <th>5451</th>\n",
       "      <td>ARK: Survival Evolved</td>\n",
       "      <td>96815</td>\n",
       "      <td>29.99</td>\n",
       "    </tr>\n",
       "    <tr>\n",
       "      <th>2593</th>\n",
       "      <td>Rocket League(r)</td>\n",
       "      <td>86627</td>\n",
       "      <td>19.99</td>\n",
       "    </tr>\n",
       "    <tr>\n",
       "      <th>1198</th>\n",
       "      <td>Borderlands 2</td>\n",
       "      <td>86362</td>\n",
       "      <td>19.99</td>\n",
       "    </tr>\n",
       "    <tr>\n",
       "      <th>1205</th>\n",
       "      <td>Sid Meiers Civilization(r) V</td>\n",
       "      <td>85790</td>\n",
       "      <td>29.99</td>\n",
       "    </tr>\n",
       "    <tr>\n",
       "      <th>276</th>\n",
       "      <td>Sid Meiers Civilization(r) V</td>\n",
       "      <td>85750</td>\n",
       "      <td>29.99</td>\n",
       "    </tr>\n",
       "    <tr>\n",
       "      <th>928</th>\n",
       "      <td>Portal 2</td>\n",
       "      <td>73144</td>\n",
       "      <td>19.99</td>\n",
       "    </tr>\n",
       "    <tr>\n",
       "      <th>26</th>\n",
       "      <td>Portal 2</td>\n",
       "      <td>73128</td>\n",
       "      <td>19.99</td>\n",
       "    </tr>\n",
       "  </tbody>\n",
       "</table>\n",
       "</div>"
      ],
      "text/plain": [
       "                          ResponseName  RecommendationCount  PriceInitial\n",
       "27    Counter-Strike: Global Offensive              1427633         14.99\n",
       "23                              Dota 2               590480          0.00\n",
       "20                     Team Fortress 2               383949          0.00\n",
       "150                         Garrys Mod               237684          9.99\n",
       "4028                          Unturned               222301          0.00\n",
       "1904                          PAYDAY 2               219763         19.99\n",
       "1365       The Elder Scrolls V: Skyrim               182587         19.99\n",
       "1950                              DayZ               153350         34.99\n",
       "2576                              Rust               145688         19.99\n",
       "22                       Left 4 Dead 2               140726         19.99\n",
       "1477                          Terraria               139819          9.99\n",
       "3088                Grand Theft Auto V               136846         59.99\n",
       "2115                          Warframe                97562          0.00\n",
       "5451             ARK: Survival Evolved                96815         29.99\n",
       "2593                  Rocket League(r)                86627         19.99\n",
       "1198                     Borderlands 2                86362         19.99\n",
       "1205      Sid Meiers Civilization(r) V                85790         29.99\n",
       "276       Sid Meiers Civilization(r) V                85750         29.99\n",
       "928                           Portal 2                73144         19.99\n",
       "26                            Portal 2                73128         19.99"
      ]
     },
     "execution_count": 158,
     "metadata": {},
     "output_type": "execute_result"
    }
   ],
   "source": [
    "# check relationship between RecommendationCount and PriceInitial\n",
    "\n",
    "data[['ResponseName','RecommendationCount','PriceInitial']].sort_values(by='RecommendationCount',ascending=False)[:20]"
   ]
  },
  {
   "cell_type": "markdown",
   "id": "cf1bd9d2",
   "metadata": {},
   "source": [
    "The games with higher recommendation count are not all that costly."
   ]
  },
  {
   "cell_type": "code",
   "execution_count": null,
   "id": "dcab3522",
   "metadata": {},
   "outputs": [],
   "source": []
  },
  {
   "cell_type": "markdown",
   "id": "bbd2b912",
   "metadata": {},
   "source": [
    "### Prepare the data for modelling"
   ]
  },
  {
   "cell_type": "code",
   "execution_count": 174,
   "id": "d6da1a8a",
   "metadata": {},
   "outputs": [],
   "source": [
    "df = data.copy()"
   ]
  },
  {
   "cell_type": "code",
   "execution_count": 178,
   "id": "741c409e",
   "metadata": {},
   "outputs": [],
   "source": [
    "# Lets slice off the unnecessary columns\n",
    "\n",
    "df = df.iloc[:,2:]"
   ]
  },
  {
   "cell_type": "code",
   "execution_count": 211,
   "id": "c4dfbf98",
   "metadata": {},
   "outputs": [],
   "source": [
    "df = df.iloc[:,4:].astype('category')"
   ]
  },
  {
   "cell_type": "code",
   "execution_count": 212,
   "id": "fd1e8308",
   "metadata": {},
   "outputs": [
    {
     "data": {
      "text/plain": [
       "GenreIsIndie                   category\n",
       "GenreIsAction                  category\n",
       "GenreIsAdventure               category\n",
       "GenreIsCasual                  category\n",
       "GenreIsStrategy                category\n",
       "GenreIsRPG                     category\n",
       "GenreIsSimulation              category\n",
       "GenreIsEarlyAccess             category\n",
       "GenreIsFreeToPlay              category\n",
       "GenreIsSports                  category\n",
       "GenreIsRacing                  category\n",
       "GenreIsMassivelyMultiplayer    category\n",
       "dtype: object"
      ]
     },
     "execution_count": 212,
     "metadata": {},
     "output_type": "execute_result"
    }
   ],
   "source": [
    "df.dtypes"
   ]
  },
  {
   "cell_type": "code",
   "execution_count": 213,
   "id": "2e1c5b45",
   "metadata": {},
   "outputs": [],
   "source": [
    "# Lets change the bool to numerical values\n",
    "\n",
    "def decoding_value(df):\n",
    "    \n",
    "    for col in df.columns:\n",
    "        if df[col] in df.dtypes['category']:\n",
    "            df[col] = df[col].astype('category').cat.codes\n",
    "            \n",
    "    return df\n",
    "        \n",
    "        "
   ]
  },
  {
   "cell_type": "code",
   "execution_count": 207,
   "id": "86ed35b5",
   "metadata": {},
   "outputs": [
    {
     "ename": "KeyError",
     "evalue": "'bool'",
     "output_type": "error",
     "traceback": [
      "\u001b[1;31m---------------------------------------------------------------------------\u001b[0m",
      "\u001b[1;31mKeyError\u001b[0m                                  Traceback (most recent call last)",
      "File \u001b[1;32m~\\anaconda3\\lib\\site-packages\\pandas\\core\\indexes\\base.py:3803\u001b[0m, in \u001b[0;36mIndex.get_loc\u001b[1;34m(self, key, method, tolerance)\u001b[0m\n\u001b[0;32m   3802\u001b[0m \u001b[38;5;28;01mtry\u001b[39;00m:\n\u001b[1;32m-> 3803\u001b[0m     \u001b[38;5;28;01mreturn\u001b[39;00m \u001b[38;5;28;43mself\u001b[39;49m\u001b[38;5;241;43m.\u001b[39;49m\u001b[43m_engine\u001b[49m\u001b[38;5;241;43m.\u001b[39;49m\u001b[43mget_loc\u001b[49m\u001b[43m(\u001b[49m\u001b[43mcasted_key\u001b[49m\u001b[43m)\u001b[49m\n\u001b[0;32m   3804\u001b[0m \u001b[38;5;28;01mexcept\u001b[39;00m \u001b[38;5;167;01mKeyError\u001b[39;00m \u001b[38;5;28;01mas\u001b[39;00m err:\n",
      "File \u001b[1;32m~\\anaconda3\\lib\\site-packages\\pandas\\_libs\\index.pyx:138\u001b[0m, in \u001b[0;36mpandas._libs.index.IndexEngine.get_loc\u001b[1;34m()\u001b[0m\n",
      "File \u001b[1;32m~\\anaconda3\\lib\\site-packages\\pandas\\_libs\\index.pyx:165\u001b[0m, in \u001b[0;36mpandas._libs.index.IndexEngine.get_loc\u001b[1;34m()\u001b[0m\n",
      "File \u001b[1;32mpandas\\_libs\\hashtable_class_helper.pxi:5745\u001b[0m, in \u001b[0;36mpandas._libs.hashtable.PyObjectHashTable.get_item\u001b[1;34m()\u001b[0m\n",
      "File \u001b[1;32mpandas\\_libs\\hashtable_class_helper.pxi:5753\u001b[0m, in \u001b[0;36mpandas._libs.hashtable.PyObjectHashTable.get_item\u001b[1;34m()\u001b[0m\n",
      "\u001b[1;31mKeyError\u001b[0m: 'bool'",
      "\nThe above exception was the direct cause of the following exception:\n",
      "\u001b[1;31mKeyError\u001b[0m                                  Traceback (most recent call last)",
      "Input \u001b[1;32mIn [207]\u001b[0m, in \u001b[0;36m<cell line: 1>\u001b[1;34m()\u001b[0m\n\u001b[1;32m----> 1\u001b[0m decoded_df \u001b[38;5;241m=\u001b[39m \u001b[43mdecoding_value\u001b[49m\u001b[43m(\u001b[49m\u001b[43mdf\u001b[49m\u001b[43m)\u001b[49m\n",
      "Input \u001b[1;32mIn [206]\u001b[0m, in \u001b[0;36mdecoding_value\u001b[1;34m(df)\u001b[0m\n\u001b[0;32m      3\u001b[0m \u001b[38;5;28;01mdef\u001b[39;00m \u001b[38;5;21mdecoding_value\u001b[39m(df):\n\u001b[0;32m      5\u001b[0m     \u001b[38;5;28;01mfor\u001b[39;00m col \u001b[38;5;129;01min\u001b[39;00m df\u001b[38;5;241m.\u001b[39mcolumns:\n\u001b[1;32m----> 6\u001b[0m         \u001b[38;5;28;01mif\u001b[39;00m df[col] \u001b[38;5;129;01min\u001b[39;00m \u001b[43mdf\u001b[49m\u001b[38;5;241;43m.\u001b[39;49m\u001b[43mdtypes\u001b[49m\u001b[43m[\u001b[49m\u001b[38;5;124;43m'\u001b[39;49m\u001b[38;5;124;43mbool\u001b[39;49m\u001b[38;5;124;43m'\u001b[39;49m\u001b[43m]\u001b[49m:\n\u001b[0;32m      7\u001b[0m             df[col] \u001b[38;5;241m=\u001b[39m df[col]\u001b[38;5;241m.\u001b[39mastype(\u001b[38;5;124m'\u001b[39m\u001b[38;5;124mcategory\u001b[39m\u001b[38;5;124m'\u001b[39m)\u001b[38;5;241m.\u001b[39mcat\u001b[38;5;241m.\u001b[39mcodes\n\u001b[0;32m      9\u001b[0m     \u001b[38;5;28;01mreturn\u001b[39;00m df\n",
      "File \u001b[1;32m~\\anaconda3\\lib\\site-packages\\pandas\\core\\series.py:981\u001b[0m, in \u001b[0;36mSeries.__getitem__\u001b[1;34m(self, key)\u001b[0m\n\u001b[0;32m    978\u001b[0m     \u001b[38;5;28;01mreturn\u001b[39;00m \u001b[38;5;28mself\u001b[39m\u001b[38;5;241m.\u001b[39m_values[key]\n\u001b[0;32m    980\u001b[0m \u001b[38;5;28;01melif\u001b[39;00m key_is_scalar:\n\u001b[1;32m--> 981\u001b[0m     \u001b[38;5;28;01mreturn\u001b[39;00m \u001b[38;5;28;43mself\u001b[39;49m\u001b[38;5;241;43m.\u001b[39;49m\u001b[43m_get_value\u001b[49m\u001b[43m(\u001b[49m\u001b[43mkey\u001b[49m\u001b[43m)\u001b[49m\n\u001b[0;32m    983\u001b[0m \u001b[38;5;28;01mif\u001b[39;00m is_hashable(key):\n\u001b[0;32m    984\u001b[0m     \u001b[38;5;66;03m# Otherwise index.get_value will raise InvalidIndexError\u001b[39;00m\n\u001b[0;32m    985\u001b[0m     \u001b[38;5;28;01mtry\u001b[39;00m:\n\u001b[0;32m    986\u001b[0m         \u001b[38;5;66;03m# For labels that don't resolve as scalars like tuples and frozensets\u001b[39;00m\n",
      "File \u001b[1;32m~\\anaconda3\\lib\\site-packages\\pandas\\core\\series.py:1089\u001b[0m, in \u001b[0;36mSeries._get_value\u001b[1;34m(self, label, takeable)\u001b[0m\n\u001b[0;32m   1086\u001b[0m     \u001b[38;5;28;01mreturn\u001b[39;00m \u001b[38;5;28mself\u001b[39m\u001b[38;5;241m.\u001b[39m_values[label]\n\u001b[0;32m   1088\u001b[0m \u001b[38;5;66;03m# Similar to Index.get_value, but we do not fall back to positional\u001b[39;00m\n\u001b[1;32m-> 1089\u001b[0m loc \u001b[38;5;241m=\u001b[39m \u001b[38;5;28;43mself\u001b[39;49m\u001b[38;5;241;43m.\u001b[39;49m\u001b[43mindex\u001b[49m\u001b[38;5;241;43m.\u001b[39;49m\u001b[43mget_loc\u001b[49m\u001b[43m(\u001b[49m\u001b[43mlabel\u001b[49m\u001b[43m)\u001b[49m\n\u001b[0;32m   1090\u001b[0m \u001b[38;5;28;01mreturn\u001b[39;00m \u001b[38;5;28mself\u001b[39m\u001b[38;5;241m.\u001b[39mindex\u001b[38;5;241m.\u001b[39m_get_values_for_loc(\u001b[38;5;28mself\u001b[39m, loc, label)\n",
      "File \u001b[1;32m~\\anaconda3\\lib\\site-packages\\pandas\\core\\indexes\\base.py:3805\u001b[0m, in \u001b[0;36mIndex.get_loc\u001b[1;34m(self, key, method, tolerance)\u001b[0m\n\u001b[0;32m   3803\u001b[0m     \u001b[38;5;28;01mreturn\u001b[39;00m \u001b[38;5;28mself\u001b[39m\u001b[38;5;241m.\u001b[39m_engine\u001b[38;5;241m.\u001b[39mget_loc(casted_key)\n\u001b[0;32m   3804\u001b[0m \u001b[38;5;28;01mexcept\u001b[39;00m \u001b[38;5;167;01mKeyError\u001b[39;00m \u001b[38;5;28;01mas\u001b[39;00m err:\n\u001b[1;32m-> 3805\u001b[0m     \u001b[38;5;28;01mraise\u001b[39;00m \u001b[38;5;167;01mKeyError\u001b[39;00m(key) \u001b[38;5;28;01mfrom\u001b[39;00m \u001b[38;5;21;01merr\u001b[39;00m\n\u001b[0;32m   3806\u001b[0m \u001b[38;5;28;01mexcept\u001b[39;00m \u001b[38;5;167;01mTypeError\u001b[39;00m:\n\u001b[0;32m   3807\u001b[0m     \u001b[38;5;66;03m# If we have a listlike key, _check_indexing_error will raise\u001b[39;00m\n\u001b[0;32m   3808\u001b[0m     \u001b[38;5;66;03m#  InvalidIndexError. Otherwise we fall through and re-raise\u001b[39;00m\n\u001b[0;32m   3809\u001b[0m     \u001b[38;5;66;03m#  the TypeError.\u001b[39;00m\n\u001b[0;32m   3810\u001b[0m     \u001b[38;5;28mself\u001b[39m\u001b[38;5;241m.\u001b[39m_check_indexing_error(key)\n",
      "\u001b[1;31mKeyError\u001b[0m: 'bool'"
     ]
    }
   ],
   "source": [
    "decoded_df = decoding_value(df)"
   ]
  },
  {
   "cell_type": "code",
   "execution_count": null,
   "id": "4ca8fdea",
   "metadata": {},
   "outputs": [],
   "source": []
  }
 ],
 "metadata": {
  "kernelspec": {
   "display_name": "Python 3 (ipykernel)",
   "language": "python",
   "name": "python3"
  },
  "language_info": {
   "codemirror_mode": {
    "name": "ipython",
    "version": 3
   },
   "file_extension": ".py",
   "mimetype": "text/x-python",
   "name": "python",
   "nbconvert_exporter": "python",
   "pygments_lexer": "ipython3",
   "version": "3.9.12"
  }
 },
 "nbformat": 4,
 "nbformat_minor": 5
}
