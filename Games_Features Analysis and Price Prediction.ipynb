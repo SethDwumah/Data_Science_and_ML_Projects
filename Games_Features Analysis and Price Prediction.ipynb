{
 "cells": [
  {
   "cell_type": "markdown",
   "id": "1fa7eabf",
   "metadata": {},
   "source": [
    "# Games_Features Analysis and Prediction"
   ]
  },
  {
   "attachments": {},
   "cell_type": "markdown",
   "id": "47b71010",
   "metadata": {},
   "source": [
    "In this project, we are going to analysis on games features dataset that contain the columns below and try to use machine learning algorithm to predict the initial price of game based on the features:\n",
    "\n",
    "\n",
    "1. ResponseName: name of game\n",
    "2. ReleaseDate: game released date\n",
    "3. Metacritic\n",
    "3. RecommendationCount: number of recommendations\n",
    "4. IsFree: games that are free\n",
    "5. GenreIsNonGame: non game feature\n",
    "6. GenreIsIndie: genre is Indie game\n",
    "7. GenreIsAction: genre is action game\n",
    "8. GenreIsAdventure: genre is adventure game\n",
    "9. GenreIsCasual: genre is casual game\t\n",
    "10. GenreIsStrategy: genre is strategy game\n",
    "11. GenreIsRPG: genre is rpg\t\n",
    "12. GenreIsSimulation: genre is simulation game\n",
    "13. GenreIsEarlyAccess: genre is early access\n",
    "14. GenreIsFreeToPlay: genre is free to play\n",
    "15. GenreIsSports: genre is sports game\t\n",
    "16. GenreIsRacing: genre is racing game\n",
    "17. GenreIsMassivelyMultiplayer:genre is massively multiplayer game\n",
    "18. PriceInitial: price of game\n"
   ]
  },
  {
   "cell_type": "markdown",
   "id": "b665b29a",
   "metadata": {},
   "source": [
    "### Import Libraries"
   ]
  },
  {
   "cell_type": "code",
   "execution_count": 1,
   "id": "fac37126",
   "metadata": {},
   "outputs": [],
   "source": [
    "import pandas as pd\n",
    "import seaborn as sns\n",
    "import numpy as np \n",
    "import matplotlib.pyplot as plt\n",
    "%matplotlib inline"
   ]
  },
  {
   "cell_type": "code",
   "execution_count": 3,
   "id": "bccdd975",
   "metadata": {},
   "outputs": [],
   "source": [
    "# get data\n",
    "data = pd.read_csv('games-features.csv')"
   ]
  },
  {
   "cell_type": "code",
   "execution_count": 4,
   "id": "1ea01d47",
   "metadata": {},
   "outputs": [
    {
     "data": {
      "text/html": [
       "<div>\n",
       "<style scoped>\n",
       "    .dataframe tbody tr th:only-of-type {\n",
       "        vertical-align: middle;\n",
       "    }\n",
       "\n",
       "    .dataframe tbody tr th {\n",
       "        vertical-align: top;\n",
       "    }\n",
       "\n",
       "    .dataframe thead th {\n",
       "        text-align: right;\n",
       "    }\n",
       "</style>\n",
       "<table border=\"1\" class=\"dataframe\">\n",
       "  <thead>\n",
       "    <tr style=\"text-align: right;\">\n",
       "      <th></th>\n",
       "      <th>ResponseName</th>\n",
       "      <th>ReleaseDate</th>\n",
       "      <th>Metacritic</th>\n",
       "      <th>RecommendationCount</th>\n",
       "      <th>IsFree</th>\n",
       "      <th>GenreIsNonGame</th>\n",
       "      <th>GenreIsIndie</th>\n",
       "      <th>GenreIsAction</th>\n",
       "      <th>GenreIsAdventure</th>\n",
       "      <th>GenreIsCasual</th>\n",
       "      <th>GenreIsStrategy</th>\n",
       "      <th>GenreIsRPG</th>\n",
       "      <th>GenreIsSimulation</th>\n",
       "      <th>GenreIsEarlyAccess</th>\n",
       "      <th>GenreIsFreeToPlay</th>\n",
       "      <th>GenreIsSports</th>\n",
       "      <th>GenreIsRacing</th>\n",
       "      <th>GenreIsMassivelyMultiplayer</th>\n",
       "      <th>PriceInitial</th>\n",
       "    </tr>\n",
       "  </thead>\n",
       "  <tbody>\n",
       "    <tr>\n",
       "      <th>0</th>\n",
       "      <td>Counter-Strike</td>\n",
       "      <td>Nov 1 2000</td>\n",
       "      <td>88</td>\n",
       "      <td>68991</td>\n",
       "      <td>False</td>\n",
       "      <td>False</td>\n",
       "      <td>False</td>\n",
       "      <td>True</td>\n",
       "      <td>False</td>\n",
       "      <td>False</td>\n",
       "      <td>False</td>\n",
       "      <td>False</td>\n",
       "      <td>False</td>\n",
       "      <td>False</td>\n",
       "      <td>False</td>\n",
       "      <td>False</td>\n",
       "      <td>False</td>\n",
       "      <td>False</td>\n",
       "      <td>9.99</td>\n",
       "    </tr>\n",
       "    <tr>\n",
       "      <th>1</th>\n",
       "      <td>Team Fortress Classic</td>\n",
       "      <td>Apr 1 1999</td>\n",
       "      <td>0</td>\n",
       "      <td>2439</td>\n",
       "      <td>False</td>\n",
       "      <td>False</td>\n",
       "      <td>False</td>\n",
       "      <td>True</td>\n",
       "      <td>False</td>\n",
       "      <td>False</td>\n",
       "      <td>False</td>\n",
       "      <td>False</td>\n",
       "      <td>False</td>\n",
       "      <td>False</td>\n",
       "      <td>False</td>\n",
       "      <td>False</td>\n",
       "      <td>False</td>\n",
       "      <td>False</td>\n",
       "      <td>4.99</td>\n",
       "    </tr>\n",
       "    <tr>\n",
       "      <th>2</th>\n",
       "      <td>Day of Defeat</td>\n",
       "      <td>May 1 2003</td>\n",
       "      <td>79</td>\n",
       "      <td>2319</td>\n",
       "      <td>False</td>\n",
       "      <td>False</td>\n",
       "      <td>False</td>\n",
       "      <td>True</td>\n",
       "      <td>False</td>\n",
       "      <td>False</td>\n",
       "      <td>False</td>\n",
       "      <td>False</td>\n",
       "      <td>False</td>\n",
       "      <td>False</td>\n",
       "      <td>False</td>\n",
       "      <td>False</td>\n",
       "      <td>False</td>\n",
       "      <td>False</td>\n",
       "      <td>4.99</td>\n",
       "    </tr>\n",
       "    <tr>\n",
       "      <th>3</th>\n",
       "      <td>Deathmatch Classic</td>\n",
       "      <td>Jun 1 2001</td>\n",
       "      <td>0</td>\n",
       "      <td>888</td>\n",
       "      <td>False</td>\n",
       "      <td>False</td>\n",
       "      <td>False</td>\n",
       "      <td>True</td>\n",
       "      <td>False</td>\n",
       "      <td>False</td>\n",
       "      <td>False</td>\n",
       "      <td>False</td>\n",
       "      <td>False</td>\n",
       "      <td>False</td>\n",
       "      <td>False</td>\n",
       "      <td>False</td>\n",
       "      <td>False</td>\n",
       "      <td>False</td>\n",
       "      <td>4.99</td>\n",
       "    </tr>\n",
       "    <tr>\n",
       "      <th>4</th>\n",
       "      <td>Half-Life: Opposing Force</td>\n",
       "      <td>Nov 1 1999</td>\n",
       "      <td>0</td>\n",
       "      <td>2934</td>\n",
       "      <td>False</td>\n",
       "      <td>False</td>\n",
       "      <td>False</td>\n",
       "      <td>True</td>\n",
       "      <td>False</td>\n",
       "      <td>False</td>\n",
       "      <td>False</td>\n",
       "      <td>False</td>\n",
       "      <td>False</td>\n",
       "      <td>False</td>\n",
       "      <td>False</td>\n",
       "      <td>False</td>\n",
       "      <td>False</td>\n",
       "      <td>False</td>\n",
       "      <td>4.99</td>\n",
       "    </tr>\n",
       "  </tbody>\n",
       "</table>\n",
       "</div>"
      ],
      "text/plain": [
       "                ResponseName ReleaseDate  Metacritic  RecommendationCount  \\\n",
       "0             Counter-Strike  Nov 1 2000          88                68991   \n",
       "1      Team Fortress Classic  Apr 1 1999           0                 2439   \n",
       "2              Day of Defeat  May 1 2003          79                 2319   \n",
       "3         Deathmatch Classic  Jun 1 2001           0                  888   \n",
       "4  Half-Life: Opposing Force  Nov 1 1999           0                 2934   \n",
       "\n",
       "   IsFree  GenreIsNonGame  GenreIsIndie  GenreIsAction  GenreIsAdventure  \\\n",
       "0   False           False         False           True             False   \n",
       "1   False           False         False           True             False   \n",
       "2   False           False         False           True             False   \n",
       "3   False           False         False           True             False   \n",
       "4   False           False         False           True             False   \n",
       "\n",
       "   GenreIsCasual  GenreIsStrategy  GenreIsRPG  GenreIsSimulation  \\\n",
       "0          False            False       False              False   \n",
       "1          False            False       False              False   \n",
       "2          False            False       False              False   \n",
       "3          False            False       False              False   \n",
       "4          False            False       False              False   \n",
       "\n",
       "   GenreIsEarlyAccess  GenreIsFreeToPlay  GenreIsSports  GenreIsRacing  \\\n",
       "0               False              False          False          False   \n",
       "1               False              False          False          False   \n",
       "2               False              False          False          False   \n",
       "3               False              False          False          False   \n",
       "4               False              False          False          False   \n",
       "\n",
       "   GenreIsMassivelyMultiplayer  PriceInitial  \n",
       "0                        False          9.99  \n",
       "1                        False          4.99  \n",
       "2                        False          4.99  \n",
       "3                        False          4.99  \n",
       "4                        False          4.99  "
      ]
     },
     "execution_count": 4,
     "metadata": {},
     "output_type": "execute_result"
    }
   ],
   "source": [
    "data.head()"
   ]
  },
  {
   "cell_type": "code",
   "execution_count": 5,
   "id": "0fd6ac2e",
   "metadata": {},
   "outputs": [
    {
     "data": {
      "text/plain": [
       "(12624, 19)"
      ]
     },
     "execution_count": 5,
     "metadata": {},
     "output_type": "execute_result"
    }
   ],
   "source": [
    "data.shape"
   ]
  },
  {
   "cell_type": "code",
   "execution_count": 6,
   "id": "0847a89c",
   "metadata": {},
   "outputs": [
    {
     "data": {
      "text/plain": [
       "ResponseName                    0\n",
       "ReleaseDate                    86\n",
       "Metacritic                      0\n",
       "RecommendationCount             0\n",
       "IsFree                          0\n",
       "GenreIsNonGame                  0\n",
       "GenreIsIndie                    0\n",
       "GenreIsAction                   0\n",
       "GenreIsAdventure                0\n",
       "GenreIsCasual                   0\n",
       "GenreIsStrategy                 0\n",
       "GenreIsRPG                      0\n",
       "GenreIsSimulation               0\n",
       "GenreIsEarlyAccess              0\n",
       "GenreIsFreeToPlay               0\n",
       "GenreIsSports                   0\n",
       "GenreIsRacing                   0\n",
       "GenreIsMassivelyMultiplayer     0\n",
       "PriceInitial                    0\n",
       "dtype: int64"
      ]
     },
     "execution_count": 6,
     "metadata": {},
     "output_type": "execute_result"
    }
   ],
   "source": [
    "# Check missing values\n",
    "\n",
    "data.isna().sum()"
   ]
  },
  {
   "cell_type": "markdown",
   "id": "3f1a1218",
   "metadata": {},
   "source": [
    "We have 86 missing data in the release date column"
   ]
  },
  {
   "cell_type": "code",
   "execution_count": 23,
   "id": "37a8fd92",
   "metadata": {},
   "outputs": [],
   "source": [
    "# Drop missing date\n",
    "\n",
    "data = data.dropna()"
   ]
  },
  {
   "cell_type": "code",
   "execution_count": 24,
   "id": "cb4f6c9b",
   "metadata": {},
   "outputs": [
    {
     "name": "stdout",
     "output_type": "stream",
     "text": [
      "<class 'pandas.core.frame.DataFrame'>\n",
      "Int64Index: 12538 entries, 0 to 12623\n",
      "Data columns (total 19 columns):\n",
      " #   Column                       Non-Null Count  Dtype  \n",
      "---  ------                       --------------  -----  \n",
      " 0   ResponseName                 12538 non-null  object \n",
      " 1   ReleaseDate                  12538 non-null  object \n",
      " 2   Metacritic                   12538 non-null  int64  \n",
      " 3   RecommendationCount          12538 non-null  int64  \n",
      " 4   IsFree                       12538 non-null  bool   \n",
      " 5   GenreIsNonGame               12538 non-null  bool   \n",
      " 6   GenreIsIndie                 12538 non-null  bool   \n",
      " 7   GenreIsAction                12538 non-null  bool   \n",
      " 8   GenreIsAdventure             12538 non-null  bool   \n",
      " 9   GenreIsCasual                12538 non-null  bool   \n",
      " 10  GenreIsStrategy              12538 non-null  bool   \n",
      " 11  GenreIsRPG                   12538 non-null  bool   \n",
      " 12  GenreIsSimulation            12538 non-null  bool   \n",
      " 13  GenreIsEarlyAccess           12538 non-null  bool   \n",
      " 14  GenreIsFreeToPlay            12538 non-null  bool   \n",
      " 15  GenreIsSports                12538 non-null  bool   \n",
      " 16  GenreIsRacing                12538 non-null  bool   \n",
      " 17  GenreIsMassivelyMultiplayer  12538 non-null  bool   \n",
      " 18  PriceInitial                 12538 non-null  float64\n",
      "dtypes: bool(14), float64(1), int64(2), object(2)\n",
      "memory usage: 759.1+ KB\n"
     ]
    }
   ],
   "source": [
    "data.info()"
   ]
  },
  {
   "cell_type": "code",
   "execution_count": 25,
   "id": "56881f50",
   "metadata": {},
   "outputs": [
    {
     "data": {
      "text/plain": [
       "Index(['ResponseName', 'ReleaseDate', 'Metacritic', 'RecommendationCount',\n",
       "       'IsFree', 'GenreIsNonGame', 'GenreIsIndie', 'GenreIsAction',\n",
       "       'GenreIsAdventure', 'GenreIsCasual', 'GenreIsStrategy', 'GenreIsRPG',\n",
       "       'GenreIsSimulation', 'GenreIsEarlyAccess', 'GenreIsFreeToPlay',\n",
       "       'GenreIsSports', 'GenreIsRacing', 'GenreIsMassivelyMultiplayer',\n",
       "       'PriceInitial'],\n",
       "      dtype='object')"
      ]
     },
     "execution_count": 25,
     "metadata": {},
     "output_type": "execute_result"
    }
   ],
   "source": [
    "data.columns"
   ]
  },
  {
   "cell_type": "code",
   "execution_count": 54,
   "id": "d19c2e17",
   "metadata": {},
   "outputs": [],
   "source": [
    "# number of games released very year\n",
    "\n",
    "number_games = data['ResponseName'].groupby(data['ReleaseDate']).count().sort_values(ascending=False)[:20]"
   ]
  },
  {
   "cell_type": "code",
   "execution_count": 55,
   "id": "beb90e7c",
   "metadata": {},
   "outputs": [
    {
     "data": {
      "text/plain": [
       "ReleaseDate\n",
       "Aug 22 2016      241\n",
       "Aug 26 2016      152\n",
       "Sep 9 2016        77\n",
       "Sep 7 2016        68\n",
       "Apr 5 2016        64\n",
       "2016              59\n",
       "Aug 5 2016        49\n",
       "October 2016      46\n",
       "2017              43\n",
       "Jul 26 2016       42\n",
       "Jun 24 2016       39\n",
       "Jun 17 2016       39\n",
       "Sep 2 2016        39\n",
       "Aug 25 2016       38\n",
       "Oct 14 2016       36\n",
       "Jul 17 2009       36\n",
       "Sep 30 2016       35\n",
       "Aug 24 2016       35\n",
       "November 2016     34\n",
       "Oct 28 2016       34\n",
       "Name: ResponseName, dtype: int64"
      ]
     },
     "execution_count": 55,
     "metadata": {},
     "output_type": "execute_result"
    }
   ],
   "source": [
    "number_games"
   ]
  },
  {
   "cell_type": "code",
   "execution_count": 57,
   "id": "dcc42cd6",
   "metadata": {},
   "outputs": [
    {
     "data": {
      "text/plain": [
       "<AxesSubplot:xlabel='ReleaseDate'>"
      ]
     },
     "execution_count": 57,
     "metadata": {},
     "output_type": "execute_result"
    },
    {
     "data": {
      "image/png": "[encoded data removed]",
      "text/plain": [
       "<Figure size 432x288 with 1 Axes>"
      ]
     },
     "metadata": {},
     "output_type": "display_data"
    }
   ],
   "source": [
    "plt.style.use('fivethirtyeight')\n",
    "number_games.plot()"
   ]
  },
  {
   "cell_type": "code",
   "execution_count": null,
   "id": "a852544c",
   "metadata": {},
   "outputs": [],
   "source": [
    "data['GenreAction','GenreAdventure'].value_counts().plot(kind='pie')"
   ]
  },
  {
   "cell_type": "code",
   "execution_count": null,
   "id": "5b910c3a",
   "metadata": {},
   "outputs": [],
   "source": []
  }
 ],
 "metadata": {
  "kernelspec": {
   "display_name": "Python 3 (ipykernel)",
   "language": "python",
   "name": "python3"
  },
  "language_info": {
   "codemirror_mode": {
    "name": "ipython",
    "version": 3
   },
   "file_extension": ".py",
   "mimetype": "text/x-python",
   "name": "python",
   "nbconvert_exporter": "python",
   "pygments_lexer": "ipython3",
   "version": "3.9.12"
  }
 },
 "nbformat": 4,
 "nbformat_minor": 5
}
