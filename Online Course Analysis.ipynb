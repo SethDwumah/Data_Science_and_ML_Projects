{
 "cells": [
  {
   "cell_type": "markdown",
   "id": "5b34a839",
   "metadata": {},
   "source": [
    "### Import Libraries"
   ]
  },
  {
   "cell_type": "code",
   "execution_count": 86,
   "id": "737ca248",
   "metadata": {},
   "outputs": [],
   "source": [
    "import pandas as pd\n",
    "import numpy as np\n",
    "import seaborn as sns\n",
    "import matplotlib.pyplot as plt\n",
    "%matplotlib inline \n",
    "import warnings\n",
    "warnings.filterwarnings('ignore')"
   ]
  },
  {
   "cell_type": "code",
   "execution_count": 4,
   "id": "6b809a9e",
   "metadata": {},
   "outputs": [],
   "source": [
    "from scipy.stats import chi2_contingency, iqr\n",
    "import stat\n"
   ]
  },
  {
   "cell_type": "code",
   "execution_count": 70,
   "id": "df4f8a8d",
   "metadata": {},
   "outputs": [],
   "source": [
    "## Get the data\n",
    "\n",
    "udata = pd.read_csv('udemy_data.csv')"
   ]
  },
  {
   "cell_type": "code",
   "execution_count": 71,
   "id": "4f98e4c5",
   "metadata": {},
   "outputs": [
    {
     "data": {
      "text/html": [
       "<div>\n",
       "<style scoped>\n",
       "    .dataframe tbody tr th:only-of-type {\n",
       "        vertical-align: middle;\n",
       "    }\n",
       "\n",
       "    .dataframe tbody tr th {\n",
       "        vertical-align: top;\n",
       "    }\n",
       "\n",
       "    .dataframe thead th {\n",
       "        text-align: right;\n",
       "    }\n",
       "</style>\n",
       "<table border=\"1\" class=\"dataframe\">\n",
       "  <thead>\n",
       "    <tr style=\"text-align: right;\">\n",
       "      <th></th>\n",
       "      <th>course_id</th>\n",
       "      <th>course_title</th>\n",
       "      <th>url</th>\n",
       "      <th>price</th>\n",
       "      <th>num_subscribers</th>\n",
       "      <th>num_reviews</th>\n",
       "      <th>num_lectures</th>\n",
       "      <th>level</th>\n",
       "      <th>rating</th>\n",
       "      <th>content_duration</th>\n",
       "      <th>published_timestamp</th>\n",
       "      <th>subject</th>\n",
       "      <th>Date</th>\n",
       "      <th>Free/Paid</th>\n",
       "    </tr>\n",
       "  </thead>\n",
       "  <tbody>\n",
       "    <tr>\n",
       "      <th>0</th>\n",
       "      <td>41295</td>\n",
       "      <td>Learn HTML5 Programming From Scratch</td>\n",
       "      <td>https://www.udemy.com/learn-html5-programming-...</td>\n",
       "      <td>0</td>\n",
       "      <td>268923</td>\n",
       "      <td>8629</td>\n",
       "      <td>45</td>\n",
       "      <td>Beginner Level</td>\n",
       "      <td>0.82</td>\n",
       "      <td>10.5</td>\n",
       "      <td>2013-02-14T07:03:41Z</td>\n",
       "      <td>Web Development</td>\n",
       "      <td>2013-02-14</td>\n",
       "      <td>Free</td>\n",
       "    </tr>\n",
       "    <tr>\n",
       "      <th>1</th>\n",
       "      <td>59014</td>\n",
       "      <td>Coding for Entrepreneurs Basic</td>\n",
       "      <td>https://www.udemy.com/coding-for-entrepreneurs...</td>\n",
       "      <td>0</td>\n",
       "      <td>161029</td>\n",
       "      <td>279</td>\n",
       "      <td>27</td>\n",
       "      <td>Expert Level</td>\n",
       "      <td>0.69</td>\n",
       "      <td>3.5</td>\n",
       "      <td>2013-06-09T15:51:55Z</td>\n",
       "      <td>Web Development</td>\n",
       "      <td>2013-06-09</td>\n",
       "      <td>Free</td>\n",
       "    </tr>\n",
       "    <tr>\n",
       "      <th>2</th>\n",
       "      <td>625204</td>\n",
       "      <td>The Web Developer Bootcamp</td>\n",
       "      <td>https://www.udemy.com/the-web-developer-bootcamp/</td>\n",
       "      <td>200</td>\n",
       "      <td>121584</td>\n",
       "      <td>27445</td>\n",
       "      <td>342</td>\n",
       "      <td>Beginner Level</td>\n",
       "      <td>0.89</td>\n",
       "      <td>43.0</td>\n",
       "      <td>2015-11-02T21:13:27Z</td>\n",
       "      <td>Web Development</td>\n",
       "      <td>2015-11-02</td>\n",
       "      <td>Paid</td>\n",
       "    </tr>\n",
       "    <tr>\n",
       "      <th>3</th>\n",
       "      <td>173548</td>\n",
       "      <td>Build Your First Website in 1 Week with HTML5 ...</td>\n",
       "      <td>https://www.udemy.com/build-your-first-website...</td>\n",
       "      <td>0</td>\n",
       "      <td>120291</td>\n",
       "      <td>5924</td>\n",
       "      <td>30</td>\n",
       "      <td>All Levels</td>\n",
       "      <td>0.78</td>\n",
       "      <td>3.0</td>\n",
       "      <td>2014-04-08T16:21:30Z</td>\n",
       "      <td>Web Development</td>\n",
       "      <td>2014-04-08</td>\n",
       "      <td>Free</td>\n",
       "    </tr>\n",
       "    <tr>\n",
       "      <th>4</th>\n",
       "      <td>764164</td>\n",
       "      <td>The Complete Web Developer Course 2.0</td>\n",
       "      <td>https://www.udemy.com/the-complete-web-develop...</td>\n",
       "      <td>200</td>\n",
       "      <td>114512</td>\n",
       "      <td>22412</td>\n",
       "      <td>304</td>\n",
       "      <td>Beginner Level</td>\n",
       "      <td>0.55</td>\n",
       "      <td>30.5</td>\n",
       "      <td>2016-03-08T22:28:36Z</td>\n",
       "      <td>Web Development</td>\n",
       "      <td>2016-03-08</td>\n",
       "      <td>Paid</td>\n",
       "    </tr>\n",
       "  </tbody>\n",
       "</table>\n",
       "</div>"
      ],
      "text/plain": [
       "   course_id                                       course_title  \\\n",
       "0      41295               Learn HTML5 Programming From Scratch   \n",
       "1      59014                     Coding for Entrepreneurs Basic   \n",
       "2     625204                         The Web Developer Bootcamp   \n",
       "3     173548  Build Your First Website in 1 Week with HTML5 ...   \n",
       "4     764164              The Complete Web Developer Course 2.0   \n",
       "\n",
       "                                                 url  price  num_subscribers  \\\n",
       "0  https://www.udemy.com/learn-html5-programming-...      0           268923   \n",
       "1  https://www.udemy.com/coding-for-entrepreneurs...      0           161029   \n",
       "2  https://www.udemy.com/the-web-developer-bootcamp/    200           121584   \n",
       "3  https://www.udemy.com/build-your-first-website...      0           120291   \n",
       "4  https://www.udemy.com/the-complete-web-develop...    200           114512   \n",
       "\n",
       "   num_reviews  num_lectures           level  rating  content_duration  \\\n",
       "0         8629            45  Beginner Level    0.82              10.5   \n",
       "1          279            27    Expert Level    0.69               3.5   \n",
       "2        27445           342  Beginner Level    0.89              43.0   \n",
       "3         5924            30      All Levels    0.78               3.0   \n",
       "4        22412           304  Beginner Level    0.55              30.5   \n",
       "\n",
       "    published_timestamp          subject        Date Free/Paid  \n",
       "0  2013-02-14T07:03:41Z  Web Development  2013-02-14      Free  \n",
       "1  2013-06-09T15:51:55Z  Web Development  2013-06-09      Free  \n",
       "2  2015-11-02T21:13:27Z  Web Development  2015-11-02      Paid  \n",
       "3  2014-04-08T16:21:30Z  Web Development  2014-04-08      Free  \n",
       "4  2016-03-08T22:28:36Z  Web Development  2016-03-08      Paid  "
      ]
     },
     "execution_count": 71,
     "metadata": {},
     "output_type": "execute_result"
    }
   ],
   "source": [
    "udata.head()"
   ]
  },
  {
   "cell_type": "code",
   "execution_count": 72,
   "id": "2d085bf0",
   "metadata": {},
   "outputs": [
    {
     "data": {
      "text/plain": [
       "course_id              0\n",
       "course_title           0\n",
       "url                    0\n",
       "price                  0\n",
       "num_subscribers        0\n",
       "num_reviews            0\n",
       "num_lectures           0\n",
       "level                  0\n",
       "rating                 0\n",
       "content_duration       0\n",
       "published_timestamp    0\n",
       "subject                0\n",
       "Date                   0\n",
       "Free/Paid              0\n",
       "dtype: int64"
      ]
     },
     "execution_count": 72,
     "metadata": {},
     "output_type": "execute_result"
    }
   ],
   "source": [
    "udata.isnull().sum()"
   ]
  },
  {
   "cell_type": "code",
   "execution_count": 73,
   "id": "26904881",
   "metadata": {},
   "outputs": [
    {
     "data": {
      "text/plain": [
       "(3676, 14)"
      ]
     },
     "execution_count": 73,
     "metadata": {},
     "output_type": "execute_result"
    }
   ],
   "source": [
    "udata.shape"
   ]
  },
  {
   "cell_type": "code",
   "execution_count": 74,
   "id": "95f73b34",
   "metadata": {},
   "outputs": [
    {
     "data": {
      "text/html": [
       "<div>\n",
       "<style scoped>\n",
       "    .dataframe tbody tr th:only-of-type {\n",
       "        vertical-align: middle;\n",
       "    }\n",
       "\n",
       "    .dataframe tbody tr th {\n",
       "        vertical-align: top;\n",
       "    }\n",
       "\n",
       "    .dataframe thead th {\n",
       "        text-align: right;\n",
       "    }\n",
       "</style>\n",
       "<table border=\"1\" class=\"dataframe\">\n",
       "  <thead>\n",
       "    <tr style=\"text-align: right;\">\n",
       "      <th></th>\n",
       "      <th>course_id</th>\n",
       "      <th>price</th>\n",
       "      <th>num_subscribers</th>\n",
       "      <th>num_reviews</th>\n",
       "      <th>num_lectures</th>\n",
       "      <th>rating</th>\n",
       "      <th>content_duration</th>\n",
       "    </tr>\n",
       "  </thead>\n",
       "  <tbody>\n",
       "    <tr>\n",
       "      <th>count</th>\n",
       "      <td>3.676000e+03</td>\n",
       "      <td>3676.000000</td>\n",
       "      <td>3676.000000</td>\n",
       "      <td>3676.000000</td>\n",
       "      <td>3676.000000</td>\n",
       "      <td>3676.000000</td>\n",
       "      <td>3676.000000</td>\n",
       "    </tr>\n",
       "    <tr>\n",
       "      <th>mean</th>\n",
       "      <td>6.757535e+05</td>\n",
       "      <td>66.115343</td>\n",
       "      <td>3199.260881</td>\n",
       "      <td>156.309848</td>\n",
       "      <td>40.129761</td>\n",
       "      <td>0.610868</td>\n",
       "      <td>4.096137</td>\n",
       "    </tr>\n",
       "    <tr>\n",
       "      <th>std</th>\n",
       "      <td>3.431304e+05</td>\n",
       "      <td>61.056073</td>\n",
       "      <td>9486.582966</td>\n",
       "      <td>935.674518</td>\n",
       "      <td>50.398507</td>\n",
       "      <td>0.334287</td>\n",
       "      <td>6.054948</td>\n",
       "    </tr>\n",
       "    <tr>\n",
       "      <th>min</th>\n",
       "      <td>8.324000e+03</td>\n",
       "      <td>0.000000</td>\n",
       "      <td>0.000000</td>\n",
       "      <td>0.000000</td>\n",
       "      <td>0.000000</td>\n",
       "      <td>0.000000</td>\n",
       "      <td>0.000000</td>\n",
       "    </tr>\n",
       "    <tr>\n",
       "      <th>25%</th>\n",
       "      <td>4.074740e+05</td>\n",
       "      <td>20.000000</td>\n",
       "      <td>112.000000</td>\n",
       "      <td>4.000000</td>\n",
       "      <td>15.000000</td>\n",
       "      <td>0.280000</td>\n",
       "      <td>1.000000</td>\n",
       "    </tr>\n",
       "    <tr>\n",
       "      <th>50%</th>\n",
       "      <td>6.876920e+05</td>\n",
       "      <td>45.000000</td>\n",
       "      <td>912.500000</td>\n",
       "      <td>18.000000</td>\n",
       "      <td>25.000000</td>\n",
       "      <td>0.760000</td>\n",
       "      <td>2.000000</td>\n",
       "    </tr>\n",
       "    <tr>\n",
       "      <th>75%</th>\n",
       "      <td>9.608140e+05</td>\n",
       "      <td>95.000000</td>\n",
       "      <td>2558.000000</td>\n",
       "      <td>67.000000</td>\n",
       "      <td>46.000000</td>\n",
       "      <td>0.930000</td>\n",
       "      <td>4.500000</td>\n",
       "    </tr>\n",
       "    <tr>\n",
       "      <th>max</th>\n",
       "      <td>1.282064e+06</td>\n",
       "      <td>200.000000</td>\n",
       "      <td>268923.000000</td>\n",
       "      <td>27445.000000</td>\n",
       "      <td>779.000000</td>\n",
       "      <td>1.000000</td>\n",
       "      <td>78.500000</td>\n",
       "    </tr>\n",
       "  </tbody>\n",
       "</table>\n",
       "</div>"
      ],
      "text/plain": [
       "          course_id        price  num_subscribers   num_reviews  num_lectures  \\\n",
       "count  3.676000e+03  3676.000000      3676.000000   3676.000000   3676.000000   \n",
       "mean   6.757535e+05    66.115343      3199.260881    156.309848     40.129761   \n",
       "std    3.431304e+05    61.056073      9486.582966    935.674518     50.398507   \n",
       "min    8.324000e+03     0.000000         0.000000      0.000000      0.000000   \n",
       "25%    4.074740e+05    20.000000       112.000000      4.000000     15.000000   \n",
       "50%    6.876920e+05    45.000000       912.500000     18.000000     25.000000   \n",
       "75%    9.608140e+05    95.000000      2558.000000     67.000000     46.000000   \n",
       "max    1.282064e+06   200.000000    268923.000000  27445.000000    779.000000   \n",
       "\n",
       "            rating  content_duration  \n",
       "count  3676.000000       3676.000000  \n",
       "mean      0.610868          4.096137  \n",
       "std       0.334287          6.054948  \n",
       "min       0.000000          0.000000  \n",
       "25%       0.280000          1.000000  \n",
       "50%       0.760000          2.000000  \n",
       "75%       0.930000          4.500000  \n",
       "max       1.000000         78.500000  "
      ]
     },
     "execution_count": 74,
     "metadata": {},
     "output_type": "execute_result"
    }
   ],
   "source": [
    "udata.describe()"
   ]
  },
  {
   "cell_type": "code",
   "execution_count": 75,
   "id": "fb25194e",
   "metadata": {},
   "outputs": [
    {
     "name": "stdout",
     "output_type": "stream",
     "text": [
      "<class 'pandas.core.frame.DataFrame'>\n",
      "RangeIndex: 3676 entries, 0 to 3675\n",
      "Data columns (total 14 columns):\n",
      " #   Column               Non-Null Count  Dtype  \n",
      "---  ------               --------------  -----  \n",
      " 0   course_id            3676 non-null   int64  \n",
      " 1   course_title         3676 non-null   object \n",
      " 2   url                  3676 non-null   object \n",
      " 3   price                3676 non-null   int64  \n",
      " 4   num_subscribers      3676 non-null   int64  \n",
      " 5   num_reviews          3676 non-null   int64  \n",
      " 6   num_lectures         3676 non-null   int64  \n",
      " 7   level                3676 non-null   object \n",
      " 8   rating               3676 non-null   float64\n",
      " 9   content_duration     3676 non-null   float64\n",
      " 10  published_timestamp  3676 non-null   object \n",
      " 11  subject              3676 non-null   object \n",
      " 12  Date                 3676 non-null   object \n",
      " 13  Free/Paid            3676 non-null   object \n",
      "dtypes: float64(2), int64(5), object(7)\n",
      "memory usage: 402.2+ KB\n"
     ]
    }
   ],
   "source": [
    "udata.info()"
   ]
  },
  {
   "cell_type": "code",
   "execution_count": 76,
   "id": "111b84f2",
   "metadata": {},
   "outputs": [],
   "source": [
    "## Lets drop unnecessary columns\n",
    "udata.drop(['url','published_timestamp'], axis=1, inplace=True)"
   ]
  },
  {
   "cell_type": "code",
   "execution_count": 77,
   "id": "cc95a9e0",
   "metadata": {},
   "outputs": [],
   "source": [
    "udata.drop(['course_id',], axis=1, inplace=True)"
   ]
  },
  {
   "cell_type": "code",
   "execution_count": 78,
   "id": "1188b596",
   "metadata": {},
   "outputs": [
    {
     "data": {
      "text/html": [
       "<div>\n",
       "<style scoped>\n",
       "    .dataframe tbody tr th:only-of-type {\n",
       "        vertical-align: middle;\n",
       "    }\n",
       "\n",
       "    .dataframe tbody tr th {\n",
       "        vertical-align: top;\n",
       "    }\n",
       "\n",
       "    .dataframe thead th {\n",
       "        text-align: right;\n",
       "    }\n",
       "</style>\n",
       "<table border=\"1\" class=\"dataframe\">\n",
       "  <thead>\n",
       "    <tr style=\"text-align: right;\">\n",
       "      <th></th>\n",
       "      <th>course_title</th>\n",
       "      <th>price</th>\n",
       "      <th>num_subscribers</th>\n",
       "      <th>num_reviews</th>\n",
       "      <th>num_lectures</th>\n",
       "      <th>level</th>\n",
       "      <th>rating</th>\n",
       "      <th>content_duration</th>\n",
       "      <th>subject</th>\n",
       "      <th>Date</th>\n",
       "      <th>Free/Paid</th>\n",
       "    </tr>\n",
       "  </thead>\n",
       "  <tbody>\n",
       "    <tr>\n",
       "      <th>0</th>\n",
       "      <td>Learn HTML5 Programming From Scratch</td>\n",
       "      <td>0</td>\n",
       "      <td>268923</td>\n",
       "      <td>8629</td>\n",
       "      <td>45</td>\n",
       "      <td>Beginner Level</td>\n",
       "      <td>0.82</td>\n",
       "      <td>10.5</td>\n",
       "      <td>Web Development</td>\n",
       "      <td>2013-02-14</td>\n",
       "      <td>Free</td>\n",
       "    </tr>\n",
       "    <tr>\n",
       "      <th>1</th>\n",
       "      <td>Coding for Entrepreneurs Basic</td>\n",
       "      <td>0</td>\n",
       "      <td>161029</td>\n",
       "      <td>279</td>\n",
       "      <td>27</td>\n",
       "      <td>Expert Level</td>\n",
       "      <td>0.69</td>\n",
       "      <td>3.5</td>\n",
       "      <td>Web Development</td>\n",
       "      <td>2013-06-09</td>\n",
       "      <td>Free</td>\n",
       "    </tr>\n",
       "    <tr>\n",
       "      <th>2</th>\n",
       "      <td>The Web Developer Bootcamp</td>\n",
       "      <td>200</td>\n",
       "      <td>121584</td>\n",
       "      <td>27445</td>\n",
       "      <td>342</td>\n",
       "      <td>Beginner Level</td>\n",
       "      <td>0.89</td>\n",
       "      <td>43.0</td>\n",
       "      <td>Web Development</td>\n",
       "      <td>2015-11-02</td>\n",
       "      <td>Paid</td>\n",
       "    </tr>\n",
       "    <tr>\n",
       "      <th>3</th>\n",
       "      <td>Build Your First Website in 1 Week with HTML5 ...</td>\n",
       "      <td>0</td>\n",
       "      <td>120291</td>\n",
       "      <td>5924</td>\n",
       "      <td>30</td>\n",
       "      <td>All Levels</td>\n",
       "      <td>0.78</td>\n",
       "      <td>3.0</td>\n",
       "      <td>Web Development</td>\n",
       "      <td>2014-04-08</td>\n",
       "      <td>Free</td>\n",
       "    </tr>\n",
       "    <tr>\n",
       "      <th>4</th>\n",
       "      <td>The Complete Web Developer Course 2.0</td>\n",
       "      <td>200</td>\n",
       "      <td>114512</td>\n",
       "      <td>22412</td>\n",
       "      <td>304</td>\n",
       "      <td>Beginner Level</td>\n",
       "      <td>0.55</td>\n",
       "      <td>30.5</td>\n",
       "      <td>Web Development</td>\n",
       "      <td>2016-03-08</td>\n",
       "      <td>Paid</td>\n",
       "    </tr>\n",
       "  </tbody>\n",
       "</table>\n",
       "</div>"
      ],
      "text/plain": [
       "                                        course_title  price  num_subscribers  \\\n",
       "0               Learn HTML5 Programming From Scratch      0           268923   \n",
       "1                     Coding for Entrepreneurs Basic      0           161029   \n",
       "2                         The Web Developer Bootcamp    200           121584   \n",
       "3  Build Your First Website in 1 Week with HTML5 ...      0           120291   \n",
       "4              The Complete Web Developer Course 2.0    200           114512   \n",
       "\n",
       "   num_reviews  num_lectures           level  rating  content_duration  \\\n",
       "0         8629            45  Beginner Level    0.82              10.5   \n",
       "1          279            27    Expert Level    0.69               3.5   \n",
       "2        27445           342  Beginner Level    0.89              43.0   \n",
       "3         5924            30      All Levels    0.78               3.0   \n",
       "4        22412           304  Beginner Level    0.55              30.5   \n",
       "\n",
       "           subject        Date Free/Paid  \n",
       "0  Web Development  2013-02-14      Free  \n",
       "1  Web Development  2013-06-09      Free  \n",
       "2  Web Development  2015-11-02      Paid  \n",
       "3  Web Development  2014-04-08      Free  \n",
       "4  Web Development  2016-03-08      Paid  "
      ]
     },
     "execution_count": 78,
     "metadata": {},
     "output_type": "execute_result"
    }
   ],
   "source": [
    "udata.head()"
   ]
  },
  {
   "cell_type": "code",
   "execution_count": 80,
   "id": "3d4405e2",
   "metadata": {},
   "outputs": [],
   "source": [
    "# Create  list of categorical variables\n",
    "category =[]\n",
    "for c in udata.columns:\n",
    "    if udata[c].dtypes in ['object']:\n",
    "        category.append(c)"
   ]
  },
  {
   "cell_type": "code",
   "execution_count": 81,
   "id": "ff030965",
   "metadata": {},
   "outputs": [
    {
     "data": {
      "text/plain": [
       "['course_title', 'level', 'subject', 'Date', 'Free/Paid']"
      ]
     },
     "execution_count": 81,
     "metadata": {},
     "output_type": "execute_result"
    }
   ],
   "source": [
    "category"
   ]
  },
  {
   "cell_type": "code",
   "execution_count": 82,
   "id": "16c8bb23",
   "metadata": {},
   "outputs": [
    {
     "name": "stdout",
     "output_type": "stream",
     "text": [
      "\n",
      "****************************************\n",
      "Creating an animated greeting card via Google Slides            3\n",
      "Acoustic Blues Guitar Lessons                                   3\n",
      "How to Make a Wordpress Website 2017                            2\n",
      "Drum Lessons For Beginners                                      2\n",
      "Practical CSS Website Development: Crash Course                 2\n",
      "                                                               ..\n",
      "CurrencyFair - Avoid Bank Charges when converting currencies    1\n",
      "Learn By Example: The Foundations of HTML, CSS & Javascript     1\n",
      "Learn PHP Object Oriented Features with Simple Examples         1\n",
      "ReactJS and Flux: Learn By Building 10 Projects                 1\n",
      "The Cash Flow Statement - An Introduction                       1\n",
      "Name: course_title, Length: 3663, dtype: int64\n",
      "\n",
      "****************************************\n",
      "All Levels            1925\n",
      "Beginner Level        1271\n",
      "Intermediate Level     422\n",
      "Expert Level            58\n",
      "Name: level, dtype: int64\n",
      "\n",
      "****************************************\n",
      "Web Development        1203\n",
      "Business Finance       1191\n",
      "Musical Instruments     680\n",
      "Graphic Design          602\n",
      "Name: subject, dtype: int64\n",
      "\n",
      "****************************************\n",
      "2017-05-01    21\n",
      "2016-04-13    18\n",
      "2017-05-02    17\n",
      "2017-06-29    15\n",
      "2016-06-20    13\n",
      "              ..\n",
      "2015-01-06     1\n",
      "2014-12-04     1\n",
      "2015-05-05     1\n",
      "2014-08-24     1\n",
      "2016-07-27     1\n",
      "Name: Date, Length: 1210, dtype: int64\n",
      "\n",
      "****************************************\n",
      "Paid    3365\n",
      "Free     311\n",
      "Name: Free/Paid, dtype: int64\n"
     ]
    }
   ],
   "source": [
    "# categorical variables value counts\n",
    "for i in udata[category]:\n",
    "    print(\"\\n****************************************\")\n",
    "    print(udata[i].value_counts())"
   ]
  },
  {
   "cell_type": "code",
   "execution_count": 83,
   "id": "38ab2a3c",
   "metadata": {},
   "outputs": [
    {
     "data": {
      "text/html": [
       "<div>\n",
       "<style scoped>\n",
       "    .dataframe tbody tr th:only-of-type {\n",
       "        vertical-align: middle;\n",
       "    }\n",
       "\n",
       "    .dataframe tbody tr th {\n",
       "        vertical-align: top;\n",
       "    }\n",
       "\n",
       "    .dataframe thead th {\n",
       "        text-align: right;\n",
       "    }\n",
       "</style>\n",
       "<table border=\"1\" class=\"dataframe\">\n",
       "  <thead>\n",
       "    <tr style=\"text-align: right;\">\n",
       "      <th></th>\n",
       "      <th>course_title</th>\n",
       "      <th>level</th>\n",
       "      <th>subject</th>\n",
       "      <th>Date</th>\n",
       "      <th>Free/Paid</th>\n",
       "    </tr>\n",
       "  </thead>\n",
       "  <tbody>\n",
       "    <tr>\n",
       "      <th>0</th>\n",
       "      <td>Learn HTML5 Programming From Scratch</td>\n",
       "      <td>Beginner Level</td>\n",
       "      <td>Web Development</td>\n",
       "      <td>2013-02-14</td>\n",
       "      <td>Free</td>\n",
       "    </tr>\n",
       "    <tr>\n",
       "      <th>1</th>\n",
       "      <td>Coding for Entrepreneurs Basic</td>\n",
       "      <td>Expert Level</td>\n",
       "      <td>Web Development</td>\n",
       "      <td>2013-06-09</td>\n",
       "      <td>Free</td>\n",
       "    </tr>\n",
       "    <tr>\n",
       "      <th>2</th>\n",
       "      <td>The Web Developer Bootcamp</td>\n",
       "      <td>Beginner Level</td>\n",
       "      <td>Web Development</td>\n",
       "      <td>2015-11-02</td>\n",
       "      <td>Paid</td>\n",
       "    </tr>\n",
       "    <tr>\n",
       "      <th>3</th>\n",
       "      <td>Build Your First Website in 1 Week with HTML5 ...</td>\n",
       "      <td>All Levels</td>\n",
       "      <td>Web Development</td>\n",
       "      <td>2014-04-08</td>\n",
       "      <td>Free</td>\n",
       "    </tr>\n",
       "    <tr>\n",
       "      <th>4</th>\n",
       "      <td>The Complete Web Developer Course 2.0</td>\n",
       "      <td>Beginner Level</td>\n",
       "      <td>Web Development</td>\n",
       "      <td>2016-03-08</td>\n",
       "      <td>Paid</td>\n",
       "    </tr>\n",
       "    <tr>\n",
       "      <th>...</th>\n",
       "      <td>...</td>\n",
       "      <td>...</td>\n",
       "      <td>...</td>\n",
       "      <td>...</td>\n",
       "      <td>...</td>\n",
       "    </tr>\n",
       "    <tr>\n",
       "      <th>3671</th>\n",
       "      <td>Foundations of Investing</td>\n",
       "      <td>Beginner Level</td>\n",
       "      <td>Business Finance</td>\n",
       "      <td>2016-07-27</td>\n",
       "      <td>Paid</td>\n",
       "    </tr>\n",
       "    <tr>\n",
       "      <th>3672</th>\n",
       "      <td>60 Minutes to Fundamental Accounting Skills</td>\n",
       "      <td>All Levels</td>\n",
       "      <td>Business Finance</td>\n",
       "      <td>2017-06-28</td>\n",
       "      <td>Paid</td>\n",
       "    </tr>\n",
       "    <tr>\n",
       "      <th>3673</th>\n",
       "      <td>Teeter-Totter Accounting</td>\n",
       "      <td>Intermediate Level</td>\n",
       "      <td>Business Finance</td>\n",
       "      <td>2017-02-08</td>\n",
       "      <td>Paid</td>\n",
       "    </tr>\n",
       "    <tr>\n",
       "      <th>3674</th>\n",
       "      <td>Financial Statement Auditing Cycles</td>\n",
       "      <td>All Levels</td>\n",
       "      <td>Business Finance</td>\n",
       "      <td>2017-06-29</td>\n",
       "      <td>Paid</td>\n",
       "    </tr>\n",
       "    <tr>\n",
       "      <th>3675</th>\n",
       "      <td>The Cash Flow Statement - An Introduction</td>\n",
       "      <td>All Levels</td>\n",
       "      <td>Business Finance</td>\n",
       "      <td>2017-06-28</td>\n",
       "      <td>Paid</td>\n",
       "    </tr>\n",
       "  </tbody>\n",
       "</table>\n",
       "<p>3676 rows × 5 columns</p>\n",
       "</div>"
      ],
      "text/plain": [
       "                                           course_title               level  \\\n",
       "0                  Learn HTML5 Programming From Scratch      Beginner Level   \n",
       "1                        Coding for Entrepreneurs Basic        Expert Level   \n",
       "2                            The Web Developer Bootcamp      Beginner Level   \n",
       "3     Build Your First Website in 1 Week with HTML5 ...          All Levels   \n",
       "4                 The Complete Web Developer Course 2.0      Beginner Level   \n",
       "...                                                 ...                 ...   \n",
       "3671                           Foundations of Investing      Beginner Level   \n",
       "3672        60 Minutes to Fundamental Accounting Skills          All Levels   \n",
       "3673                           Teeter-Totter Accounting  Intermediate Level   \n",
       "3674                Financial Statement Auditing Cycles          All Levels   \n",
       "3675          The Cash Flow Statement - An Introduction          All Levels   \n",
       "\n",
       "               subject        Date Free/Paid  \n",
       "0      Web Development  2013-02-14      Free  \n",
       "1      Web Development  2013-06-09      Free  \n",
       "2      Web Development  2015-11-02      Paid  \n",
       "3      Web Development  2014-04-08      Free  \n",
       "4      Web Development  2016-03-08      Paid  \n",
       "...                ...         ...       ...  \n",
       "3671  Business Finance  2016-07-27      Paid  \n",
       "3672  Business Finance  2017-06-28      Paid  \n",
       "3673  Business Finance  2017-02-08      Paid  \n",
       "3674  Business Finance  2017-06-29      Paid  \n",
       "3675  Business Finance  2017-06-28      Paid  \n",
       "\n",
       "[3676 rows x 5 columns]"
      ]
     },
     "execution_count": 83,
     "metadata": {},
     "output_type": "execute_result"
    }
   ],
   "source": [
    "#table for the categorical variables\n",
    "udata.loc[:,category]"
   ]
  },
  {
   "cell_type": "code",
   "execution_count": 53,
   "id": "02221850",
   "metadata": {},
   "outputs": [],
   "source": [
    "import colorama\n",
    "from colorama import Fore"
   ]
  },
  {
   "cell_type": "markdown",
   "id": "da9c2553",
   "metadata": {},
   "source": [
    "### Statistical Testing using Chisquare:"
   ]
  },
  {
   "cell_type": "code",
   "execution_count": 87,
   "id": "e858e435",
   "metadata": {
    "scrolled": false
   },
   "outputs": [
    {
     "name": "stdout",
     "output_type": "stream",
     "text": [
      "course_title:\n"
     ]
    },
    {
     "data": {
      "image/png": "[encoded data removed]",
      "text/plain": [
       "<Figure size 720x360 with 1 Axes>"
      ]
     },
     "metadata": {
      "needs_background": "light"
     },
     "output_type": "display_data"
    },
    {
     "name": "stdout",
     "output_type": "stream",
     "text": [
      "\u001b[31m 'course_title'is a 'bad Predictor'\n",
      "p_val=0.47179417814197666\n",
      "\n",
      "level:\n"
     ]
    },
    {
     "data": {
      "image/png": "[encoded data removed]",
      "text/plain": [
       "<Figure size 720x360 with 1 Axes>"
      ]
     },
     "metadata": {
      "needs_background": "light"
     },
     "output_type": "display_data"
    },
    {
     "name": "stdout",
     "output_type": "stream",
     "text": [
      "\u001b[31m 'level'is a 'bad Predictor'\n",
      "p_val=0.610746830612338\n",
      "\n",
      "subject:\n"
     ]
    },
    {
     "data": {
      "image/png": "[encoded data removed]",
      "text/plain": [
       "<Figure size 720x360 with 1 Axes>"
      ]
     },
     "metadata": {
      "needs_background": "light"
     },
     "output_type": "display_data"
    },
    {
     "name": "stdout",
     "output_type": "stream",
     "text": [
      "\u001b[32m 'subject' is a Good Predictor\n",
      "p_val=0.00023048437912173768\n",
      "\n",
      "Date:\n"
     ]
    },
    {
     "data": {
      "image/png": "[encoded data removed]",
      "text/plain": [
       "<Figure size 720x360 with 1 Axes>"
      ]
     },
     "metadata": {
      "needs_background": "light"
     },
     "output_type": "display_data"
    },
    {
     "name": "stdout",
     "output_type": "stream",
     "text": [
      "\u001b[32m 'Date' is a Good Predictor\n",
      "p_val=0.003973861453825623\n",
      "\n",
      "Free/Paid:\n"
     ]
    },
    {
     "data": {
      "image/png": "[encoded data removed]",
      "text/plain": [
       "<Figure size 720x360 with 1 Axes>"
      ]
     },
     "metadata": {
      "needs_background": "light"
     },
     "output_type": "display_data"
    },
    {
     "name": "stdout",
     "output_type": "stream",
     "text": [
      "\u001b[32m 'Free/Paid' is a Good Predictor\n",
      "p_val=0.0\n",
      "\n"
     ]
    }
   ],
   "source": [
    "for i in category:\n",
    "    print(i+\":\")\n",
    "    plt.figure(figsize=(10,5))\n",
    "    sns.countplot(x=i,data=udata,hue='Free/Paid')\n",
    "    plt.show()\n",
    "    \n",
    "    a=np.array(pd.crosstab(udata['Free/Paid'],udata[i]))\n",
    "    (stats,p,dof,_) = chi2_contingency(a,correction=False)\n",
    "    \n",
    "    if p>0.05:\n",
    "        print(Fore.RED + \" '{}'is a 'bad Predictor'\".format(i))\n",
    "        print('p_val={}\\n'.format(p))\n",
    "        \n",
    "    else:\n",
    "        print(Fore.GREEN + \" '{}' is a Good Predictor\".format(i))\n",
    "        print('p_val={}\\n'.format(p))"
   ]
  },
  {
   "cell_type": "code",
   "execution_count": 88,
   "id": "f1aa585c",
   "metadata": {},
   "outputs": [],
   "source": [
    "# Course title and level are bad predictors so we can drop them\n",
    "udata.drop(['course_title','level'],axis=1,inplace=True)"
   ]
  },
  {
   "cell_type": "code",
   "execution_count": 89,
   "id": "d00d4177",
   "metadata": {},
   "outputs": [],
   "source": [
    "## Continous variables\n",
    "\n",
    "column_name = udata.columns.tolist()\n",
    "\n",
    "continuous = list(set(column_name)-set(category)) "
   ]
  },
  {
   "cell_type": "code",
   "execution_count": 90,
   "id": "85b28464",
   "metadata": {},
   "outputs": [
    {
     "data": {
      "text/plain": [
       "['rating',\n",
       " 'num_reviews',\n",
       " 'content_duration',\n",
       " 'price',\n",
       " 'num_subscribers',\n",
       " 'num_lectures']"
      ]
     },
     "execution_count": 90,
     "metadata": {},
     "output_type": "execute_result"
    }
   ],
   "source": [
    "continuous"
   ]
  },
  {
   "cell_type": "code",
   "execution_count": 91,
   "id": "7275a94f",
   "metadata": {},
   "outputs": [
    {
     "data": {
      "text/html": [
       "<div>\n",
       "<style scoped>\n",
       "    .dataframe tbody tr th:only-of-type {\n",
       "        vertical-align: middle;\n",
       "    }\n",
       "\n",
       "    .dataframe tbody tr th {\n",
       "        vertical-align: top;\n",
       "    }\n",
       "\n",
       "    .dataframe thead th {\n",
       "        text-align: right;\n",
       "    }\n",
       "</style>\n",
       "<table border=\"1\" class=\"dataframe\">\n",
       "  <thead>\n",
       "    <tr style=\"text-align: right;\">\n",
       "      <th></th>\n",
       "      <th>rating</th>\n",
       "      <th>num_reviews</th>\n",
       "      <th>content_duration</th>\n",
       "      <th>price</th>\n",
       "      <th>num_subscribers</th>\n",
       "      <th>num_lectures</th>\n",
       "    </tr>\n",
       "  </thead>\n",
       "  <tbody>\n",
       "    <tr>\n",
       "      <th>0</th>\n",
       "      <td>0.82</td>\n",
       "      <td>8629</td>\n",
       "      <td>10.5</td>\n",
       "      <td>0</td>\n",
       "      <td>268923</td>\n",
       "      <td>45</td>\n",
       "    </tr>\n",
       "    <tr>\n",
       "      <th>1</th>\n",
       "      <td>0.69</td>\n",
       "      <td>279</td>\n",
       "      <td>3.5</td>\n",
       "      <td>0</td>\n",
       "      <td>161029</td>\n",
       "      <td>27</td>\n",
       "    </tr>\n",
       "    <tr>\n",
       "      <th>2</th>\n",
       "      <td>0.89</td>\n",
       "      <td>27445</td>\n",
       "      <td>43.0</td>\n",
       "      <td>200</td>\n",
       "      <td>121584</td>\n",
       "      <td>342</td>\n",
       "    </tr>\n",
       "    <tr>\n",
       "      <th>3</th>\n",
       "      <td>0.78</td>\n",
       "      <td>5924</td>\n",
       "      <td>3.0</td>\n",
       "      <td>0</td>\n",
       "      <td>120291</td>\n",
       "      <td>30</td>\n",
       "    </tr>\n",
       "    <tr>\n",
       "      <th>4</th>\n",
       "      <td>0.55</td>\n",
       "      <td>22412</td>\n",
       "      <td>30.5</td>\n",
       "      <td>200</td>\n",
       "      <td>114512</td>\n",
       "      <td>304</td>\n",
       "    </tr>\n",
       "    <tr>\n",
       "      <th>...</th>\n",
       "      <td>...</td>\n",
       "      <td>...</td>\n",
       "      <td>...</td>\n",
       "      <td>...</td>\n",
       "      <td>...</td>\n",
       "      <td>...</td>\n",
       "    </tr>\n",
       "    <tr>\n",
       "      <th>3671</th>\n",
       "      <td>0.95</td>\n",
       "      <td>0</td>\n",
       "      <td>2.0</td>\n",
       "      <td>40</td>\n",
       "      <td>0</td>\n",
       "      <td>18</td>\n",
       "    </tr>\n",
       "    <tr>\n",
       "      <th>3672</th>\n",
       "      <td>0.95</td>\n",
       "      <td>0</td>\n",
       "      <td>2.5</td>\n",
       "      <td>75</td>\n",
       "      <td>0</td>\n",
       "      <td>9</td>\n",
       "    </tr>\n",
       "    <tr>\n",
       "      <th>3673</th>\n",
       "      <td>0.36</td>\n",
       "      <td>0</td>\n",
       "      <td>1.0</td>\n",
       "      <td>90</td>\n",
       "      <td>0</td>\n",
       "      <td>12</td>\n",
       "    </tr>\n",
       "    <tr>\n",
       "      <th>3674</th>\n",
       "      <td>0.15</td>\n",
       "      <td>0</td>\n",
       "      <td>2.0</td>\n",
       "      <td>50</td>\n",
       "      <td>0</td>\n",
       "      <td>9</td>\n",
       "    </tr>\n",
       "    <tr>\n",
       "      <th>3675</th>\n",
       "      <td>0.18</td>\n",
       "      <td>0</td>\n",
       "      <td>1.5</td>\n",
       "      <td>50</td>\n",
       "      <td>0</td>\n",
       "      <td>10</td>\n",
       "    </tr>\n",
       "  </tbody>\n",
       "</table>\n",
       "<p>3676 rows × 6 columns</p>\n",
       "</div>"
      ],
      "text/plain": [
       "      rating  num_reviews  content_duration  price  num_subscribers  \\\n",
       "0       0.82         8629              10.5      0           268923   \n",
       "1       0.69          279               3.5      0           161029   \n",
       "2       0.89        27445              43.0    200           121584   \n",
       "3       0.78         5924               3.0      0           120291   \n",
       "4       0.55        22412              30.5    200           114512   \n",
       "...      ...          ...               ...    ...              ...   \n",
       "3671    0.95            0               2.0     40                0   \n",
       "3672    0.95            0               2.5     75                0   \n",
       "3673    0.36            0               1.0     90                0   \n",
       "3674    0.15            0               2.0     50                0   \n",
       "3675    0.18            0               1.5     50                0   \n",
       "\n",
       "      num_lectures  \n",
       "0               45  \n",
       "1               27  \n",
       "2              342  \n",
       "3               30  \n",
       "4              304  \n",
       "...            ...  \n",
       "3671            18  \n",
       "3672             9  \n",
       "3673            12  \n",
       "3674             9  \n",
       "3675            10  \n",
       "\n",
       "[3676 rows x 6 columns]"
      ]
     },
     "execution_count": 91,
     "metadata": {},
     "output_type": "execute_result"
    }
   ],
   "source": [
    "udata.loc[:,continuous]"
   ]
  },
  {
   "cell_type": "code",
   "execution_count": 92,
   "id": "5840e705",
   "metadata": {},
   "outputs": [
    {
     "name": "stdout",
     "output_type": "stream",
     "text": [
      "rating:\n"
     ]
    },
    {
     "data": {
      "image/png": "[encoded data removed]",
      "text/plain": [
       "<Figure size 720x360 with 1 Axes>"
      ]
     },
     "metadata": {
      "needs_background": "light"
     },
     "output_type": "display_data"
    },
    {
     "data": {
      "image/png": "[encoded data removed]",
      "text/plain": [
       "<Figure size 432x288 with 1 Axes>"
      ]
     },
     "metadata": {
      "needs_background": "light"
     },
     "output_type": "display_data"
    },
    {
     "name": "stdout",
     "output_type": "stream",
     "text": [
      "num_reviews:\n"
     ]
    },
    {
     "data": {
      "image/png": "[encoded data removed]",
      "text/plain": [
       "<Figure size 720x360 with 1 Axes>"
      ]
     },
     "metadata": {
      "needs_background": "light"
     },
     "output_type": "display_data"
    },
    {
     "data": {
      "image/png": "[encoded data removed]",
      "text/plain": [
       "<Figure size 432x288 with 1 Axes>"
      ]
     },
     "metadata": {
      "needs_background": "light"
     },
     "output_type": "display_data"
    },
    {
     "name": "stdout",
     "output_type": "stream",
     "text": [
      "content_duration:\n"
     ]
    },
    {
     "data": {
      "image/png": "[encoded data removed]",
      "text/plain": [
       "<Figure size 720x360 with 1 Axes>"
      ]
     },
     "metadata": {
      "needs_background": "light"
     },
     "output_type": "display_data"
    },
    {
     "data": {
      "image/png": "[encoded data removed]",
      "text/plain": [
       "<Figure size 432x288 with 1 Axes>"
      ]
     },
     "metadata": {
      "needs_background": "light"
     },
     "output_type": "display_data"
    },
    {
     "name": "stdout",
     "output_type": "stream",
     "text": [
      "price:\n"
     ]
    },
    {
     "data": {
      "image/png": "[encoded data removed]",
      "text/plain": [
       "<Figure size 720x360 with 1 Axes>"
      ]
     },
     "metadata": {
      "needs_background": "light"
     },
     "output_type": "display_data"
    },
    {
     "data": {
      "image/png": "[encoded data removed]",
      "text/plain": [
       "<Figure size 432x288 with 1 Axes>"
      ]
     },
     "metadata": {
      "needs_background": "light"
     },
     "output_type": "display_data"
    },
    {
     "name": "stdout",
     "output_type": "stream",
     "text": [
      "num_subscribers:\n"
     ]
    },
    {
     "data": {
      "image/png": "[encoded data removed]",
      "text/plain": [
       "<Figure size 720x360 with 1 Axes>"
      ]
     },
     "metadata": {
      "needs_background": "light"
     },
     "output_type": "display_data"
    },
    {
     "data": {
      "image/png": "[encoded data removed]",
      "text/plain": [
       "<Figure size 432x288 with 1 Axes>"
      ]
     },
     "metadata": {
      "needs_background": "light"
     },
     "output_type": "display_data"
    },
    {
     "name": "stdout",
     "output_type": "stream",
     "text": [
      "num_lectures:\n"
     ]
    },
    {
     "data": {
      "image/png": "[encoded data removed]",
      "text/plain": [
       "<Figure size 720x360 with 1 Axes>"
      ]
     },
     "metadata": {
      "needs_background": "light"
     },
     "output_type": "display_data"
    },
    {
     "data": {
      "image/png": "[encoded data removed]",
      "text/plain": [
       "<Figure size 432x288 with 1 Axes>"
      ]
     },
     "metadata": {
      "needs_background": "light"
     },
     "output_type": "display_data"
    }
   ],
   "source": [
    "# visualize the continuous data\n",
    "\n",
    "for i in continuous:\n",
    "    print(i+\":\")\n",
    "    plt.figure(figsize=(10,5))\n",
    "    sns.histplot(udata[i])\n",
    "    plt.xlabel(i)\n",
    "    plt.ylabel('counts')\n",
    "    plt.title('Histogram of ' + i)\n",
    "    plt.show()\n",
    "    udata[i].plot.box(vert=False,patch_artist=True)\n",
    "    plt.xlabel(i)\n",
    "    plt.show()"
   ]
  },
  {
   "cell_type": "markdown",
   "id": "b023aca7",
   "metadata": {},
   "source": [
    "## Treating Outliers:"
   ]
  },
  {
   "cell_type": "code",
   "execution_count": 65,
   "id": "ac58efa9",
   "metadata": {},
   "outputs": [],
   "source": [
    "iqr = iqr"
   ]
  },
  {
   "cell_type": "code",
   "execution_count": null,
   "id": "6e569fdf",
   "metadata": {
    "scrolled": false
   },
   "outputs": [],
   "source": [
    "for i in continuous:\n",
    "    print(i+\":\")\n",
    "    plt.figure(figsize=(20,10))\n",
    "    udata[i].plot.box(vert=False,patch_artist=True)\n",
    "    plt.xlabel(i)\n",
    "    plt.show()\n",
    "    \n",
    "    iqr = udata[i].describe()['75%']-udata[i].describe()['25%']\n",
    "    right_lim = udata[i].quantile(0.75)+1.5*iqr\n",
    "    left_lim = udata[i].quantile(0.25)-1.5*iqr\n",
    "    print('Left Limit:{}'.format(left_lim))\n",
    "    print('Right Limit:{}'.format(right_lim))\n",
    "    print('iqr:{}'.format(iqr))\n",
    "    \n",
    "    a=input(\"if left outlier type 'left' else 'right' else 'both' if no outliers then type:\" )\n",
    "    a=a.lower()\n",
    "    \n",
    "    if a=='left':\n",
    "        lo = float(input('by what number do you want to replace'))\n",
    "        udata[i]=[lo if val<left_lim else val for val in udata[i]]\n",
    "    elif a=='right':\n",
    "        ro=float(input('by what number do you want to replace'))\n",
    "        udata[i]=[ro if val>right_lim else val for val in udata[i]]\n",
    "    elif a=='both':\n",
    "        lo = float(input('by what number do you want to replace'))\n",
    "        \n",
    "        ro=float(input('by what number do you want to replace'))\n",
    "        udata[i]=[lo if val<left_lim else val for val in udata[i]]\n",
    "        udata[i]=[ro if val>right_lim else val for val in udata[i]]\n",
    "        \n",
    "    elif a =='no':\n",
    "        pass\n",
    "    plt.figure(figsize=(20,10))\n",
    "    udata[i].plot.box(vert=False, patch_artist=True)\n",
    "    plt.xlabel(i)\n",
    "    plt.show()"
   ]
  },
  {
   "cell_type": "code",
   "execution_count": null,
   "id": "5c33a9b1",
   "metadata": {},
   "outputs": [],
   "source": []
  }
 ],
 "metadata": {
  "kernelspec": {
   "display_name": "Python 3 (ipykernel)",
   "language": "python",
   "name": "python3"
  },
  "language_info": {
   "codemirror_mode": {
    "name": "ipython",
    "version": 3
   },
   "file_extension": ".py",
   "mimetype": "text/x-python",
   "name": "python",
   "nbconvert_exporter": "python",
   "pygments_lexer": "ipython3",
   "version": "3.9.12"
  }
 },
 "nbformat": 4,
 "nbformat_minor": 5
}
